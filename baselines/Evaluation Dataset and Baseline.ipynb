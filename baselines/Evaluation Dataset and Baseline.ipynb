{
 "cells": [
  {
   "cell_type": "markdown",
   "metadata": {},
   "source": [
    "# Bikeshare Evaluation Dataset and Baseline\n",
    "\n",
    "*Anna, Tiffany, Tina, Tres, Giulia*"
   ]
  },
  {
   "cell_type": "markdown",
   "metadata": {},
   "source": [
    "## Import Data"
   ]
  },
  {
   "cell_type": "code",
   "execution_count": 1,
   "metadata": {},
   "outputs": [],
   "source": [
    "import pandas as pd\n",
    "import os\n",
    "import glob\n",
    "import matplotlib.pyplot as plt \n",
    "from datetime import datetime\n",
    "from datetime import timedelta\n",
    "import numpy as np\n",
    "from matplotlib.ticker import PercentFormatter\n",
    "\n",
    "import geopandas as gpd\n",
    "from itertools import combinations\n",
    "import itertools\n",
    "import random\n",
    "from random import sample\n",
    "import time\n",
    "\n",
    "plt.rcParams[\"figure.figsize\"] = (15,10)\n"
   ]
  },
  {
   "cell_type": "code",
   "execution_count": 2,
   "metadata": {
    "scrolled": true
   },
   "outputs": [
    {
     "name": "stderr",
     "output_type": "stream",
     "text": [
      "/var/folders/35/_xh2j4mn5ps3_cwr_ncjwnk00000gn/T/ipykernel_76882/2226404703.py:12: DtypeWarning: Columns (14,15) have mixed types. Specify dtype option on import or set low_memory=False.\n",
      "  current_csv = pd.read_csv(f)\n",
      "/var/folders/35/_xh2j4mn5ps3_cwr_ncjwnk00000gn/T/ipykernel_76882/2226404703.py:13: FutureWarning: The frame.append method is deprecated and will be removed from pandas in a future version. Use pandas.concat instead.\n",
      "  trips_df = trips_df.append(current_csv)\n"
     ]
    },
    {
     "name": "stdout",
     "output_type": "stream",
     "text": [
      "Location: /Users/tinafang/Documents/Berkeley/W210/capstone_bikeshare/data/raw/trips/trips_df.csv\n",
      "File Name: /Users/tinafang/Documents/Berkeley/W210/capstone_bikeshare/data/raw/trips/trips_df.csv\n",
      "Content:\n"
     ]
    },
    {
     "data": {
      "text/html": [
       "<div>\n",
       "<style scoped>\n",
       "    .dataframe tbody tr th:only-of-type {\n",
       "        vertical-align: middle;\n",
       "    }\n",
       "\n",
       "    .dataframe tbody tr th {\n",
       "        vertical-align: top;\n",
       "    }\n",
       "\n",
       "    .dataframe thead th {\n",
       "        text-align: right;\n",
       "    }\n",
       "</style>\n",
       "<table border=\"1\" class=\"dataframe\">\n",
       "  <thead>\n",
       "    <tr style=\"text-align: right;\">\n",
       "      <th></th>\n",
       "      <th>Unnamed: 0</th>\n",
       "      <th>tripduration</th>\n",
       "      <th>starttime</th>\n",
       "      <th>stoptime</th>\n",
       "      <th>start station id</th>\n",
       "      <th>start station name</th>\n",
       "      <th>start station latitude</th>\n",
       "      <th>start station longitude</th>\n",
       "      <th>end station id</th>\n",
       "      <th>end station name</th>\n",
       "      <th>end station latitude</th>\n",
       "      <th>end station longitude</th>\n",
       "      <th>bikeid</th>\n",
       "      <th>usertype</th>\n",
       "      <th>postal code</th>\n",
       "      <th>birth year</th>\n",
       "      <th>gender</th>\n",
       "    </tr>\n",
       "  </thead>\n",
       "  <tbody>\n",
       "    <tr>\n",
       "      <th>0</th>\n",
       "      <td>0</td>\n",
       "      <td>259</td>\n",
       "      <td>2020-07-01 00:01:15.0430</td>\n",
       "      <td>2020-07-01 00:05:34.1010</td>\n",
       "      <td>16</td>\n",
       "      <td>Back Bay T Stop - Dartmouth St at Stuart St</td>\n",
       "      <td>42.348074</td>\n",
       "      <td>-71.076570</td>\n",
       "      <td>26</td>\n",
       "      <td>Washington St at Waltham St</td>\n",
       "      <td>42.341575</td>\n",
       "      <td>-71.068904</td>\n",
       "      <td>6059</td>\n",
       "      <td>Subscriber</td>\n",
       "      <td>02118</td>\n",
       "      <td>NaN</td>\n",
       "      <td>NaN</td>\n",
       "    </tr>\n",
       "    <tr>\n",
       "      <th>1</th>\n",
       "      <td>1</td>\n",
       "      <td>436</td>\n",
       "      <td>2020-07-01 00:03:39.1810</td>\n",
       "      <td>2020-07-01 00:10:55.4600</td>\n",
       "      <td>6</td>\n",
       "      <td>Cambridge St at Joy St</td>\n",
       "      <td>42.361257</td>\n",
       "      <td>-71.065287</td>\n",
       "      <td>152</td>\n",
       "      <td>Ink Block - Harrison Ave at Herald St</td>\n",
       "      <td>42.345901</td>\n",
       "      <td>-71.063187</td>\n",
       "      <td>2322</td>\n",
       "      <td>Customer</td>\n",
       "      <td>02114</td>\n",
       "      <td>NaN</td>\n",
       "      <td>NaN</td>\n",
       "    </tr>\n",
       "    <tr>\n",
       "      <th>2</th>\n",
       "      <td>2</td>\n",
       "      <td>1346</td>\n",
       "      <td>2020-07-01 00:04:27.0790</td>\n",
       "      <td>2020-07-01 00:26:53.2030</td>\n",
       "      <td>404</td>\n",
       "      <td>Mass Ave T Station</td>\n",
       "      <td>42.341356</td>\n",
       "      <td>-71.083370</td>\n",
       "      <td>167</td>\n",
       "      <td>Ryan Playground - Dorchester Ave at Harbor Vie...</td>\n",
       "      <td>42.317642</td>\n",
       "      <td>-71.056664</td>\n",
       "      <td>4062</td>\n",
       "      <td>Customer</td>\n",
       "      <td>NaN</td>\n",
       "      <td>NaN</td>\n",
       "      <td>NaN</td>\n",
       "    </tr>\n",
       "    <tr>\n",
       "      <th>3</th>\n",
       "      <td>3</td>\n",
       "      <td>2069</td>\n",
       "      <td>2020-07-01 00:04:56.0140</td>\n",
       "      <td>2020-07-01 00:39:25.1100</td>\n",
       "      <td>436</td>\n",
       "      <td>Maverick St at Massport Path</td>\n",
       "      <td>42.367741</td>\n",
       "      <td>-71.033360</td>\n",
       "      <td>436</td>\n",
       "      <td>Maverick St at Massport Path</td>\n",
       "      <td>42.367741</td>\n",
       "      <td>-71.033360</td>\n",
       "      <td>3858</td>\n",
       "      <td>Subscriber</td>\n",
       "      <td>02128</td>\n",
       "      <td>NaN</td>\n",
       "      <td>NaN</td>\n",
       "    </tr>\n",
       "    <tr>\n",
       "      <th>4</th>\n",
       "      <td>4</td>\n",
       "      <td>1266</td>\n",
       "      <td>2020-07-01 00:05:43.0180</td>\n",
       "      <td>2020-07-01 00:26:49.0580</td>\n",
       "      <td>404</td>\n",
       "      <td>Mass Ave T Station</td>\n",
       "      <td>42.341356</td>\n",
       "      <td>-71.083370</td>\n",
       "      <td>167</td>\n",
       "      <td>Ryan Playground - Dorchester Ave at Harbor Vie...</td>\n",
       "      <td>42.317642</td>\n",
       "      <td>-71.056664</td>\n",
       "      <td>6031</td>\n",
       "      <td>Customer</td>\n",
       "      <td>NaN</td>\n",
       "      <td>NaN</td>\n",
       "      <td>NaN</td>\n",
       "    </tr>\n",
       "    <tr>\n",
       "      <th>...</th>\n",
       "      <td>...</td>\n",
       "      <td>...</td>\n",
       "      <td>...</td>\n",
       "      <td>...</td>\n",
       "      <td>...</td>\n",
       "      <td>...</td>\n",
       "      <td>...</td>\n",
       "      <td>...</td>\n",
       "      <td>...</td>\n",
       "      <td>...</td>\n",
       "      <td>...</td>\n",
       "      <td>...</td>\n",
       "      <td>...</td>\n",
       "      <td>...</td>\n",
       "      <td>...</td>\n",
       "      <td>...</td>\n",
       "      <td>...</td>\n",
       "    </tr>\n",
       "    <tr>\n",
       "      <th>15276597</th>\n",
       "      <td>236071</td>\n",
       "      <td>775</td>\n",
       "      <td>2018-08-31 23:58:25.5780</td>\n",
       "      <td>2018-09-01 00:11:20.8620</td>\n",
       "      <td>79</td>\n",
       "      <td>Beacon St at Washington / Kirkland</td>\n",
       "      <td>42.378420</td>\n",
       "      <td>-71.105668</td>\n",
       "      <td>87</td>\n",
       "      <td>Harvard University Housing - 115 Putnam Ave at...</td>\n",
       "      <td>42.366621</td>\n",
       "      <td>-71.114214</td>\n",
       "      <td>3392</td>\n",
       "      <td>Subscriber</td>\n",
       "      <td>NaN</td>\n",
       "      <td>1989</td>\n",
       "      <td>1.0</td>\n",
       "    </tr>\n",
       "    <tr>\n",
       "      <th>15276598</th>\n",
       "      <td>236072</td>\n",
       "      <td>358</td>\n",
       "      <td>2018-08-31 23:58:28.0730</td>\n",
       "      <td>2018-09-01 00:04:26.8610</td>\n",
       "      <td>100</td>\n",
       "      <td>Davis Square</td>\n",
       "      <td>42.396969</td>\n",
       "      <td>-71.123024</td>\n",
       "      <td>111</td>\n",
       "      <td>Packard Ave at Powderhouse Blvd</td>\n",
       "      <td>42.404490</td>\n",
       "      <td>-71.123413</td>\n",
       "      <td>3345</td>\n",
       "      <td>Subscriber</td>\n",
       "      <td>NaN</td>\n",
       "      <td>1977</td>\n",
       "      <td>1.0</td>\n",
       "    </tr>\n",
       "    <tr>\n",
       "      <th>15276599</th>\n",
       "      <td>236073</td>\n",
       "      <td>518</td>\n",
       "      <td>2018-08-31 23:58:35.2490</td>\n",
       "      <td>2018-09-01 00:07:13.5640</td>\n",
       "      <td>177</td>\n",
       "      <td>University Park</td>\n",
       "      <td>42.362648</td>\n",
       "      <td>-71.100061</td>\n",
       "      <td>96</td>\n",
       "      <td>Cambridge Main Library at Broadway / Trowbridg...</td>\n",
       "      <td>42.373379</td>\n",
       "      <td>-71.111075</td>\n",
       "      <td>2943</td>\n",
       "      <td>Subscriber</td>\n",
       "      <td>NaN</td>\n",
       "      <td>1980</td>\n",
       "      <td>1.0</td>\n",
       "    </tr>\n",
       "    <tr>\n",
       "      <th>15276600</th>\n",
       "      <td>236074</td>\n",
       "      <td>370</td>\n",
       "      <td>2018-08-31 23:59:06.3960</td>\n",
       "      <td>2018-09-01 00:05:17.2460</td>\n",
       "      <td>105</td>\n",
       "      <td>Lower Cambridgeport at Magazine St / Riverside Rd</td>\n",
       "      <td>42.357219</td>\n",
       "      <td>-71.113872</td>\n",
       "      <td>97</td>\n",
       "      <td>Harvard University River Houses at DeWolfe St ...</td>\n",
       "      <td>42.369190</td>\n",
       "      <td>-71.117141</td>\n",
       "      <td>850</td>\n",
       "      <td>Subscriber</td>\n",
       "      <td>NaN</td>\n",
       "      <td>1994</td>\n",
       "      <td>2.0</td>\n",
       "    </tr>\n",
       "    <tr>\n",
       "      <th>15276601</th>\n",
       "      <td>236075</td>\n",
       "      <td>485</td>\n",
       "      <td>2018-08-31 23:59:42.3330</td>\n",
       "      <td>2018-09-01 00:07:47.4040</td>\n",
       "      <td>163</td>\n",
       "      <td>The Lawn on D</td>\n",
       "      <td>42.344792</td>\n",
       "      <td>-71.044024</td>\n",
       "      <td>35</td>\n",
       "      <td>Arch St at Franklin St</td>\n",
       "      <td>42.355335</td>\n",
       "      <td>-71.058229</td>\n",
       "      <td>3740</td>\n",
       "      <td>Subscriber</td>\n",
       "      <td>NaN</td>\n",
       "      <td>1989</td>\n",
       "      <td>2.0</td>\n",
       "    </tr>\n",
       "  </tbody>\n",
       "</table>\n",
       "<p>15276602 rows × 17 columns</p>\n",
       "</div>"
      ],
      "text/plain": [
       "          Unnamed: 0  tripduration                 starttime  \\\n",
       "0                  0           259  2020-07-01 00:01:15.0430   \n",
       "1                  1           436  2020-07-01 00:03:39.1810   \n",
       "2                  2          1346  2020-07-01 00:04:27.0790   \n",
       "3                  3          2069  2020-07-01 00:04:56.0140   \n",
       "4                  4          1266  2020-07-01 00:05:43.0180   \n",
       "...              ...           ...                       ...   \n",
       "15276597      236071           775  2018-08-31 23:58:25.5780   \n",
       "15276598      236072           358  2018-08-31 23:58:28.0730   \n",
       "15276599      236073           518  2018-08-31 23:58:35.2490   \n",
       "15276600      236074           370  2018-08-31 23:59:06.3960   \n",
       "15276601      236075           485  2018-08-31 23:59:42.3330   \n",
       "\n",
       "                          stoptime  start station id  \\\n",
       "0         2020-07-01 00:05:34.1010                16   \n",
       "1         2020-07-01 00:10:55.4600                 6   \n",
       "2         2020-07-01 00:26:53.2030               404   \n",
       "3         2020-07-01 00:39:25.1100               436   \n",
       "4         2020-07-01 00:26:49.0580               404   \n",
       "...                            ...               ...   \n",
       "15276597  2018-09-01 00:11:20.8620                79   \n",
       "15276598  2018-09-01 00:04:26.8610               100   \n",
       "15276599  2018-09-01 00:07:13.5640               177   \n",
       "15276600  2018-09-01 00:05:17.2460               105   \n",
       "15276601  2018-09-01 00:07:47.4040               163   \n",
       "\n",
       "                                         start station name  \\\n",
       "0               Back Bay T Stop - Dartmouth St at Stuart St   \n",
       "1                                    Cambridge St at Joy St   \n",
       "2                                        Mass Ave T Station   \n",
       "3                              Maverick St at Massport Path   \n",
       "4                                        Mass Ave T Station   \n",
       "...                                                     ...   \n",
       "15276597                 Beacon St at Washington / Kirkland   \n",
       "15276598                                       Davis Square   \n",
       "15276599                                    University Park   \n",
       "15276600  Lower Cambridgeport at Magazine St / Riverside Rd   \n",
       "15276601                                      The Lawn on D   \n",
       "\n",
       "          start station latitude  start station longitude  end station id  \\\n",
       "0                      42.348074               -71.076570              26   \n",
       "1                      42.361257               -71.065287             152   \n",
       "2                      42.341356               -71.083370             167   \n",
       "3                      42.367741               -71.033360             436   \n",
       "4                      42.341356               -71.083370             167   \n",
       "...                          ...                      ...             ...   \n",
       "15276597               42.378420               -71.105668              87   \n",
       "15276598               42.396969               -71.123024             111   \n",
       "15276599               42.362648               -71.100061              96   \n",
       "15276600               42.357219               -71.113872              97   \n",
       "15276601               42.344792               -71.044024              35   \n",
       "\n",
       "                                           end station name  \\\n",
       "0                               Washington St at Waltham St   \n",
       "1                     Ink Block - Harrison Ave at Herald St   \n",
       "2         Ryan Playground - Dorchester Ave at Harbor Vie...   \n",
       "3                              Maverick St at Massport Path   \n",
       "4         Ryan Playground - Dorchester Ave at Harbor Vie...   \n",
       "...                                                     ...   \n",
       "15276597  Harvard University Housing - 115 Putnam Ave at...   \n",
       "15276598                    Packard Ave at Powderhouse Blvd   \n",
       "15276599  Cambridge Main Library at Broadway / Trowbridg...   \n",
       "15276600  Harvard University River Houses at DeWolfe St ...   \n",
       "15276601                             Arch St at Franklin St   \n",
       "\n",
       "          end station latitude  end station longitude  bikeid    usertype  \\\n",
       "0                    42.341575             -71.068904    6059  Subscriber   \n",
       "1                    42.345901             -71.063187    2322    Customer   \n",
       "2                    42.317642             -71.056664    4062    Customer   \n",
       "3                    42.367741             -71.033360    3858  Subscriber   \n",
       "4                    42.317642             -71.056664    6031    Customer   \n",
       "...                        ...                    ...     ...         ...   \n",
       "15276597             42.366621             -71.114214    3392  Subscriber   \n",
       "15276598             42.404490             -71.123413    3345  Subscriber   \n",
       "15276599             42.373379             -71.111075    2943  Subscriber   \n",
       "15276600             42.369190             -71.117141     850  Subscriber   \n",
       "15276601             42.355335             -71.058229    3740  Subscriber   \n",
       "\n",
       "         postal code birth year  gender  \n",
       "0              02118        NaN     NaN  \n",
       "1              02114        NaN     NaN  \n",
       "2                NaN        NaN     NaN  \n",
       "3              02128        NaN     NaN  \n",
       "4                NaN        NaN     NaN  \n",
       "...              ...        ...     ...  \n",
       "15276597         NaN       1989     1.0  \n",
       "15276598         NaN       1977     1.0  \n",
       "15276599         NaN       1980     1.0  \n",
       "15276600         NaN       1994     2.0  \n",
       "15276601         NaN       1989     2.0  \n",
       "\n",
       "[15276602 rows x 17 columns]"
      ]
     },
     "metadata": {},
     "output_type": "display_data"
    },
    {
     "name": "stdout",
     "output_type": "stream",
     "text": [
      "\n"
     ]
    }
   ],
   "source": [
    "path = os.getcwd() + \"/data/raw/trips\"\n",
    "csv_files = glob.glob(os.path.join(path, \"*.csv\"))\n",
    "\n",
    "# trips_df = pd.read_csv('data/raw/trips/trips_df_mini.csv')\n",
    "  \n",
    "trips_df = pd.DataFrame()\n",
    "\n",
    "# loop over the list of csv files\n",
    "for f in csv_files:\n",
    "      \n",
    "#     read the csv file\n",
    "    current_csv = pd.read_csv(f)\n",
    "    trips_df = trips_df.append(current_csv)\n",
    "#     print the location and filename\n",
    "    print('Location:', f)\n",
    "    print('File Name:', f.split(\"\\\\\")[-1])\n",
    "\n",
    "#     print the content\n",
    "    print('Content:')\n",
    "    display(trips_df)\n",
    "    print()\n"
   ]
  },
  {
   "cell_type": "code",
   "execution_count": 3,
   "metadata": {},
   "outputs": [],
   "source": [
    "trips_df.drop(columns=['Unnamed: 0'], inplace=True)"
   ]
  },
  {
   "cell_type": "code",
   "execution_count": 4,
   "metadata": {
    "scrolled": true
   },
   "outputs": [],
   "source": [
    "stations = pd.read_csv(\"data/raw/stations/current_bluebikes_stations.csv\")\n",
    "stations.columns = stations.iloc[0]\n",
    "stations = stations.drop(stations.index[0])"
   ]
  },
  {
   "cell_type": "code",
   "execution_count": 5,
   "metadata": {},
   "outputs": [],
   "source": [
    "# Set as datetime object\n",
    "trips_df['starttime'] = pd.to_datetime(trips_df[\"starttime\"], format='%Y-%m-%d %H:%M:%S')\n",
    "trips_df['stoptime'] = pd.to_datetime(trips_df[\"stoptime\"], format='%Y-%m-%d %H:%M:%S')\n"
   ]
  },
  {
   "cell_type": "code",
   "execution_count": 6,
   "metadata": {
    "scrolled": true
   },
   "outputs": [
    {
     "name": "stdout",
     "output_type": "stream",
     "text": [
      "15276602 : original length\n",
      "15263061 : after removal\n"
     ]
    }
   ],
   "source": [
    "print(len(trips_df), \": original length\") \n",
    "\n",
    "#trip duration\n",
    "\n",
    "trips_df = trips_df[trips_df['tripduration'] < 90000]  #threshhold of 25 hrs....\n",
    "\n",
    "#lat/long \n",
    "\n",
    "\n",
    "\n",
    "trips_df = trips_df[trips_df['start station longitude'] != 0  & \n",
    "                    \n",
    "                   (trips_df['start station longitude'] < 72)]\n",
    "\n",
    "trips_df = trips_df[(trips_df['start station latitude'] != 0) & \n",
    "                    \n",
    "                   (trips_df['start station latitude'] < 43)]\n",
    "\n",
    "trips_df = trips_df[(trips_df['end station longitude'] != 0) &\n",
    "                   (trips_df['end station longitude'] != r\"\\N\")]\n",
    "\n",
    "trips_df = trips_df[(trips_df['end station latitude'] != 0) &\n",
    "                   (trips_df['end station latitude'] != r\"\\N\")]\n",
    "\n",
    "print(len(trips_df), \": after removal\")"
   ]
  },
  {
   "cell_type": "markdown",
   "metadata": {},
   "source": [
    "## Create evaluation Dataset"
   ]
  },
  {
   "cell_type": "markdown",
   "metadata": {},
   "source": [
    "### Create helper functions"
   ]
  },
  {
   "cell_type": "code",
   "execution_count": 7,
   "metadata": {},
   "outputs": [],
   "source": [
    "def get_movement_starts(station_id, prediction_time, prediction_window):\n",
    "    trips_df_subset_start = trips_df[trips_df['start station id'] == station_id]\n",
    "    target_time = prediction_time + pd.to_timedelta(prediction_window, unit='m')\n",
    "    trips_df_station_starts = trips_df_subset_start[(trips_df_subset_start['starttime'] > prediction_time) & \n",
    "                                                (trips_df_subset_start['starttime'] < target_time)].sort_values(by='starttime')\n",
    "\n",
    "    return len(trips_df_station_starts)\n"
   ]
  },
  {
   "cell_type": "code",
   "execution_count": 8,
   "metadata": {},
   "outputs": [],
   "source": [
    "def get_movement_returns(station_id, prediction_time, prediction_window):\n",
    "    trips_df_subset_return = trips_df[trips_df['end station id'] == station_id]\n",
    "    target_time = prediction_time + pd.to_timedelta(prediction_window, unit='m')\n",
    "    trips_df_station_returns = trips_df_subset_return[(trips_df_subset_return['stoptime'] > prediction_time) & \n",
    "                                                   (trips_df_subset_return['stoptime'] < target_time)].sort_values(by='stoptime')\n",
    "\n",
    "    return len(trips_df_station_returns)\n"
   ]
  },
  {
   "cell_type": "code",
   "execution_count": 9,
   "metadata": {},
   "outputs": [],
   "source": [
    "def convert_to_nearest_15_mins(sample_trip_timestamp, delta):\n",
    "    sample_trip_epoch = sample_trip_timestamp.timestamp()\n",
    "    converted_datetime = datetime.utcfromtimestamp(sample_trip_epoch)\n",
    "    converted_15_datetime = converted_datetime + (datetime.min - converted_datetime) % delta\n",
    "    return converted_15_datetime"
   ]
  },
  {
   "cell_type": "markdown",
   "metadata": {},
   "source": [
    "### Creating the full list of combinations to be filled"
   ]
  },
  {
   "cell_type": "markdown",
   "metadata": {},
   "source": [
    "#### Create timestamps for prediction\n",
    "Set to be in 15 minute intervals"
   ]
  },
  {
   "cell_type": "code",
   "execution_count": 10,
   "metadata": {
    "scrolled": true
   },
   "outputs": [],
   "source": [
    "# random timestamps that we want to predict from\n",
    "lst_timestamps = trips_df.starttime.sample(1000, random_state=321).apply(convert_to_nearest_15_mins, \n",
    "                                                     args=(timedelta(minutes=15),))\n",
    "\n",
    "# lst_timestamps = [pd.Timestamp(2021, 5, 5, 13)] - one example"
   ]
  },
  {
   "cell_type": "code",
   "execution_count": 11,
   "metadata": {},
   "outputs": [],
   "source": [
    "trip_df_station_counts = trips_df.groupby('start station id').count().reset_index()[['start station id', 'starttime']].rename(columns={\"starttime\": \"station_counts\"})\n",
    "# get the counts of each station to weigh the sample"
   ]
  },
  {
   "cell_type": "markdown",
   "metadata": {},
   "source": [
    "#### Create list of stations weighted by trip count"
   ]
  },
  {
   "cell_type": "code",
   "execution_count": 12,
   "metadata": {
    "scrolled": true
   },
   "outputs": [],
   "source": [
    "random.seed(321)\n",
    "station_ids_reweighted = random.choices(trip_df_station_counts['start station id'], weights = trip_df_station_counts.station_counts, k = 1000)\n"
   ]
  },
  {
   "cell_type": "code",
   "execution_count": 13,
   "metadata": {},
   "outputs": [],
   "source": [
    "station_ids = station_ids_reweighted # all stations\n",
    "prediction_windows = [15] # 15 minutes only\n",
    "prediction_start_timestamps = lst_timestamps # 1000"
   ]
  },
  {
   "cell_type": "markdown",
   "metadata": {},
   "source": [
    "#### Create the combination of station ids, prediction start timestamps, and prediction windows"
   ]
  },
  {
   "cell_type": "code",
   "execution_count": 14,
   "metadata": {
    "scrolled": true
   },
   "outputs": [],
   "source": [
    "lst_combinations = list(itertools.product(station_ids, prediction_start_timestamps, prediction_windows))\n"
   ]
  },
  {
   "cell_type": "code",
   "execution_count": 15,
   "metadata": {
    "scrolled": true
   },
   "outputs": [
    {
     "data": {
      "text/plain": [
       "1000000"
      ]
     },
     "execution_count": 15,
     "metadata": {},
     "output_type": "execute_result"
    }
   ],
   "source": [
    "len(lst_combinations) # 1000 * 1 * 1000"
   ]
  },
  {
   "cell_type": "markdown",
   "metadata": {},
   "source": [
    "### Taking a subset of the full list of combinations"
   ]
  },
  {
   "cell_type": "code",
   "execution_count": 16,
   "metadata": {},
   "outputs": [],
   "source": [
    "random.seed(321)\n",
    "lst_combinations_subset = random.sample(lst_combinations, 10000)"
   ]
  },
  {
   "cell_type": "markdown",
   "metadata": {},
   "source": [
    "## Filling the movement information for starts and returns"
   ]
  },
  {
   "cell_type": "code",
   "execution_count": 17,
   "metadata": {
    "scrolled": true
   },
   "outputs": [
    {
     "name": "stdout",
     "output_type": "stream",
     "text": [
      "--- 268 seconds ---\n"
     ]
    }
   ],
   "source": [
    "start_time = time.time()\n",
    "\n",
    "lst_num_of_bikes_left = [get_movement_starts(station_id=trip_combination[0],\n",
    "                                             prediction_time=trip_combination[1],\n",
    "                                             prediction_window=trip_combination[2]) for trip_combination in lst_combinations_subset]\n",
    "\n",
    "print(\"--- %s seconds ---\" % (round(time.time() - start_time)))\n"
   ]
  },
  {
   "cell_type": "code",
   "execution_count": 18,
   "metadata": {
    "scrolled": true
   },
   "outputs": [
    {
     "name": "stdout",
     "output_type": "stream",
     "text": [
      "--- 263 seconds ---\n"
     ]
    }
   ],
   "source": [
    "start_time = time.time()\n",
    "\n",
    "lst_num_of_bikes_returned = [get_movement_returns(station_id=trip_combination[0],\n",
    "                                                  prediction_time=trip_combination[1],\n",
    "                                                  prediction_window=trip_combination[2]) for trip_combination in lst_combinations_subset]\n",
    "\n",
    "print(\"--- %s seconds ---\" % (round(time.time() - start_time)))\n"
   ]
  },
  {
   "cell_type": "markdown",
   "metadata": {},
   "source": [
    "### Amount of time it takes to run\n",
    "* 2 seconds for 10 rows\n",
    "* 8 seconds for 100 rows\n",
    "* 57 seconds for 1,000 rows\n",
    "* 563 seconds for 10,000 rows (10 minutes)"
   ]
  },
  {
   "cell_type": "markdown",
   "metadata": {},
   "source": [
    "### Create dataframe based on the lists"
   ]
  },
  {
   "cell_type": "code",
   "execution_count": 19,
   "metadata": {
    "scrolled": true
   },
   "outputs": [],
   "source": [
    "data = {'station': [trip_combination[0] for trip_combination in lst_combinations_subset],\n",
    "        'prediction_time': [trip_combination[1] for trip_combination in lst_combinations_subset], \n",
    "        'prediction_window': [trip_combination[2] for trip_combination in lst_combinations_subset],\n",
    "        'number_of_bikes_left': lst_num_of_bikes_left,\n",
    "        'number_of_bikes_returned': lst_num_of_bikes_returned}\n",
    "df = pd.DataFrame(data=data)\n",
    "df['net_difference'] = df['number_of_bikes_returned'] - df['number_of_bikes_left']"
   ]
  },
  {
   "cell_type": "code",
   "execution_count": 20,
   "metadata": {
    "scrolled": false
   },
   "outputs": [
    {
     "data": {
      "text/html": [
       "<div>\n",
       "<style scoped>\n",
       "    .dataframe tbody tr th:only-of-type {\n",
       "        vertical-align: middle;\n",
       "    }\n",
       "\n",
       "    .dataframe tbody tr th {\n",
       "        vertical-align: top;\n",
       "    }\n",
       "\n",
       "    .dataframe thead th {\n",
       "        text-align: right;\n",
       "    }\n",
       "</style>\n",
       "<table border=\"1\" class=\"dataframe\">\n",
       "  <thead>\n",
       "    <tr style=\"text-align: right;\">\n",
       "      <th></th>\n",
       "      <th>station</th>\n",
       "      <th>prediction_time</th>\n",
       "      <th>prediction_window</th>\n",
       "      <th>number_of_bikes_left</th>\n",
       "      <th>number_of_bikes_returned</th>\n",
       "      <th>net_difference</th>\n",
       "    </tr>\n",
       "  </thead>\n",
       "  <tbody>\n",
       "    <tr>\n",
       "      <th>0</th>\n",
       "      <td>379</td>\n",
       "      <td>2019-10-09 08:15:00</td>\n",
       "      <td>15</td>\n",
       "      <td>0</td>\n",
       "      <td>1</td>\n",
       "      <td>1</td>\n",
       "    </tr>\n",
       "    <tr>\n",
       "      <th>1</th>\n",
       "      <td>6</td>\n",
       "      <td>2021-06-14 05:15:00</td>\n",
       "      <td>15</td>\n",
       "      <td>0</td>\n",
       "      <td>0</td>\n",
       "      <td>0</td>\n",
       "    </tr>\n",
       "    <tr>\n",
       "      <th>2</th>\n",
       "      <td>398</td>\n",
       "      <td>2021-07-16 01:00:00</td>\n",
       "      <td>15</td>\n",
       "      <td>0</td>\n",
       "      <td>0</td>\n",
       "      <td>0</td>\n",
       "    </tr>\n",
       "    <tr>\n",
       "      <th>3</th>\n",
       "      <td>46</td>\n",
       "      <td>2022-06-16 22:45:00</td>\n",
       "      <td>15</td>\n",
       "      <td>4</td>\n",
       "      <td>0</td>\n",
       "      <td>-4</td>\n",
       "    </tr>\n",
       "    <tr>\n",
       "      <th>4</th>\n",
       "      <td>70</td>\n",
       "      <td>2020-09-29 19:45:00</td>\n",
       "      <td>15</td>\n",
       "      <td>1</td>\n",
       "      <td>0</td>\n",
       "      <td>-1</td>\n",
       "    </tr>\n",
       "    <tr>\n",
       "      <th>...</th>\n",
       "      <td>...</td>\n",
       "      <td>...</td>\n",
       "      <td>...</td>\n",
       "      <td>...</td>\n",
       "      <td>...</td>\n",
       "      <td>...</td>\n",
       "    </tr>\n",
       "    <tr>\n",
       "      <th>9995</th>\n",
       "      <td>46</td>\n",
       "      <td>2021-10-29 14:30:00</td>\n",
       "      <td>15</td>\n",
       "      <td>2</td>\n",
       "      <td>1</td>\n",
       "      <td>-1</td>\n",
       "    </tr>\n",
       "    <tr>\n",
       "      <th>9996</th>\n",
       "      <td>107</td>\n",
       "      <td>2021-07-16 19:45:00</td>\n",
       "      <td>15</td>\n",
       "      <td>0</td>\n",
       "      <td>0</td>\n",
       "      <td>0</td>\n",
       "    </tr>\n",
       "    <tr>\n",
       "      <th>9997</th>\n",
       "      <td>211</td>\n",
       "      <td>2015-09-02 10:30:00</td>\n",
       "      <td>15</td>\n",
       "      <td>0</td>\n",
       "      <td>0</td>\n",
       "      <td>0</td>\n",
       "    </tr>\n",
       "    <tr>\n",
       "      <th>9998</th>\n",
       "      <td>553</td>\n",
       "      <td>2018-06-24 17:00:00</td>\n",
       "      <td>15</td>\n",
       "      <td>0</td>\n",
       "      <td>0</td>\n",
       "      <td>0</td>\n",
       "    </tr>\n",
       "    <tr>\n",
       "      <th>9999</th>\n",
       "      <td>60</td>\n",
       "      <td>2018-11-15 19:15:00</td>\n",
       "      <td>15</td>\n",
       "      <td>1</td>\n",
       "      <td>1</td>\n",
       "      <td>0</td>\n",
       "    </tr>\n",
       "  </tbody>\n",
       "</table>\n",
       "<p>10000 rows × 6 columns</p>\n",
       "</div>"
      ],
      "text/plain": [
       "      station     prediction_time  prediction_window  number_of_bikes_left  \\\n",
       "0         379 2019-10-09 08:15:00                 15                     0   \n",
       "1           6 2021-06-14 05:15:00                 15                     0   \n",
       "2         398 2021-07-16 01:00:00                 15                     0   \n",
       "3          46 2022-06-16 22:45:00                 15                     4   \n",
       "4          70 2020-09-29 19:45:00                 15                     1   \n",
       "...       ...                 ...                ...                   ...   \n",
       "9995       46 2021-10-29 14:30:00                 15                     2   \n",
       "9996      107 2021-07-16 19:45:00                 15                     0   \n",
       "9997      211 2015-09-02 10:30:00                 15                     0   \n",
       "9998      553 2018-06-24 17:00:00                 15                     0   \n",
       "9999       60 2018-11-15 19:15:00                 15                     1   \n",
       "\n",
       "      number_of_bikes_returned  net_difference  \n",
       "0                            1               1  \n",
       "1                            0               0  \n",
       "2                            0               0  \n",
       "3                            0              -4  \n",
       "4                            0              -1  \n",
       "...                        ...             ...  \n",
       "9995                         1              -1  \n",
       "9996                         0               0  \n",
       "9997                         0               0  \n",
       "9998                         0               0  \n",
       "9999                         1               0  \n",
       "\n",
       "[10000 rows x 6 columns]"
      ]
     },
     "execution_count": 20,
     "metadata": {},
     "output_type": "execute_result"
    }
   ],
   "source": [
    "df"
   ]
  },
  {
   "cell_type": "markdown",
   "metadata": {},
   "source": [
    "### Pickle it"
   ]
  },
  {
   "cell_type": "code",
   "execution_count": 21,
   "metadata": {},
   "outputs": [],
   "source": [
    "df.to_pickle('./datasets/evaluation_df.pkl')"
   ]
  },
  {
   "cell_type": "code",
   "execution_count": 22,
   "metadata": {
    "scrolled": false
   },
   "outputs": [
    {
     "data": {
      "text/html": [
       "<div>\n",
       "<style scoped>\n",
       "    .dataframe tbody tr th:only-of-type {\n",
       "        vertical-align: middle;\n",
       "    }\n",
       "\n",
       "    .dataframe tbody tr th {\n",
       "        vertical-align: top;\n",
       "    }\n",
       "\n",
       "    .dataframe thead th {\n",
       "        text-align: right;\n",
       "    }\n",
       "</style>\n",
       "<table border=\"1\" class=\"dataframe\">\n",
       "  <thead>\n",
       "    <tr style=\"text-align: right;\">\n",
       "      <th></th>\n",
       "      <th>station</th>\n",
       "      <th>prediction_time</th>\n",
       "      <th>prediction_window</th>\n",
       "      <th>number_of_bikes_left</th>\n",
       "      <th>number_of_bikes_returned</th>\n",
       "      <th>net_difference</th>\n",
       "    </tr>\n",
       "  </thead>\n",
       "  <tbody>\n",
       "    <tr>\n",
       "      <th>0</th>\n",
       "      <td>379</td>\n",
       "      <td>2019-10-09 08:15:00</td>\n",
       "      <td>15</td>\n",
       "      <td>0</td>\n",
       "      <td>1</td>\n",
       "      <td>1</td>\n",
       "    </tr>\n",
       "    <tr>\n",
       "      <th>1</th>\n",
       "      <td>6</td>\n",
       "      <td>2021-06-14 05:15:00</td>\n",
       "      <td>15</td>\n",
       "      <td>0</td>\n",
       "      <td>0</td>\n",
       "      <td>0</td>\n",
       "    </tr>\n",
       "    <tr>\n",
       "      <th>2</th>\n",
       "      <td>398</td>\n",
       "      <td>2021-07-16 01:00:00</td>\n",
       "      <td>15</td>\n",
       "      <td>0</td>\n",
       "      <td>0</td>\n",
       "      <td>0</td>\n",
       "    </tr>\n",
       "    <tr>\n",
       "      <th>3</th>\n",
       "      <td>46</td>\n",
       "      <td>2022-06-16 22:45:00</td>\n",
       "      <td>15</td>\n",
       "      <td>4</td>\n",
       "      <td>0</td>\n",
       "      <td>-4</td>\n",
       "    </tr>\n",
       "    <tr>\n",
       "      <th>4</th>\n",
       "      <td>70</td>\n",
       "      <td>2020-09-29 19:45:00</td>\n",
       "      <td>15</td>\n",
       "      <td>1</td>\n",
       "      <td>0</td>\n",
       "      <td>-1</td>\n",
       "    </tr>\n",
       "    <tr>\n",
       "      <th>...</th>\n",
       "      <td>...</td>\n",
       "      <td>...</td>\n",
       "      <td>...</td>\n",
       "      <td>...</td>\n",
       "      <td>...</td>\n",
       "      <td>...</td>\n",
       "    </tr>\n",
       "    <tr>\n",
       "      <th>9995</th>\n",
       "      <td>46</td>\n",
       "      <td>2021-10-29 14:30:00</td>\n",
       "      <td>15</td>\n",
       "      <td>2</td>\n",
       "      <td>1</td>\n",
       "      <td>-1</td>\n",
       "    </tr>\n",
       "    <tr>\n",
       "      <th>9996</th>\n",
       "      <td>107</td>\n",
       "      <td>2021-07-16 19:45:00</td>\n",
       "      <td>15</td>\n",
       "      <td>0</td>\n",
       "      <td>0</td>\n",
       "      <td>0</td>\n",
       "    </tr>\n",
       "    <tr>\n",
       "      <th>9997</th>\n",
       "      <td>211</td>\n",
       "      <td>2015-09-02 10:30:00</td>\n",
       "      <td>15</td>\n",
       "      <td>0</td>\n",
       "      <td>0</td>\n",
       "      <td>0</td>\n",
       "    </tr>\n",
       "    <tr>\n",
       "      <th>9998</th>\n",
       "      <td>553</td>\n",
       "      <td>2018-06-24 17:00:00</td>\n",
       "      <td>15</td>\n",
       "      <td>0</td>\n",
       "      <td>0</td>\n",
       "      <td>0</td>\n",
       "    </tr>\n",
       "    <tr>\n",
       "      <th>9999</th>\n",
       "      <td>60</td>\n",
       "      <td>2018-11-15 19:15:00</td>\n",
       "      <td>15</td>\n",
       "      <td>1</td>\n",
       "      <td>1</td>\n",
       "      <td>0</td>\n",
       "    </tr>\n",
       "  </tbody>\n",
       "</table>\n",
       "<p>10000 rows × 6 columns</p>\n",
       "</div>"
      ],
      "text/plain": [
       "      station     prediction_time  prediction_window  number_of_bikes_left  \\\n",
       "0         379 2019-10-09 08:15:00                 15                     0   \n",
       "1           6 2021-06-14 05:15:00                 15                     0   \n",
       "2         398 2021-07-16 01:00:00                 15                     0   \n",
       "3          46 2022-06-16 22:45:00                 15                     4   \n",
       "4          70 2020-09-29 19:45:00                 15                     1   \n",
       "...       ...                 ...                ...                   ...   \n",
       "9995       46 2021-10-29 14:30:00                 15                     2   \n",
       "9996      107 2021-07-16 19:45:00                 15                     0   \n",
       "9997      211 2015-09-02 10:30:00                 15                     0   \n",
       "9998      553 2018-06-24 17:00:00                 15                     0   \n",
       "9999       60 2018-11-15 19:15:00                 15                     1   \n",
       "\n",
       "      number_of_bikes_returned  net_difference  \n",
       "0                            1               1  \n",
       "1                            0               0  \n",
       "2                            0               0  \n",
       "3                            0              -4  \n",
       "4                            0              -1  \n",
       "...                        ...             ...  \n",
       "9995                         1              -1  \n",
       "9996                         0               0  \n",
       "9997                         0               0  \n",
       "9998                         0               0  \n",
       "9999                         1               0  \n",
       "\n",
       "[10000 rows x 6 columns]"
      ]
     },
     "execution_count": 22,
     "metadata": {},
     "output_type": "execute_result"
    }
   ],
   "source": [
    "pd.read_pickle(\"./datasets/evaluation_df.pkl\") "
   ]
  },
  {
   "cell_type": "markdown",
   "metadata": {},
   "source": [
    "### Checking the results"
   ]
  },
  {
   "cell_type": "code",
   "execution_count": 23,
   "metadata": {},
   "outputs": [],
   "source": [
    "prediction_time = pd.Timestamp(2022, 6, 16, 22, 45)\n",
    "trips_df_subset_start = trips_df[trips_df['start station id'] == 46]\n",
    "target_time = prediction_time + pd.to_timedelta(15, unit='m')\n",
    "trips_df_station_starts = trips_df_subset_start[(trips_df_subset_start['starttime'] > prediction_time) & \n",
    "                                                (trips_df_subset_start['starttime'] < target_time)].sort_values(by='starttime')"
   ]
  },
  {
   "cell_type": "code",
   "execution_count": 24,
   "metadata": {},
   "outputs": [],
   "source": [
    "prediction_time = pd.Timestamp(2022, 6, 16, 22, 45)\n",
    "trips_df_subset_return = trips_df[trips_df['end station id'] == 46]\n",
    "target_time = prediction_time + pd.to_timedelta(15, unit='m')\n",
    "trips_df_station_returns = trips_df_subset_return[(trips_df_subset_return['stoptime'] > prediction_time) & \n",
    "                                                   (trips_df_subset_return['stoptime'] < target_time)].sort_values(by='stoptime')\n"
   ]
  },
  {
   "cell_type": "code",
   "execution_count": 25,
   "metadata": {
    "scrolled": false
   },
   "outputs": [
    {
     "data": {
      "text/html": [
       "<div>\n",
       "<style scoped>\n",
       "    .dataframe tbody tr th:only-of-type {\n",
       "        vertical-align: middle;\n",
       "    }\n",
       "\n",
       "    .dataframe tbody tr th {\n",
       "        vertical-align: top;\n",
       "    }\n",
       "\n",
       "    .dataframe thead th {\n",
       "        text-align: right;\n",
       "    }\n",
       "</style>\n",
       "<table border=\"1\" class=\"dataframe\">\n",
       "  <thead>\n",
       "    <tr style=\"text-align: right;\">\n",
       "      <th></th>\n",
       "      <th>tripduration</th>\n",
       "      <th>starttime</th>\n",
       "      <th>stoptime</th>\n",
       "      <th>start station id</th>\n",
       "      <th>start station name</th>\n",
       "      <th>start station latitude</th>\n",
       "      <th>start station longitude</th>\n",
       "      <th>end station id</th>\n",
       "      <th>end station name</th>\n",
       "      <th>end station latitude</th>\n",
       "      <th>end station longitude</th>\n",
       "      <th>bikeid</th>\n",
       "      <th>usertype</th>\n",
       "      <th>postal code</th>\n",
       "      <th>birth year</th>\n",
       "      <th>gender</th>\n",
       "    </tr>\n",
       "  </thead>\n",
       "  <tbody>\n",
       "    <tr>\n",
       "      <th>10737172</th>\n",
       "      <td>428</td>\n",
       "      <td>2022-06-16 22:50:00.206</td>\n",
       "      <td>2022-06-16 22:57:08.619</td>\n",
       "      <td>46</td>\n",
       "      <td>Christian Science Plaza - Massachusetts Ave at...</td>\n",
       "      <td>42.343666</td>\n",
       "      <td>-71.085824</td>\n",
       "      <td>364</td>\n",
       "      <td>Tremont St at Northampton St</td>\n",
       "      <td>42.338432</td>\n",
       "      <td>-71.081690</td>\n",
       "      <td>7792</td>\n",
       "      <td>Customer</td>\n",
       "      <td>31322</td>\n",
       "      <td>NaN</td>\n",
       "      <td>NaN</td>\n",
       "    </tr>\n",
       "    <tr>\n",
       "      <th>10737199</th>\n",
       "      <td>1746</td>\n",
       "      <td>2022-06-16 22:51:29.020</td>\n",
       "      <td>2022-06-16 23:20:35.596</td>\n",
       "      <td>46</td>\n",
       "      <td>Christian Science Plaza - Massachusetts Ave at...</td>\n",
       "      <td>42.343666</td>\n",
       "      <td>-71.085824</td>\n",
       "      <td>54</td>\n",
       "      <td>Tremont St at West St</td>\n",
       "      <td>42.354979</td>\n",
       "      <td>-71.063348</td>\n",
       "      <td>6862</td>\n",
       "      <td>Subscriber</td>\n",
       "      <td>02120</td>\n",
       "      <td>NaN</td>\n",
       "      <td>NaN</td>\n",
       "    </tr>\n",
       "    <tr>\n",
       "      <th>10737205</th>\n",
       "      <td>2608</td>\n",
       "      <td>2022-06-16 22:51:56.924</td>\n",
       "      <td>2022-06-16 23:35:25.493</td>\n",
       "      <td>46</td>\n",
       "      <td>Christian Science Plaza - Massachusetts Ave at...</td>\n",
       "      <td>42.343666</td>\n",
       "      <td>-71.085824</td>\n",
       "      <td>46</td>\n",
       "      <td>Christian Science Plaza - Massachusetts Ave at...</td>\n",
       "      <td>42.343666</td>\n",
       "      <td>-71.085824</td>\n",
       "      <td>2719</td>\n",
       "      <td>Customer</td>\n",
       "      <td>00624</td>\n",
       "      <td>NaN</td>\n",
       "      <td>NaN</td>\n",
       "    </tr>\n",
       "    <tr>\n",
       "      <th>10737213</th>\n",
       "      <td>1725</td>\n",
       "      <td>2022-06-16 22:52:13.192</td>\n",
       "      <td>2022-06-16 23:20:58.300</td>\n",
       "      <td>46</td>\n",
       "      <td>Christian Science Plaza - Massachusetts Ave at...</td>\n",
       "      <td>42.343666</td>\n",
       "      <td>-71.085824</td>\n",
       "      <td>54</td>\n",
       "      <td>Tremont St at West St</td>\n",
       "      <td>42.354979</td>\n",
       "      <td>-71.063348</td>\n",
       "      <td>2810</td>\n",
       "      <td>Customer</td>\n",
       "      <td>NaN</td>\n",
       "      <td>NaN</td>\n",
       "      <td>NaN</td>\n",
       "    </tr>\n",
       "  </tbody>\n",
       "</table>\n",
       "</div>"
      ],
      "text/plain": [
       "          tripduration               starttime                stoptime  \\\n",
       "10737172           428 2022-06-16 22:50:00.206 2022-06-16 22:57:08.619   \n",
       "10737199          1746 2022-06-16 22:51:29.020 2022-06-16 23:20:35.596   \n",
       "10737205          2608 2022-06-16 22:51:56.924 2022-06-16 23:35:25.493   \n",
       "10737213          1725 2022-06-16 22:52:13.192 2022-06-16 23:20:58.300   \n",
       "\n",
       "          start station id                                 start station name  \\\n",
       "10737172                46  Christian Science Plaza - Massachusetts Ave at...   \n",
       "10737199                46  Christian Science Plaza - Massachusetts Ave at...   \n",
       "10737205                46  Christian Science Plaza - Massachusetts Ave at...   \n",
       "10737213                46  Christian Science Plaza - Massachusetts Ave at...   \n",
       "\n",
       "          start station latitude  start station longitude  end station id  \\\n",
       "10737172               42.343666               -71.085824             364   \n",
       "10737199               42.343666               -71.085824              54   \n",
       "10737205               42.343666               -71.085824              46   \n",
       "10737213               42.343666               -71.085824              54   \n",
       "\n",
       "                                           end station name  \\\n",
       "10737172                       Tremont St at Northampton St   \n",
       "10737199                              Tremont St at West St   \n",
       "10737205  Christian Science Plaza - Massachusetts Ave at...   \n",
       "10737213                              Tremont St at West St   \n",
       "\n",
       "          end station latitude  end station longitude  bikeid    usertype  \\\n",
       "10737172             42.338432             -71.081690    7792    Customer   \n",
       "10737199             42.354979             -71.063348    6862  Subscriber   \n",
       "10737205             42.343666             -71.085824    2719    Customer   \n",
       "10737213             42.354979             -71.063348    2810    Customer   \n",
       "\n",
       "         postal code birth year  gender  \n",
       "10737172       31322        NaN     NaN  \n",
       "10737199       02120        NaN     NaN  \n",
       "10737205       00624        NaN     NaN  \n",
       "10737213         NaN        NaN     NaN  "
      ]
     },
     "execution_count": 25,
     "metadata": {},
     "output_type": "execute_result"
    }
   ],
   "source": [
    "trips_df_station_starts"
   ]
  },
  {
   "cell_type": "code",
   "execution_count": 26,
   "metadata": {
    "scrolled": false
   },
   "outputs": [
    {
     "data": {
      "text/html": [
       "<div>\n",
       "<style scoped>\n",
       "    .dataframe tbody tr th:only-of-type {\n",
       "        vertical-align: middle;\n",
       "    }\n",
       "\n",
       "    .dataframe tbody tr th {\n",
       "        vertical-align: top;\n",
       "    }\n",
       "\n",
       "    .dataframe thead th {\n",
       "        text-align: right;\n",
       "    }\n",
       "</style>\n",
       "<table border=\"1\" class=\"dataframe\">\n",
       "  <thead>\n",
       "    <tr style=\"text-align: right;\">\n",
       "      <th></th>\n",
       "      <th>tripduration</th>\n",
       "      <th>starttime</th>\n",
       "      <th>stoptime</th>\n",
       "      <th>start station id</th>\n",
       "      <th>start station name</th>\n",
       "      <th>start station latitude</th>\n",
       "      <th>start station longitude</th>\n",
       "      <th>end station id</th>\n",
       "      <th>end station name</th>\n",
       "      <th>end station latitude</th>\n",
       "      <th>end station longitude</th>\n",
       "      <th>bikeid</th>\n",
       "      <th>usertype</th>\n",
       "      <th>postal code</th>\n",
       "      <th>birth year</th>\n",
       "      <th>gender</th>\n",
       "    </tr>\n",
       "  </thead>\n",
       "  <tbody>\n",
       "  </tbody>\n",
       "</table>\n",
       "</div>"
      ],
      "text/plain": [
       "Empty DataFrame\n",
       "Columns: [tripduration, starttime, stoptime, start station id, start station name, start station latitude, start station longitude, end station id, end station name, end station latitude, end station longitude, bikeid, usertype, postal code, birth year, gender]\n",
       "Index: []"
      ]
     },
     "execution_count": 26,
     "metadata": {},
     "output_type": "execute_result"
    }
   ],
   "source": [
    "trips_df_station_returns"
   ]
  },
  {
   "cell_type": "markdown",
   "metadata": {},
   "source": [
    "### Check another example"
   ]
  },
  {
   "cell_type": "code",
   "execution_count": 34,
   "metadata": {},
   "outputs": [],
   "source": [
    "prediction_time = pd.Timestamp(2018, 6, 24, 17)\n",
    "trips_df_subset_start = trips_df[trips_df['start station id'] == 553]\n",
    "target_time = prediction_time + pd.to_timedelta(15, unit='m')\n",
    "trips_df_station_starts = trips_df_subset_start[(trips_df_subset_start['starttime'] > prediction_time) & \n",
    "                                                (trips_df_subset_start['starttime'] < target_time)].sort_values(by='starttime')"
   ]
  },
  {
   "cell_type": "code",
   "execution_count": 35,
   "metadata": {},
   "outputs": [],
   "source": [
    "prediction_time = pd.Timestamp(2018, 6, 24, 17)\n",
    "trips_df_subset_return = trips_df[trips_df['end station id'] == 553]\n",
    "target_time = prediction_time + pd.to_timedelta(15, unit='m')\n",
    "trips_df_station_returns = trips_df_subset_return[(trips_df_subset_return['stoptime'] > prediction_time) & \n",
    "                                                   (trips_df_subset_return['stoptime'] < target_time)].sort_values(by='stoptime')\n"
   ]
  },
  {
   "cell_type": "code",
   "execution_count": 36,
   "metadata": {
    "scrolled": false
   },
   "outputs": [
    {
     "data": {
      "text/html": [
       "<div>\n",
       "<style scoped>\n",
       "    .dataframe tbody tr th:only-of-type {\n",
       "        vertical-align: middle;\n",
       "    }\n",
       "\n",
       "    .dataframe tbody tr th {\n",
       "        vertical-align: top;\n",
       "    }\n",
       "\n",
       "    .dataframe thead th {\n",
       "        text-align: right;\n",
       "    }\n",
       "</style>\n",
       "<table border=\"1\" class=\"dataframe\">\n",
       "  <thead>\n",
       "    <tr style=\"text-align: right;\">\n",
       "      <th></th>\n",
       "      <th>tripduration</th>\n",
       "      <th>starttime</th>\n",
       "      <th>stoptime</th>\n",
       "      <th>start station id</th>\n",
       "      <th>start station name</th>\n",
       "      <th>start station latitude</th>\n",
       "      <th>start station longitude</th>\n",
       "      <th>end station id</th>\n",
       "      <th>end station name</th>\n",
       "      <th>end station latitude</th>\n",
       "      <th>end station longitude</th>\n",
       "      <th>bikeid</th>\n",
       "      <th>usertype</th>\n",
       "      <th>postal code</th>\n",
       "      <th>birth year</th>\n",
       "      <th>gender</th>\n",
       "    </tr>\n",
       "  </thead>\n",
       "  <tbody>\n",
       "  </tbody>\n",
       "</table>\n",
       "</div>"
      ],
      "text/plain": [
       "Empty DataFrame\n",
       "Columns: [tripduration, starttime, stoptime, start station id, start station name, start station latitude, start station longitude, end station id, end station name, end station latitude, end station longitude, bikeid, usertype, postal code, birth year, gender]\n",
       "Index: []"
      ]
     },
     "execution_count": 36,
     "metadata": {},
     "output_type": "execute_result"
    }
   ],
   "source": [
    "trips_df_station_starts"
   ]
  },
  {
   "cell_type": "code",
   "execution_count": 37,
   "metadata": {
    "scrolled": false
   },
   "outputs": [
    {
     "data": {
      "text/html": [
       "<div>\n",
       "<style scoped>\n",
       "    .dataframe tbody tr th:only-of-type {\n",
       "        vertical-align: middle;\n",
       "    }\n",
       "\n",
       "    .dataframe tbody tr th {\n",
       "        vertical-align: top;\n",
       "    }\n",
       "\n",
       "    .dataframe thead th {\n",
       "        text-align: right;\n",
       "    }\n",
       "</style>\n",
       "<table border=\"1\" class=\"dataframe\">\n",
       "  <thead>\n",
       "    <tr style=\"text-align: right;\">\n",
       "      <th></th>\n",
       "      <th>tripduration</th>\n",
       "      <th>starttime</th>\n",
       "      <th>stoptime</th>\n",
       "      <th>start station id</th>\n",
       "      <th>start station name</th>\n",
       "      <th>start station latitude</th>\n",
       "      <th>start station longitude</th>\n",
       "      <th>end station id</th>\n",
       "      <th>end station name</th>\n",
       "      <th>end station latitude</th>\n",
       "      <th>end station longitude</th>\n",
       "      <th>bikeid</th>\n",
       "      <th>usertype</th>\n",
       "      <th>postal code</th>\n",
       "      <th>birth year</th>\n",
       "      <th>gender</th>\n",
       "    </tr>\n",
       "  </thead>\n",
       "  <tbody>\n",
       "  </tbody>\n",
       "</table>\n",
       "</div>"
      ],
      "text/plain": [
       "Empty DataFrame\n",
       "Columns: [tripduration, starttime, stoptime, start station id, start station name, start station latitude, start station longitude, end station id, end station name, end station latitude, end station longitude, bikeid, usertype, postal code, birth year, gender]\n",
       "Index: []"
      ]
     },
     "execution_count": 37,
     "metadata": {},
     "output_type": "execute_result"
    }
   ],
   "source": [
    "trips_df_station_returns"
   ]
  },
  {
   "cell_type": "markdown",
   "metadata": {},
   "source": [
    "## Evaluation Metrics on the Baseline"
   ]
  },
  {
   "cell_type": "code",
   "execution_count": 38,
   "metadata": {},
   "outputs": [],
   "source": [
    "from sklearn.metrics import mean_squared_error\n",
    "from sklearn.metrics import explained_variance_score\n",
    "from sklearn.metrics import r2_score"
   ]
  },
  {
   "cell_type": "code",
   "execution_count": 39,
   "metadata": {},
   "outputs": [],
   "source": [
    "y_true = np.array(df.net_difference)\n",
    "y_pred = np.zeros(df.shape[0]) # predicting 0 movement for every row"
   ]
  },
  {
   "cell_type": "code",
   "execution_count": 40,
   "metadata": {
    "scrolled": true
   },
   "outputs": [
    {
     "name": "stdout",
     "output_type": "stream",
     "text": [
      "The mean squared error is 2.8525.\n",
      "The r^2 is -0.0.\n"
     ]
    }
   ],
   "source": [
    "print(f\"The mean squared error is {mean_squared_error(y_true, y_pred)}.\")\n",
    "print(f\"The r^2 is {round(r2_score(y_true, y_pred), 4)}.\")"
   ]
  }
 ],
 "metadata": {
  "kernelspec": {
   "display_name": "Python 3 (ipykernel)",
   "language": "python",
   "name": "python3"
  },
  "language_info": {
   "codemirror_mode": {
    "name": "ipython",
    "version": 3
   },
   "file_extension": ".py",
   "mimetype": "text/x-python",
   "name": "python",
   "nbconvert_exporter": "python",
   "pygments_lexer": "ipython3",
   "version": "3.9.7"
  }
 },
 "nbformat": 4,
 "nbformat_minor": 4
}
