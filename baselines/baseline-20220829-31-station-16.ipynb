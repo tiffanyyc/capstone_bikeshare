{
 "cells": [
  {
   "cell_type": "markdown",
   "metadata": {},
   "source": [
    "# Bikeshare Evaluation Dataset and Baseline\n",
    "\n",
    "*Anna, Tiffany, Tina, Tres, Giulia*"
   ]
  },
  {
   "cell_type": "markdown",
   "metadata": {},
   "source": [
    "This baseline is based on data from August 29-31.\n",
    "RMSE for zero movement for station 16 only is:\n",
    "* 1.9 for number of bikes left\n",
    "* 1.8 for number of bikes returned"
   ]
  },
  {
   "cell_type": "markdown",
   "metadata": {},
   "source": [
    "## Import Data"
   ]
  },
  {
   "cell_type": "code",
   "execution_count": 1,
   "metadata": {},
   "outputs": [],
   "source": [
    "import pandas as pd\n",
    "import os\n",
    "import glob\n",
    "import matplotlib.pyplot as plt \n",
    "from datetime import datetime\n",
    "from datetime import timedelta\n",
    "import numpy as np\n",
    "from matplotlib.ticker import PercentFormatter\n",
    "\n",
    "import geopandas as gpd\n",
    "from itertools import combinations\n",
    "import itertools\n",
    "import random\n",
    "from random import sample\n",
    "import time\n",
    "\n",
    "plt.rcParams[\"figure.figsize\"] = (15,10)\n"
   ]
  },
  {
   "cell_type": "markdown",
   "metadata": {},
   "source": [
    "### Loading from pickle"
   ]
  },
  {
   "cell_type": "code",
   "execution_count": 2,
   "metadata": {
    "scrolled": true
   },
   "outputs": [],
   "source": [
    "df = pd.read_pickle(\"../datasets/evaluation_df_2022_08.pkl\") "
   ]
  },
  {
   "cell_type": "markdown",
   "metadata": {},
   "source": [
    "## Evaluation Metrics on the Baseline"
   ]
  },
  {
   "cell_type": "code",
   "execution_count": 3,
   "metadata": {},
   "outputs": [],
   "source": [
    "from sklearn.metrics import mean_squared_error\n",
    "from sklearn.metrics import explained_variance_score\n",
    "from sklearn.metrics import r2_score"
   ]
  },
  {
   "cell_type": "code",
   "execution_count": 4,
   "metadata": {
    "scrolled": false
   },
   "outputs": [],
   "source": [
    "df_subset = df[df['station'] == 16]"
   ]
  },
  {
   "cell_type": "markdown",
   "metadata": {},
   "source": [
    "### The RMSE for zero movement baseline\n",
    "* 1.20 for number of bikes left\n",
    "* 1.17 for number of bikes returned"
   ]
  },
  {
   "cell_type": "code",
   "execution_count": 5,
   "metadata": {
    "scrolled": true
   },
   "outputs": [],
   "source": [
    "y_true = np.array(df_subset.number_of_bikes_left)\n",
    "y_pred = np.zeros(df_subset.shape[0]) # predicting 0 movement for every row"
   ]
  },
  {
   "cell_type": "code",
   "execution_count": 6,
   "metadata": {
    "scrolled": false
   },
   "outputs": [
    {
     "name": "stdout",
     "output_type": "stream",
     "text": [
      "The mean squared error is 3.64808362369338.\n",
      "The root mean squared error is 1.9099957130039271.\n",
      "The r^2 is -0.4077.\n"
     ]
    }
   ],
   "source": [
    "print(f\"The mean squared error is {mean_squared_error(y_true, y_pred)}.\")\n",
    "print(f\"The root mean squared error is {mean_squared_error(y_true, y_pred, squared=False)}.\")\n",
    "print(f\"The r^2 is {round(r2_score(y_true, y_pred), 4)}.\")"
   ]
  },
  {
   "cell_type": "code",
   "execution_count": 7,
   "metadata": {
    "scrolled": true
   },
   "outputs": [],
   "source": [
    "y_true = np.array(df_subset.number_of_bikes_returned)\n",
    "y_pred = np.zeros(df_subset.shape[0]) # predicting 0 movement for every row"
   ]
  },
  {
   "cell_type": "code",
   "execution_count": 8,
   "metadata": {
    "scrolled": true
   },
   "outputs": [
    {
     "name": "stdout",
     "output_type": "stream",
     "text": [
      "The mean squared error is 3.275261324041812.\n",
      "The root mean squared error is 1.809768306729293.\n",
      "The r^2 is -0.4907.\n"
     ]
    }
   ],
   "source": [
    "print(f\"The mean squared error is {mean_squared_error(y_true, y_pred)}.\")\n",
    "print(f\"The root mean squared error is {mean_squared_error(y_true, y_pred, squared=False)}.\")\n",
    "print(f\"The r^2 is {round(r2_score(y_true, y_pred), 4)}.\")"
   ]
  }
 ],
 "metadata": {
  "kernelspec": {
   "display_name": "Python 3 (ipykernel)",
   "language": "python",
   "name": "python3"
  },
  "language_info": {
   "codemirror_mode": {
    "name": "ipython",
    "version": 3
   },
   "file_extension": ".py",
   "mimetype": "text/x-python",
   "name": "python",
   "nbconvert_exporter": "python",
   "pygments_lexer": "ipython3",
   "version": "3.9.7"
  }
 },
 "nbformat": 4,
 "nbformat_minor": 4
}
