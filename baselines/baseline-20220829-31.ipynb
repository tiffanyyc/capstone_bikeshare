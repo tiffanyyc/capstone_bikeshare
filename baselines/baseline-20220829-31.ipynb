{
 "cells": [
  {
   "cell_type": "markdown",
   "metadata": {},
   "source": [
    "# Bikeshare Evaluation Dataset and Baseline\n",
    "\n",
    "*Anna, Tiffany, Tina, Tres, Giulia*"
   ]
  },
  {
   "cell_type": "markdown",
   "metadata": {},
   "source": [
    "This baseline is based on data from August 29-31.\n",
    "RMSE for zero movement is:\n",
    "* 1.20 for number of bikes left\n",
    "* 1.17 for number of bikes returned"
   ]
  },
  {
   "cell_type": "markdown",
   "metadata": {},
   "source": [
    "## Import Data"
   ]
  },
  {
   "cell_type": "code",
   "execution_count": 2,
   "metadata": {},
   "outputs": [],
   "source": [
    "import pandas as pd\n",
    "import os\n",
    "import glob\n",
    "import matplotlib.pyplot as plt \n",
    "from datetime import datetime\n",
    "from datetime import timedelta\n",
    "import numpy as np\n",
    "from matplotlib.ticker import PercentFormatter\n",
    "\n",
    "import geopandas as gpd\n",
    "from itertools import combinations\n",
    "import itertools\n",
    "import random\n",
    "from random import sample\n",
    "import time\n",
    "\n",
    "plt.rcParams[\"figure.figsize\"] = (15,10)\n"
   ]
  },
  {
   "cell_type": "code",
   "execution_count": 11,
   "metadata": {
    "scrolled": true
   },
   "outputs": [
    {
     "name": "stderr",
     "output_type": "stream",
     "text": [
      "/var/folders/35/_xh2j4mn5ps3_cwr_ncjwnk00000gn/T/ipykernel_41736/735440117.py:12: DtypeWarning: Columns (14,15) have mixed types. Specify dtype option on import or set low_memory=False.\n",
      "  current_csv = pd.read_csv(f)\n",
      "/var/folders/35/_xh2j4mn5ps3_cwr_ncjwnk00000gn/T/ipykernel_41736/735440117.py:13: FutureWarning: The frame.append method is deprecated and will be removed from pandas in a future version. Use pandas.concat instead.\n",
      "  trips_df = trips_df.append(current_csv)\n"
     ]
    },
    {
     "name": "stdout",
     "output_type": "stream",
     "text": [
      "Location: /Users/tinafang/Documents/Berkeley/W210/capstone_bikeshare/baselines/../data/raw/trips/trips_df.csv\n",
      "File Name: /Users/tinafang/Documents/Berkeley/W210/capstone_bikeshare/baselines/../data/raw/trips/trips_df.csv\n",
      "Content:\n"
     ]
    },
    {
     "data": {
      "text/html": [
       "<div>\n",
       "<style scoped>\n",
       "    .dataframe tbody tr th:only-of-type {\n",
       "        vertical-align: middle;\n",
       "    }\n",
       "\n",
       "    .dataframe tbody tr th {\n",
       "        vertical-align: top;\n",
       "    }\n",
       "\n",
       "    .dataframe thead th {\n",
       "        text-align: right;\n",
       "    }\n",
       "</style>\n",
       "<table border=\"1\" class=\"dataframe\">\n",
       "  <thead>\n",
       "    <tr style=\"text-align: right;\">\n",
       "      <th></th>\n",
       "      <th>Unnamed: 0</th>\n",
       "      <th>tripduration</th>\n",
       "      <th>starttime</th>\n",
       "      <th>stoptime</th>\n",
       "      <th>start station id</th>\n",
       "      <th>start station name</th>\n",
       "      <th>start station latitude</th>\n",
       "      <th>start station longitude</th>\n",
       "      <th>end station id</th>\n",
       "      <th>end station name</th>\n",
       "      <th>end station latitude</th>\n",
       "      <th>end station longitude</th>\n",
       "      <th>bikeid</th>\n",
       "      <th>usertype</th>\n",
       "      <th>postal code</th>\n",
       "      <th>birth year</th>\n",
       "      <th>gender</th>\n",
       "    </tr>\n",
       "  </thead>\n",
       "  <tbody>\n",
       "    <tr>\n",
       "      <th>0</th>\n",
       "      <td>0</td>\n",
       "      <td>259</td>\n",
       "      <td>2020-07-01 00:01:15.0430</td>\n",
       "      <td>2020-07-01 00:05:34.1010</td>\n",
       "      <td>16</td>\n",
       "      <td>Back Bay T Stop - Dartmouth St at Stuart St</td>\n",
       "      <td>42.348074</td>\n",
       "      <td>-71.076570</td>\n",
       "      <td>26</td>\n",
       "      <td>Washington St at Waltham St</td>\n",
       "      <td>42.341575</td>\n",
       "      <td>-71.068904</td>\n",
       "      <td>6059</td>\n",
       "      <td>Subscriber</td>\n",
       "      <td>02118</td>\n",
       "      <td>NaN</td>\n",
       "      <td>NaN</td>\n",
       "    </tr>\n",
       "    <tr>\n",
       "      <th>1</th>\n",
       "      <td>1</td>\n",
       "      <td>436</td>\n",
       "      <td>2020-07-01 00:03:39.1810</td>\n",
       "      <td>2020-07-01 00:10:55.4600</td>\n",
       "      <td>6</td>\n",
       "      <td>Cambridge St at Joy St</td>\n",
       "      <td>42.361257</td>\n",
       "      <td>-71.065287</td>\n",
       "      <td>152</td>\n",
       "      <td>Ink Block - Harrison Ave at Herald St</td>\n",
       "      <td>42.345901</td>\n",
       "      <td>-71.063187</td>\n",
       "      <td>2322</td>\n",
       "      <td>Customer</td>\n",
       "      <td>02114</td>\n",
       "      <td>NaN</td>\n",
       "      <td>NaN</td>\n",
       "    </tr>\n",
       "    <tr>\n",
       "      <th>2</th>\n",
       "      <td>2</td>\n",
       "      <td>1346</td>\n",
       "      <td>2020-07-01 00:04:27.0790</td>\n",
       "      <td>2020-07-01 00:26:53.2030</td>\n",
       "      <td>404</td>\n",
       "      <td>Mass Ave T Station</td>\n",
       "      <td>42.341356</td>\n",
       "      <td>-71.083370</td>\n",
       "      <td>167</td>\n",
       "      <td>Ryan Playground - Dorchester Ave at Harbor Vie...</td>\n",
       "      <td>42.317642</td>\n",
       "      <td>-71.056664</td>\n",
       "      <td>4062</td>\n",
       "      <td>Customer</td>\n",
       "      <td>NaN</td>\n",
       "      <td>NaN</td>\n",
       "      <td>NaN</td>\n",
       "    </tr>\n",
       "    <tr>\n",
       "      <th>3</th>\n",
       "      <td>3</td>\n",
       "      <td>2069</td>\n",
       "      <td>2020-07-01 00:04:56.0140</td>\n",
       "      <td>2020-07-01 00:39:25.1100</td>\n",
       "      <td>436</td>\n",
       "      <td>Maverick St at Massport Path</td>\n",
       "      <td>42.367741</td>\n",
       "      <td>-71.033360</td>\n",
       "      <td>436</td>\n",
       "      <td>Maverick St at Massport Path</td>\n",
       "      <td>42.367741</td>\n",
       "      <td>-71.033360</td>\n",
       "      <td>3858</td>\n",
       "      <td>Subscriber</td>\n",
       "      <td>02128</td>\n",
       "      <td>NaN</td>\n",
       "      <td>NaN</td>\n",
       "    </tr>\n",
       "    <tr>\n",
       "      <th>4</th>\n",
       "      <td>4</td>\n",
       "      <td>1266</td>\n",
       "      <td>2020-07-01 00:05:43.0180</td>\n",
       "      <td>2020-07-01 00:26:49.0580</td>\n",
       "      <td>404</td>\n",
       "      <td>Mass Ave T Station</td>\n",
       "      <td>42.341356</td>\n",
       "      <td>-71.083370</td>\n",
       "      <td>167</td>\n",
       "      <td>Ryan Playground - Dorchester Ave at Harbor Vie...</td>\n",
       "      <td>42.317642</td>\n",
       "      <td>-71.056664</td>\n",
       "      <td>6031</td>\n",
       "      <td>Customer</td>\n",
       "      <td>NaN</td>\n",
       "      <td>NaN</td>\n",
       "      <td>NaN</td>\n",
       "    </tr>\n",
       "    <tr>\n",
       "      <th>...</th>\n",
       "      <td>...</td>\n",
       "      <td>...</td>\n",
       "      <td>...</td>\n",
       "      <td>...</td>\n",
       "      <td>...</td>\n",
       "      <td>...</td>\n",
       "      <td>...</td>\n",
       "      <td>...</td>\n",
       "      <td>...</td>\n",
       "      <td>...</td>\n",
       "      <td>...</td>\n",
       "      <td>...</td>\n",
       "      <td>...</td>\n",
       "      <td>...</td>\n",
       "      <td>...</td>\n",
       "      <td>...</td>\n",
       "      <td>...</td>\n",
       "    </tr>\n",
       "    <tr>\n",
       "      <th>15276597</th>\n",
       "      <td>236071</td>\n",
       "      <td>775</td>\n",
       "      <td>2018-08-31 23:58:25.5780</td>\n",
       "      <td>2018-09-01 00:11:20.8620</td>\n",
       "      <td>79</td>\n",
       "      <td>Beacon St at Washington / Kirkland</td>\n",
       "      <td>42.378420</td>\n",
       "      <td>-71.105668</td>\n",
       "      <td>87</td>\n",
       "      <td>Harvard University Housing - 115 Putnam Ave at...</td>\n",
       "      <td>42.366621</td>\n",
       "      <td>-71.114214</td>\n",
       "      <td>3392</td>\n",
       "      <td>Subscriber</td>\n",
       "      <td>NaN</td>\n",
       "      <td>1989</td>\n",
       "      <td>1.0</td>\n",
       "    </tr>\n",
       "    <tr>\n",
       "      <th>15276598</th>\n",
       "      <td>236072</td>\n",
       "      <td>358</td>\n",
       "      <td>2018-08-31 23:58:28.0730</td>\n",
       "      <td>2018-09-01 00:04:26.8610</td>\n",
       "      <td>100</td>\n",
       "      <td>Davis Square</td>\n",
       "      <td>42.396969</td>\n",
       "      <td>-71.123024</td>\n",
       "      <td>111</td>\n",
       "      <td>Packard Ave at Powderhouse Blvd</td>\n",
       "      <td>42.404490</td>\n",
       "      <td>-71.123413</td>\n",
       "      <td>3345</td>\n",
       "      <td>Subscriber</td>\n",
       "      <td>NaN</td>\n",
       "      <td>1977</td>\n",
       "      <td>1.0</td>\n",
       "    </tr>\n",
       "    <tr>\n",
       "      <th>15276599</th>\n",
       "      <td>236073</td>\n",
       "      <td>518</td>\n",
       "      <td>2018-08-31 23:58:35.2490</td>\n",
       "      <td>2018-09-01 00:07:13.5640</td>\n",
       "      <td>177</td>\n",
       "      <td>University Park</td>\n",
       "      <td>42.362648</td>\n",
       "      <td>-71.100061</td>\n",
       "      <td>96</td>\n",
       "      <td>Cambridge Main Library at Broadway / Trowbridg...</td>\n",
       "      <td>42.373379</td>\n",
       "      <td>-71.111075</td>\n",
       "      <td>2943</td>\n",
       "      <td>Subscriber</td>\n",
       "      <td>NaN</td>\n",
       "      <td>1980</td>\n",
       "      <td>1.0</td>\n",
       "    </tr>\n",
       "    <tr>\n",
       "      <th>15276600</th>\n",
       "      <td>236074</td>\n",
       "      <td>370</td>\n",
       "      <td>2018-08-31 23:59:06.3960</td>\n",
       "      <td>2018-09-01 00:05:17.2460</td>\n",
       "      <td>105</td>\n",
       "      <td>Lower Cambridgeport at Magazine St / Riverside Rd</td>\n",
       "      <td>42.357219</td>\n",
       "      <td>-71.113872</td>\n",
       "      <td>97</td>\n",
       "      <td>Harvard University River Houses at DeWolfe St ...</td>\n",
       "      <td>42.369190</td>\n",
       "      <td>-71.117141</td>\n",
       "      <td>850</td>\n",
       "      <td>Subscriber</td>\n",
       "      <td>NaN</td>\n",
       "      <td>1994</td>\n",
       "      <td>2.0</td>\n",
       "    </tr>\n",
       "    <tr>\n",
       "      <th>15276601</th>\n",
       "      <td>236075</td>\n",
       "      <td>485</td>\n",
       "      <td>2018-08-31 23:59:42.3330</td>\n",
       "      <td>2018-09-01 00:07:47.4040</td>\n",
       "      <td>163</td>\n",
       "      <td>The Lawn on D</td>\n",
       "      <td>42.344792</td>\n",
       "      <td>-71.044024</td>\n",
       "      <td>35</td>\n",
       "      <td>Arch St at Franklin St</td>\n",
       "      <td>42.355335</td>\n",
       "      <td>-71.058229</td>\n",
       "      <td>3740</td>\n",
       "      <td>Subscriber</td>\n",
       "      <td>NaN</td>\n",
       "      <td>1989</td>\n",
       "      <td>2.0</td>\n",
       "    </tr>\n",
       "  </tbody>\n",
       "</table>\n",
       "<p>15276602 rows × 17 columns</p>\n",
       "</div>"
      ],
      "text/plain": [
       "          Unnamed: 0  tripduration                 starttime  \\\n",
       "0                  0           259  2020-07-01 00:01:15.0430   \n",
       "1                  1           436  2020-07-01 00:03:39.1810   \n",
       "2                  2          1346  2020-07-01 00:04:27.0790   \n",
       "3                  3          2069  2020-07-01 00:04:56.0140   \n",
       "4                  4          1266  2020-07-01 00:05:43.0180   \n",
       "...              ...           ...                       ...   \n",
       "15276597      236071           775  2018-08-31 23:58:25.5780   \n",
       "15276598      236072           358  2018-08-31 23:58:28.0730   \n",
       "15276599      236073           518  2018-08-31 23:58:35.2490   \n",
       "15276600      236074           370  2018-08-31 23:59:06.3960   \n",
       "15276601      236075           485  2018-08-31 23:59:42.3330   \n",
       "\n",
       "                          stoptime  start station id  \\\n",
       "0         2020-07-01 00:05:34.1010                16   \n",
       "1         2020-07-01 00:10:55.4600                 6   \n",
       "2         2020-07-01 00:26:53.2030               404   \n",
       "3         2020-07-01 00:39:25.1100               436   \n",
       "4         2020-07-01 00:26:49.0580               404   \n",
       "...                            ...               ...   \n",
       "15276597  2018-09-01 00:11:20.8620                79   \n",
       "15276598  2018-09-01 00:04:26.8610               100   \n",
       "15276599  2018-09-01 00:07:13.5640               177   \n",
       "15276600  2018-09-01 00:05:17.2460               105   \n",
       "15276601  2018-09-01 00:07:47.4040               163   \n",
       "\n",
       "                                         start station name  \\\n",
       "0               Back Bay T Stop - Dartmouth St at Stuart St   \n",
       "1                                    Cambridge St at Joy St   \n",
       "2                                        Mass Ave T Station   \n",
       "3                              Maverick St at Massport Path   \n",
       "4                                        Mass Ave T Station   \n",
       "...                                                     ...   \n",
       "15276597                 Beacon St at Washington / Kirkland   \n",
       "15276598                                       Davis Square   \n",
       "15276599                                    University Park   \n",
       "15276600  Lower Cambridgeport at Magazine St / Riverside Rd   \n",
       "15276601                                      The Lawn on D   \n",
       "\n",
       "          start station latitude  start station longitude  end station id  \\\n",
       "0                      42.348074               -71.076570              26   \n",
       "1                      42.361257               -71.065287             152   \n",
       "2                      42.341356               -71.083370             167   \n",
       "3                      42.367741               -71.033360             436   \n",
       "4                      42.341356               -71.083370             167   \n",
       "...                          ...                      ...             ...   \n",
       "15276597               42.378420               -71.105668              87   \n",
       "15276598               42.396969               -71.123024             111   \n",
       "15276599               42.362648               -71.100061              96   \n",
       "15276600               42.357219               -71.113872              97   \n",
       "15276601               42.344792               -71.044024              35   \n",
       "\n",
       "                                           end station name  \\\n",
       "0                               Washington St at Waltham St   \n",
       "1                     Ink Block - Harrison Ave at Herald St   \n",
       "2         Ryan Playground - Dorchester Ave at Harbor Vie...   \n",
       "3                              Maverick St at Massport Path   \n",
       "4         Ryan Playground - Dorchester Ave at Harbor Vie...   \n",
       "...                                                     ...   \n",
       "15276597  Harvard University Housing - 115 Putnam Ave at...   \n",
       "15276598                    Packard Ave at Powderhouse Blvd   \n",
       "15276599  Cambridge Main Library at Broadway / Trowbridg...   \n",
       "15276600  Harvard University River Houses at DeWolfe St ...   \n",
       "15276601                             Arch St at Franklin St   \n",
       "\n",
       "          end station latitude  end station longitude  bikeid    usertype  \\\n",
       "0                    42.341575             -71.068904    6059  Subscriber   \n",
       "1                    42.345901             -71.063187    2322    Customer   \n",
       "2                    42.317642             -71.056664    4062    Customer   \n",
       "3                    42.367741             -71.033360    3858  Subscriber   \n",
       "4                    42.317642             -71.056664    6031    Customer   \n",
       "...                        ...                    ...     ...         ...   \n",
       "15276597             42.366621             -71.114214    3392  Subscriber   \n",
       "15276598             42.404490             -71.123413    3345  Subscriber   \n",
       "15276599             42.373379             -71.111075    2943  Subscriber   \n",
       "15276600             42.369190             -71.117141     850  Subscriber   \n",
       "15276601             42.355335             -71.058229    3740  Subscriber   \n",
       "\n",
       "         postal code birth year  gender  \n",
       "0              02118        NaN     NaN  \n",
       "1              02114        NaN     NaN  \n",
       "2                NaN        NaN     NaN  \n",
       "3              02128        NaN     NaN  \n",
       "4                NaN        NaN     NaN  \n",
       "...              ...        ...     ...  \n",
       "15276597         NaN       1989     1.0  \n",
       "15276598         NaN       1977     1.0  \n",
       "15276599         NaN       1980     1.0  \n",
       "15276600         NaN       1994     2.0  \n",
       "15276601         NaN       1989     2.0  \n",
       "\n",
       "[15276602 rows x 17 columns]"
      ]
     },
     "metadata": {},
     "output_type": "display_data"
    },
    {
     "name": "stdout",
     "output_type": "stream",
     "text": [
      "\n"
     ]
    }
   ],
   "source": [
    "path = os.getcwd() + \"/../data/raw/trips\"\n",
    "csv_files = glob.glob(os.path.join(path, \"*.csv\"))\n",
    "\n",
    "# trips_df = pd.read_csv('data/raw/trips/trips_df_mini.csv')\n",
    "  \n",
    "trips_df = pd.DataFrame()\n",
    "\n",
    "# loop over the list of csv files\n",
    "for f in csv_files:\n",
    "      \n",
    "#     read the csv file\n",
    "    current_csv = pd.read_csv(f)\n",
    "    trips_df = trips_df.append(current_csv)\n",
    "#     print the location and filename\n",
    "    print('Location:', f)\n",
    "    print('File Name:', f.split(\"\\\\\")[-1])\n",
    "\n",
    "#     print the content\n",
    "    print('Content:')\n",
    "    display(trips_df)\n",
    "    print()\n"
   ]
  },
  {
   "cell_type": "code",
   "execution_count": 19,
   "metadata": {},
   "outputs": [],
   "source": [
    "trips_df.drop(columns=['Unnamed: 0'], inplace=True)"
   ]
  },
  {
   "cell_type": "code",
   "execution_count": 8,
   "metadata": {
    "scrolled": false
   },
   "outputs": [],
   "source": [
    "stations = pd.read_csv(\"../data/raw/stations/current_bluebikes_stations.csv\")\n",
    "stations.columns = stations.iloc[0]\n",
    "stations = stations.drop(stations.index[0])"
   ]
  },
  {
   "cell_type": "code",
   "execution_count": 12,
   "metadata": {},
   "outputs": [],
   "source": [
    "# Set as datetime object\n",
    "trips_df['starttime'] = pd.to_datetime(trips_df[\"starttime\"], format='%Y-%m-%d %H:%M:%S')\n",
    "trips_df['stoptime'] = pd.to_datetime(trips_df[\"stoptime\"], format='%Y-%m-%d %H:%M:%S')\n"
   ]
  },
  {
   "cell_type": "code",
   "execution_count": 13,
   "metadata": {
    "scrolled": true
   },
   "outputs": [
    {
     "name": "stdout",
     "output_type": "stream",
     "text": [
      "15276602 : original length\n",
      "15263061 : after removal\n"
     ]
    }
   ],
   "source": [
    "print(len(trips_df), \": original length\") \n",
    "\n",
    "#trip duration\n",
    "\n",
    "trips_df = trips_df[trips_df['tripduration'] < 90000]  #threshhold of 25 hrs....\n",
    "\n",
    "#lat/long \n",
    "\n",
    "\n",
    "\n",
    "trips_df = trips_df[trips_df['start station longitude'] != 0  & \n",
    "                    \n",
    "                   (trips_df['start station longitude'] < 72)]\n",
    "\n",
    "trips_df = trips_df[(trips_df['start station latitude'] != 0) & \n",
    "                    \n",
    "                   (trips_df['start station latitude'] < 43)]\n",
    "\n",
    "trips_df = trips_df[(trips_df['end station longitude'] != 0) &\n",
    "                   (trips_df['end station longitude'] != r\"\\N\")]\n",
    "\n",
    "trips_df = trips_df[(trips_df['end station latitude'] != 0) &\n",
    "                   (trips_df['end station latitude'] != r\"\\N\")]\n",
    "\n",
    "print(len(trips_df), \": after removal\")"
   ]
  },
  {
   "cell_type": "markdown",
   "metadata": {},
   "source": [
    "## Create evaluation Dataset"
   ]
  },
  {
   "cell_type": "markdown",
   "metadata": {},
   "source": [
    "### Create helper functions"
   ]
  },
  {
   "cell_type": "code",
   "execution_count": 14,
   "metadata": {},
   "outputs": [],
   "source": [
    "def get_movement_starts(station_id, prediction_time, prediction_window):\n",
    "    trips_df_subset_start = trips_df[trips_df['start station id'] == station_id]\n",
    "    target_time = prediction_time + pd.to_timedelta(prediction_window, unit='m')\n",
    "    trips_df_station_starts = trips_df_subset_start[(trips_df_subset_start['starttime'] > prediction_time) & \n",
    "                                                (trips_df_subset_start['starttime'] < target_time)].sort_values(by='starttime')\n",
    "\n",
    "    return len(trips_df_station_starts)\n"
   ]
  },
  {
   "cell_type": "code",
   "execution_count": 15,
   "metadata": {},
   "outputs": [],
   "source": [
    "def get_movement_returns(station_id, prediction_time, prediction_window):\n",
    "    trips_df_subset_return = trips_df[trips_df['end station id'] == station_id]\n",
    "    target_time = prediction_time + pd.to_timedelta(prediction_window, unit='m')\n",
    "    trips_df_station_returns = trips_df_subset_return[(trips_df_subset_return['stoptime'] > prediction_time) & \n",
    "                                                   (trips_df_subset_return['stoptime'] < target_time)].sort_values(by='stoptime')\n",
    "\n",
    "    return len(trips_df_station_returns)\n"
   ]
  },
  {
   "cell_type": "code",
   "execution_count": 16,
   "metadata": {},
   "outputs": [],
   "source": [
    "def convert_to_nearest_15_mins(sample_trip_timestamp, delta):\n",
    "    sample_trip_epoch = sample_trip_timestamp.timestamp()\n",
    "    converted_datetime = datetime.utcfromtimestamp(sample_trip_epoch)\n",
    "    converted_15_datetime = converted_datetime + (datetime.min - converted_datetime) % delta\n",
    "    return converted_15_datetime"
   ]
  },
  {
   "cell_type": "markdown",
   "metadata": {},
   "source": [
    "### Creating the full list of combinations to be filled"
   ]
  },
  {
   "cell_type": "markdown",
   "metadata": {},
   "source": [
    "#### Create timestamps for prediction\n",
    "Set to be in 15 minute intervals\n",
    "\n",
    "* August 29 2022 - August 31 2022"
   ]
  },
  {
   "cell_type": "code",
   "execution_count": 180,
   "metadata": {
    "scrolled": false
   },
   "outputs": [],
   "source": [
    "lst_timestamps = pd.Series(trips_df[(trips_df.starttime >= '2022-08-29') & (trips_df.starttime < '2022-09-01')].starttime.apply(convert_to_nearest_15_mins, \n",
    "                                                                                                                                 args=(timedelta(minutes=15),)).unique())\n"
   ]
  },
  {
   "cell_type": "code",
   "execution_count": 181,
   "metadata": {},
   "outputs": [],
   "source": [
    "trip_df_station_counts = trips_df.groupby('start station id').count().reset_index()[['start station id', 'starttime']].rename(columns={\"starttime\": \"station_counts\"})\n",
    "# get the counts of each station to weigh the sample"
   ]
  },
  {
   "cell_type": "markdown",
   "metadata": {},
   "source": [
    "#### Create list of stations weighted by trip count"
   ]
  },
  {
   "cell_type": "code",
   "execution_count": 183,
   "metadata": {
    "scrolled": true
   },
   "outputs": [],
   "source": [
    "random.seed(321)\n",
    "station_ids_reweighted = random.choices(trip_df_station_counts['start station id'], weights = trip_df_station_counts.station_counts, k = 1000)\n"
   ]
  },
  {
   "cell_type": "code",
   "execution_count": 186,
   "metadata": {
    "scrolled": true
   },
   "outputs": [
    {
     "data": {
      "text/plain": [
       "0     2022-08-29 00:15:00\n",
       "1     2022-08-29 00:30:00\n",
       "2     2022-08-29 00:45:00\n",
       "3     2022-08-29 01:00:00\n",
       "4     2022-08-29 01:15:00\n",
       "              ...        \n",
       "282   2022-08-31 22:45:00\n",
       "283   2022-08-31 23:00:00\n",
       "284   2022-08-31 23:15:00\n",
       "285   2022-08-31 23:30:00\n",
       "286   2022-08-31 23:45:00\n",
       "Length: 287, dtype: datetime64[ns]"
      ]
     },
     "execution_count": 186,
     "metadata": {},
     "output_type": "execute_result"
    }
   ],
   "source": [
    "lst_timestamps.iloc[:-1]"
   ]
  },
  {
   "cell_type": "code",
   "execution_count": 193,
   "metadata": {
    "scrolled": true
   },
   "outputs": [
    {
     "data": {
      "text/plain": [
       "0     2022-08-29 00:15:00\n",
       "1     2022-08-29 00:30:00\n",
       "2     2022-08-29 00:45:00\n",
       "3     2022-08-29 01:00:00\n",
       "4     2022-08-29 01:15:00\n",
       "              ...        \n",
       "282   2022-08-31 22:45:00\n",
       "283   2022-08-31 23:00:00\n",
       "284   2022-08-31 23:15:00\n",
       "285   2022-08-31 23:30:00\n",
       "286   2022-08-31 23:45:00\n",
       "Length: 287, dtype: datetime64[ns]"
      ]
     },
     "execution_count": 193,
     "metadata": {},
     "output_type": "execute_result"
    }
   ],
   "source": [
    "lst_timestamps_subset = lst_timestamps.iloc[:-1] # all the august 29-31 records\n",
    "lst_timestamps_subset"
   ]
  },
  {
   "cell_type": "code",
   "execution_count": 205,
   "metadata": {},
   "outputs": [],
   "source": [
    "station_ids = np.array(trip_df_station_counts['start station id']) # all stations\n",
    "prediction_windows = [15] # 15 minutes only\n",
    "prediction_start_timestamps = lst_timestamps_subset # 1000"
   ]
  },
  {
   "cell_type": "markdown",
   "metadata": {},
   "source": [
    "#### Create the combination of station ids, prediction start timestamps, and prediction windows"
   ]
  },
  {
   "cell_type": "code",
   "execution_count": 206,
   "metadata": {
    "scrolled": true
   },
   "outputs": [],
   "source": [
    "lst_combinations = list(itertools.product(station_ids, prediction_start_timestamps, prediction_windows))\n"
   ]
  },
  {
   "cell_type": "markdown",
   "metadata": {},
   "source": [
    "### Taking a subset of the full list of combinations"
   ]
  },
  {
   "cell_type": "code",
   "execution_count": 207,
   "metadata": {},
   "outputs": [],
   "source": [
    "# random.seed(321)\n",
    "# lst_combinations_subset = random.sample(lst_combinations, 10000)"
   ]
  },
  {
   "cell_type": "code",
   "execution_count": 208,
   "metadata": {},
   "outputs": [],
   "source": [
    "lst_combinations_subset = lst_combinations"
   ]
  },
  {
   "cell_type": "code",
   "execution_count": 209,
   "metadata": {
    "scrolled": true
   },
   "outputs": [
    {
     "data": {
      "text/plain": [
       "144648"
      ]
     },
     "execution_count": 209,
     "metadata": {},
     "output_type": "execute_result"
    }
   ],
   "source": [
    "len(lst_combinations_subset)"
   ]
  },
  {
   "cell_type": "markdown",
   "metadata": {},
   "source": [
    "## Filling the movement information for starts and returns"
   ]
  },
  {
   "cell_type": "markdown",
   "metadata": {},
   "source": [
    "Filling out the full dataset took 70 minutes"
   ]
  },
  {
   "cell_type": "code",
   "execution_count": 210,
   "metadata": {
    "scrolled": true
   },
   "outputs": [
    {
     "name": "stdout",
     "output_type": "stream",
     "text": [
      "--- 2147 seconds ---\n"
     ]
    }
   ],
   "source": [
    "start_time = time.time()\n",
    "\n",
    "lst_num_of_bikes_left = [get_movement_starts(station_id=trip_combination[0],\n",
    "                                             prediction_time=trip_combination[1],\n",
    "                                             prediction_window=trip_combination[2]) for trip_combination in lst_combinations_subset]\n",
    "\n",
    "print(\"--- %s seconds ---\" % (round(time.time() - start_time)))\n"
   ]
  },
  {
   "cell_type": "code",
   "execution_count": 211,
   "metadata": {
    "scrolled": true
   },
   "outputs": [
    {
     "name": "stdout",
     "output_type": "stream",
     "text": [
      "--- 2028 seconds ---\n"
     ]
    }
   ],
   "source": [
    "start_time = time.time()\n",
    "\n",
    "lst_num_of_bikes_returned = [get_movement_returns(station_id=trip_combination[0],\n",
    "                                                  prediction_time=trip_combination[1],\n",
    "                                                  prediction_window=trip_combination[2]) for trip_combination in lst_combinations_subset]\n",
    "\n",
    "print(\"--- %s seconds ---\" % (round(time.time() - start_time)))\n"
   ]
  },
  {
   "cell_type": "markdown",
   "metadata": {},
   "source": [
    "### Amount of time it takes to run\n",
    "* 2 seconds for 10 rows\n",
    "* 8 seconds for 100 rows\n",
    "* 57 seconds for 1,000 rows\n",
    "* 563 seconds for 10,000 rows (10 minutes)"
   ]
  },
  {
   "cell_type": "markdown",
   "metadata": {},
   "source": [
    "### Create dataframe based on the lists"
   ]
  },
  {
   "cell_type": "code",
   "execution_count": 212,
   "metadata": {
    "scrolled": true
   },
   "outputs": [],
   "source": [
    "data = {'station': [trip_combination[0] for trip_combination in lst_combinations_subset],\n",
    "        'prediction_time': [trip_combination[1] for trip_combination in lst_combinations_subset], \n",
    "        'prediction_window': [trip_combination[2] for trip_combination in lst_combinations_subset],\n",
    "        'number_of_bikes_left': lst_num_of_bikes_left,\n",
    "        'number_of_bikes_returned': lst_num_of_bikes_returned}\n",
    "df = pd.DataFrame(data=data)\n",
    "df['net_difference'] = df['number_of_bikes_returned'] - df['number_of_bikes_left']"
   ]
  },
  {
   "cell_type": "markdown",
   "metadata": {},
   "source": [
    "### Pickle it"
   ]
  },
  {
   "cell_type": "code",
   "execution_count": 213,
   "metadata": {
    "scrolled": true
   },
   "outputs": [],
   "source": [
    "df.to_pickle('../datasets/evaluation_df_2022_08.pkl')"
   ]
  },
  {
   "cell_type": "code",
   "execution_count": 223,
   "metadata": {
    "scrolled": true
   },
   "outputs": [],
   "source": [
    "df = pd.read_pickle(\"../datasets/evaluation_df_2022_08.pkl\") "
   ]
  },
  {
   "cell_type": "markdown",
   "metadata": {},
   "source": [
    "## Evaluation Metrics on the Baseline"
   ]
  },
  {
   "cell_type": "code",
   "execution_count": 86,
   "metadata": {},
   "outputs": [],
   "source": [
    "from sklearn.metrics import mean_squared_error\n",
    "from sklearn.metrics import explained_variance_score\n",
    "from sklearn.metrics import r2_score"
   ]
  },
  {
   "cell_type": "code",
   "execution_count": 228,
   "metadata": {
    "scrolled": false
   },
   "outputs": [
    {
     "data": {
      "text/html": [
       "<div>\n",
       "<style scoped>\n",
       "    .dataframe tbody tr th:only-of-type {\n",
       "        vertical-align: middle;\n",
       "    }\n",
       "\n",
       "    .dataframe tbody tr th {\n",
       "        vertical-align: top;\n",
       "    }\n",
       "\n",
       "    .dataframe thead th {\n",
       "        text-align: right;\n",
       "    }\n",
       "</style>\n",
       "<table border=\"1\" class=\"dataframe\">\n",
       "  <thead>\n",
       "    <tr style=\"text-align: right;\">\n",
       "      <th></th>\n",
       "      <th>station</th>\n",
       "      <th>prediction_time</th>\n",
       "      <th>prediction_window</th>\n",
       "      <th>number_of_bikes_left</th>\n",
       "      <th>number_of_bikes_returned</th>\n",
       "      <th>net_difference</th>\n",
       "    </tr>\n",
       "  </thead>\n",
       "  <tbody>\n",
       "    <tr>\n",
       "      <th>0</th>\n",
       "      <td>1</td>\n",
       "      <td>2022-08-29 00:15:00</td>\n",
       "      <td>15</td>\n",
       "      <td>0</td>\n",
       "      <td>0</td>\n",
       "      <td>0</td>\n",
       "    </tr>\n",
       "    <tr>\n",
       "      <th>1</th>\n",
       "      <td>1</td>\n",
       "      <td>2022-08-29 00:30:00</td>\n",
       "      <td>15</td>\n",
       "      <td>0</td>\n",
       "      <td>0</td>\n",
       "      <td>0</td>\n",
       "    </tr>\n",
       "    <tr>\n",
       "      <th>2</th>\n",
       "      <td>1</td>\n",
       "      <td>2022-08-29 00:45:00</td>\n",
       "      <td>15</td>\n",
       "      <td>0</td>\n",
       "      <td>0</td>\n",
       "      <td>0</td>\n",
       "    </tr>\n",
       "    <tr>\n",
       "      <th>3</th>\n",
       "      <td>1</td>\n",
       "      <td>2022-08-29 01:00:00</td>\n",
       "      <td>15</td>\n",
       "      <td>0</td>\n",
       "      <td>0</td>\n",
       "      <td>0</td>\n",
       "    </tr>\n",
       "    <tr>\n",
       "      <th>4</th>\n",
       "      <td>1</td>\n",
       "      <td>2022-08-29 01:15:00</td>\n",
       "      <td>15</td>\n",
       "      <td>0</td>\n",
       "      <td>0</td>\n",
       "      <td>0</td>\n",
       "    </tr>\n",
       "    <tr>\n",
       "      <th>...</th>\n",
       "      <td>...</td>\n",
       "      <td>...</td>\n",
       "      <td>...</td>\n",
       "      <td>...</td>\n",
       "      <td>...</td>\n",
       "      <td>...</td>\n",
       "    </tr>\n",
       "    <tr>\n",
       "      <th>144643</th>\n",
       "      <td>572</td>\n",
       "      <td>2022-08-31 22:45:00</td>\n",
       "      <td>15</td>\n",
       "      <td>0</td>\n",
       "      <td>0</td>\n",
       "      <td>0</td>\n",
       "    </tr>\n",
       "    <tr>\n",
       "      <th>144644</th>\n",
       "      <td>572</td>\n",
       "      <td>2022-08-31 23:00:00</td>\n",
       "      <td>15</td>\n",
       "      <td>0</td>\n",
       "      <td>0</td>\n",
       "      <td>0</td>\n",
       "    </tr>\n",
       "    <tr>\n",
       "      <th>144645</th>\n",
       "      <td>572</td>\n",
       "      <td>2022-08-31 23:15:00</td>\n",
       "      <td>15</td>\n",
       "      <td>0</td>\n",
       "      <td>0</td>\n",
       "      <td>0</td>\n",
       "    </tr>\n",
       "    <tr>\n",
       "      <th>144646</th>\n",
       "      <td>572</td>\n",
       "      <td>2022-08-31 23:30:00</td>\n",
       "      <td>15</td>\n",
       "      <td>0</td>\n",
       "      <td>0</td>\n",
       "      <td>0</td>\n",
       "    </tr>\n",
       "    <tr>\n",
       "      <th>144647</th>\n",
       "      <td>572</td>\n",
       "      <td>2022-08-31 23:45:00</td>\n",
       "      <td>15</td>\n",
       "      <td>0</td>\n",
       "      <td>0</td>\n",
       "      <td>0</td>\n",
       "    </tr>\n",
       "  </tbody>\n",
       "</table>\n",
       "<p>144648 rows × 6 columns</p>\n",
       "</div>"
      ],
      "text/plain": [
       "        station     prediction_time  prediction_window  number_of_bikes_left  \\\n",
       "0             1 2022-08-29 00:15:00                 15                     0   \n",
       "1             1 2022-08-29 00:30:00                 15                     0   \n",
       "2             1 2022-08-29 00:45:00                 15                     0   \n",
       "3             1 2022-08-29 01:00:00                 15                     0   \n",
       "4             1 2022-08-29 01:15:00                 15                     0   \n",
       "...         ...                 ...                ...                   ...   \n",
       "144643      572 2022-08-31 22:45:00                 15                     0   \n",
       "144644      572 2022-08-31 23:00:00                 15                     0   \n",
       "144645      572 2022-08-31 23:15:00                 15                     0   \n",
       "144646      572 2022-08-31 23:30:00                 15                     0   \n",
       "144647      572 2022-08-31 23:45:00                 15                     0   \n",
       "\n",
       "        number_of_bikes_returned  net_difference  \n",
       "0                              0               0  \n",
       "1                              0               0  \n",
       "2                              0               0  \n",
       "3                              0               0  \n",
       "4                              0               0  \n",
       "...                          ...             ...  \n",
       "144643                         0               0  \n",
       "144644                         0               0  \n",
       "144645                         0               0  \n",
       "144646                         0               0  \n",
       "144647                         0               0  \n",
       "\n",
       "[144648 rows x 6 columns]"
      ]
     },
     "execution_count": 228,
     "metadata": {},
     "output_type": "execute_result"
    }
   ],
   "source": [
    "df"
   ]
  },
  {
   "cell_type": "markdown",
   "metadata": {},
   "source": [
    "### The RMSE for zero movement baseline\n",
    "* 1.20 for number of bikes left\n",
    "* 1.17 for number of bikes returned"
   ]
  },
  {
   "cell_type": "code",
   "execution_count": 224,
   "metadata": {
    "scrolled": true
   },
   "outputs": [],
   "source": [
    "y_true = np.array(df.number_of_bikes_left)\n",
    "y_pred = np.zeros(df.shape[0]) # predicting 0 movement for every row"
   ]
  },
  {
   "cell_type": "code",
   "execution_count": 225,
   "metadata": {
    "scrolled": true
   },
   "outputs": [
    {
     "name": "stdout",
     "output_type": "stream",
     "text": [
      "The mean squared error is 1.4470231181903657.\n",
      "The root mean squared error is 1.202922739909079.\n",
      "The r^2 is -0.1327.\n"
     ]
    }
   ],
   "source": [
    "print(f\"The mean squared error is {mean_squared_error(y_true, y_pred)}.\")\n",
    "print(f\"The root mean squared error is {mean_squared_error(y_true, y_pred, squared=False)}.\")\n",
    "print(f\"The r^2 is {round(r2_score(y_true, y_pred), 4)}.\")"
   ]
  },
  {
   "cell_type": "code",
   "execution_count": 226,
   "metadata": {
    "scrolled": true
   },
   "outputs": [],
   "source": [
    "y_true = np.array(df.number_of_bikes_returned)\n",
    "y_pred = np.zeros(df.shape[0]) # predicting 0 movement for every row"
   ]
  },
  {
   "cell_type": "code",
   "execution_count": 227,
   "metadata": {
    "scrolled": false
   },
   "outputs": [
    {
     "name": "stdout",
     "output_type": "stream",
     "text": [
      "The mean squared error is 1.3786986339251148.\n",
      "The root mean squared error is 1.1741799836162745.\n",
      "The r^2 is -0.1399.\n"
     ]
    }
   ],
   "source": [
    "print(f\"The mean squared error is {mean_squared_error(y_true, y_pred)}.\")\n",
    "print(f\"The root mean squared error is {mean_squared_error(y_true, y_pred, squared=False)}.\")\n",
    "print(f\"The r^2 is {round(r2_score(y_true, y_pred), 4)}.\")"
   ]
  },
  {
   "cell_type": "code",
   "execution_count": null,
   "metadata": {},
   "outputs": [],
   "source": []
  }
 ],
 "metadata": {
  "kernelspec": {
   "display_name": "Python 3 (ipykernel)",
   "language": "python",
   "name": "python3"
  },
  "language_info": {
   "codemirror_mode": {
    "name": "ipython",
    "version": 3
   },
   "file_extension": ".py",
   "mimetype": "text/x-python",
   "name": "python",
   "nbconvert_exporter": "python",
   "pygments_lexer": "ipython3",
   "version": "3.9.7"
  }
 },
 "nbformat": 4,
 "nbformat_minor": 4
}
