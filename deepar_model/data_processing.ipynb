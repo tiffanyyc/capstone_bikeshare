{
 "cells": [
  {
   "cell_type": "markdown",
   "id": "cb0efcec-5d6a-42f1-ba51-bd708b30c382",
   "metadata": {},
   "source": [
    "## Data Processing"
   ]
  },
  {
   "cell_type": "code",
   "execution_count": null,
   "id": "c5caecba-61b2-4d74-abc2-3dd3f4c0d36a",
   "metadata": {},
   "outputs": [],
   "source": [
    "import pandas as pd\n",
    "import matplotlib.pyplot as plt\n",
    "from tqdm import tqdm\n",
    "\n",
    "from deepar_model_utils import prep_station_data\n",
    "from deepar_model_utils import get_station_data\n",
    "from deepar_model_utils import organize_station_data\n",
    "\n",
    "%matplotlib inline"
   ]
  },
  {
   "cell_type": "code",
   "execution_count": null,
   "id": "b57915a5-a566-43e9-8f9d-c0bc52942861",
   "metadata": {},
   "outputs": [],
   "source": [
    "#bucket = \"\""
   ]
  },
  {
   "cell_type": "code",
   "execution_count": null,
   "id": "c5c467b0-a556-40ec-82af-c7f769b56229",
   "metadata": {},
   "outputs": [],
   "source": [
    "#file = \"cleaned_historical_trips_2015_2022.csv\"\n",
    "\n",
    "#s3_data_location = f\"s3://{bucket}/{file}*\"\n",
    "#trips = pd.read_csv(s3_data_location, parse_dates = True)"
   ]
  },
  {
   "cell_type": "code",
   "execution_count": null,
   "id": "64cf8bc0-5e3e-48a3-8ed5-1a921e414100",
   "metadata": {},
   "outputs": [],
   "source": [
    "#trips = trips[(trips[\"starttime\"] > \"2017-09-01\") & (trips[\"stoptime\"] < \"2022-08-31\")]"
   ]
  },
  {
   "cell_type": "code",
   "execution_count": null,
   "id": "a775cdd8-7c03-4433-9165-e9a869d4f9a8",
   "metadata": {},
   "outputs": [],
   "source": [
    "#trips_start = trips[[\"starttime\", \"start station id\", \"start station name\"]]\n",
    "#trips_stop = trips[[\"stoptime\", \"end station id\", \"end station name\"]]"
   ]
  },
  {
   "cell_type": "code",
   "execution_count": null,
   "id": "7d14bdcf-dbf9-45cd-92f5-645624351b2b",
   "metadata": {},
   "outputs": [],
   "source": [
    "#trips_start.to_csv(\"model_trips_start_station_2017_2022.csv\")\n",
    "#trips_stop.to_csv(\"model_trips_stop_station_2017_2022.csv\")"
   ]
  },
  {
   "cell_type": "markdown",
   "id": "247e11f6-27c7-4a11-b6b7-a7f9e6ee78ab",
   "metadata": {},
   "source": [
    "### Trip Start Station\n",
    "\n",
    "Aka how many bikes left a station."
   ]
  },
  {
   "cell_type": "code",
   "execution_count": null,
   "id": "78d30464-52b1-44d9-83be-96b0abe127de",
   "metadata": {},
   "outputs": [],
   "source": [
    "start_file = \"model_trips_start_station_2017_2022.csv\"\n",
    "\n",
    "#s3_start_location = f\"s3://{bucket}/{start_file}*\"\n",
    "#trips_start = pd.read_csv(s3_start_location, parse_dates = True)\n",
    "\n",
    "trips_start = pd.read_csv(start_file, parse_dates = True)\n",
    "trips_start.shape"
   ]
  },
  {
   "cell_type": "markdown",
   "id": "ec8bc24b-76bd-4998-acbf-1e767e6ba72b",
   "metadata": {},
   "source": [
    "Check start station id matches up with start station name. In this case, some stations have changed names due to location changes or due to a lack of data standardization. `trips_start_lookup` is a lookup table to match between the different station ids and station names."
   ]
  },
  {
   "cell_type": "code",
   "execution_count": null,
   "id": "0fe35f71-0506-40d3-8001-bc0a3a6fa8a5",
   "metadata": {},
   "outputs": [],
   "source": [
    "#trips_start[\"start station id\"].nunique()"
   ]
  },
  {
   "cell_type": "code",
   "execution_count": null,
   "id": "bb4803de-cff2-4e4f-93b5-af5863c583c6",
   "metadata": {},
   "outputs": [],
   "source": [
    "#trips_start[\"start station name\"].nunique()"
   ]
  },
  {
   "cell_type": "code",
   "execution_count": null,
   "id": "2fc8c7b1-b3fc-4711-ba3e-963d21675d7a",
   "metadata": {},
   "outputs": [],
   "source": [
    "#trips_start.drop_duplicates(subset = [\"start station id\", \"start station name\"]).to_csv(\"unique_start.csv\")"
   ]
  },
  {
   "cell_type": "code",
   "execution_count": null,
   "id": "7a5b1273-2258-444e-af21-ef202e7a8abd",
   "metadata": {},
   "outputs": [],
   "source": [
    "#trips_start_lookup = trips_start.drop([\"Unnamed: 0\", \"starttime\"], axis = 1).drop_duplicates()"
   ]
  },
  {
   "cell_type": "code",
   "execution_count": null,
   "id": "4f78e17b-5a08-4341-8acb-1c389466d66d",
   "metadata": {},
   "outputs": [],
   "source": [
    "#trips_start_lookup.to_csv(\"trip_start_station_id_lookup.csv\", index = False)"
   ]
  },
  {
   "cell_type": "markdown",
   "id": "cec469a9-e774-4927-990d-45f5d5567f5c",
   "metadata": {},
   "source": [
    "Will use start station id and not start station name. From manually looking at the data, station name has more variation and very similar station names have the same station id.\n",
    "\n",
    "Although not terribly useful now, grouping by and getting the size will help with the resampling later."
   ]
  },
  {
   "cell_type": "code",
   "execution_count": null,
   "id": "90fce3c7-0609-4a8f-b841-66840d50b833",
   "metadata": {},
   "outputs": [],
   "source": [
    "trips_start_group = prep_station_data(trips_start, \"start station id\", \"starttime\")\n",
    "sum(trips_start_group[\"size\"])"
   ]
  },
  {
   "cell_type": "markdown",
   "id": "b0558529-37ec-433f-9163-9e6ff97d415e",
   "metadata": {},
   "source": [
    "Transform data into the format required by DeepAR. Not all series start at the same time or end at the same time. DeepAR allows series to start at different times, but I assume that all series have to end at the same time (or else how is prediction supposed to happen?).\n",
    "\n",
    "The series is also grouped into 15-minute increments."
   ]
  },
  {
   "cell_type": "code",
   "execution_count": null,
   "id": "9412519d-328f-4f4c-b153-a162cdeb53e1",
   "metadata": {},
   "outputs": [],
   "source": [
    "freq = \"15min\" # group and sum trips by a set increment\n",
    "max_date = \"2022-08-31 23:45:00\" # make sure all series end at the same time"
   ]
  },
  {
   "cell_type": "code",
   "execution_count": null,
   "id": "4c9c7cdc-358a-4c44-a0cd-327daea4dc90",
   "metadata": {},
   "outputs": [],
   "source": [
    "comp_station_dict = organize_station_data(trips_start_group, \"start station id\", \"starttime\", freq, max_date)"
   ]
  },
  {
   "cell_type": "code",
   "execution_count": null,
   "id": "c22e0300-491c-4a83-bd12-6684ac7438fb",
   "metadata": {},
   "outputs": [],
   "source": [
    "len(comp_station_dict)"
   ]
  },
  {
   "cell_type": "code",
   "execution_count": null,
   "id": "4daf6fad-300e-42b0-9395-e45d488a8c18",
   "metadata": {
    "tags": []
   },
   "outputs": [],
   "source": [
    "trip_total = 0\n",
    "for station in comp_station_dict:\n",
    "    trip_total += sum(comp_station_dict[station][\"target\"])\n",
    "    \n",
    "trip_total"
   ]
  },
  {
   "cell_type": "code",
   "execution_count": null,
   "id": "aa0cf5fd-61ea-4ade-bbfb-82705a743239",
   "metadata": {},
   "outputs": [],
   "source": [
    "comp_station_list = [comp_station_dict[station] for station in comp_station_dict]"
   ]
  },
  {
   "cell_type": "code",
   "execution_count": null,
   "id": "63868dc9-68dd-4497-a7b5-ddca496e0365",
   "metadata": {},
   "outputs": [],
   "source": [
    "fig, axs = plt.subplots(4, 1, figsize = (20, 20), sharex = True)\n",
    "axx = axs.ravel()\n",
    "for i in range(0, 4):\n",
    "    temp_station = [177, 436, 572, 67][i]\n",
    "    get_station_data(trips_start_group, \"start station id\", \"starttime\", temp_station, freq, max_date).plot(ax = axx[i])\n",
    "    axx[i].set_xlabel(\"date\")\n",
    "    axx[i].set_ylabel(\"trip count\")\n",
    "    axx[i].set_title(str(temp_station))\n",
    "    axx[i].grid(which = \"minor\", axis = \"x\")"
   ]
  },
  {
   "cell_type": "markdown",
   "id": "df31a28e-9fbc-4ccd-a011-23ea99253678",
   "metadata": {},
   "source": [
    "### Trip End Station"
   ]
  },
  {
   "cell_type": "code",
   "execution_count": null,
   "id": "83369c0d-dd81-48af-b780-c35348d93d97",
   "metadata": {},
   "outputs": [],
   "source": [
    "end_file = \"model_trips_stop_station_2017_2022.csv\"\n",
    "\n",
    "s3_end_location = f\"s3://{bucket}/{end_file}*\"\n",
    "trips_stop = pd.read_csv(s3_end_location, parse_dates = True)"
   ]
  },
  {
   "cell_type": "code",
   "execution_count": null,
   "id": "5cd42245-7a48-4930-959b-e83c124dd2bf",
   "metadata": {},
   "outputs": [],
   "source": []
  }
 ],
 "metadata": {
  "kernelspec": {
   "display_name": "default:Python",
   "language": "python",
   "name": "conda-env-default-py"
  },
  "language_info": {
   "codemirror_mode": {
    "name": "ipython",
    "version": 3
   },
   "file_extension": ".py",
   "mimetype": "text/x-python",
   "name": "python",
   "nbconvert_exporter": "python",
   "pygments_lexer": "ipython3",
   "version": "3.9.13"
  }
 },
 "nbformat": 4,
 "nbformat_minor": 5
}
