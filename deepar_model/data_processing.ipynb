{
 "cells": [
  {
   "cell_type": "markdown",
   "id": "cb0efcec-5d6a-42f1-ba51-bd708b30c382",
   "metadata": {},
   "source": [
    "## Data Processing"
   ]
  },
  {
   "cell_type": "code",
   "execution_count": null,
   "id": "c5caecba-61b2-4d74-abc2-3dd3f4c0d36a",
   "metadata": {},
   "outputs": [],
   "source": [
    "import pandas as pd"
   ]
  },
  {
   "cell_type": "code",
   "execution_count": null,
   "id": "b57915a5-a566-43e9-8f9d-c0bc52942861",
   "metadata": {},
   "outputs": [],
   "source": [
    "bucket = \"\""
   ]
  },
  {
   "cell_type": "code",
   "execution_count": null,
   "id": "c5c467b0-a556-40ec-82af-c7f769b56229",
   "metadata": {},
   "outputs": [],
   "source": [
    "#file = \"cleaned_historical_trips_2015_2022.csv\"\n",
    "\n",
    "#s3_data_location = f\"s3://{bucket}/{file}*\"\n",
    "#trips = pd.read_csv(s3_data_location, parse_dates = True)"
   ]
  },
  {
   "cell_type": "code",
   "execution_count": null,
   "id": "64cf8bc0-5e3e-48a3-8ed5-1a921e414100",
   "metadata": {},
   "outputs": [],
   "source": [
    "#trips = trips[(trips[\"starttime\"] > \"2017-09-01\") & (trips[\"stoptime\"] < \"2022-08-31\")]"
   ]
  },
  {
   "cell_type": "code",
   "execution_count": null,
   "id": "a775cdd8-7c03-4433-9165-e9a869d4f9a8",
   "metadata": {},
   "outputs": [],
   "source": [
    "#trips_start = trips[[\"starttime\", \"start station id\", \"start station name\"]]\n",
    "#trips_stop = trips[[\"stoptime\", \"end station id\", \"end station name\"]]"
   ]
  },
  {
   "cell_type": "code",
   "execution_count": null,
   "id": "7d14bdcf-dbf9-45cd-92f5-645624351b2b",
   "metadata": {},
   "outputs": [],
   "source": [
    "#trips_start.to_csv(\"model_trips_start_station_2017_2022.csv\")\n",
    "#trips_stop.to_csv(\"model_trips_stop_station_2017_2022.csv\")"
   ]
  },
  {
   "cell_type": "markdown",
   "id": "247e11f6-27c7-4a11-b6b7-a7f9e6ee78ab",
   "metadata": {},
   "source": [
    "### Trip Start Station"
   ]
  },
  {
   "cell_type": "code",
   "execution_count": null,
   "id": "78d30464-52b1-44d9-83be-96b0abe127de",
   "metadata": {},
   "outputs": [],
   "source": [
    "start_file = \"model_trips_start_station_2017_2022.csv\"\n",
    "\n",
    "s3_start_location = f\"s3://{bucket}/{start_file}*\"\n",
    "trips_start = pd.read_csv(s3_start_location, parse_dates = True)"
   ]
  },
  {
   "cell_type": "code",
   "execution_count": null,
   "id": "0fe35f71-0506-40d3-8001-bc0a3a6fa8a5",
   "metadata": {},
   "outputs": [],
   "source": [
    "trips_start[\"start station id\"].nunique()"
   ]
  },
  {
   "cell_type": "code",
   "execution_count": null,
   "id": "bb4803de-cff2-4e4f-93b5-af5863c583c6",
   "metadata": {},
   "outputs": [],
   "source": [
    "trips_start[\"start station name\"].nunique()"
   ]
  },
  {
   "cell_type": "code",
   "execution_count": null,
   "id": "2fc8c7b1-b3fc-4711-ba3e-963d21675d7a",
   "metadata": {},
   "outputs": [],
   "source": [
    "trips_start.drop_duplicates(subset = [\"start station id\", \"start station name\"]).to_csv(\"unique_start.csv\")"
   ]
  },
  {
   "cell_type": "markdown",
   "id": "df31a28e-9fbc-4ccd-a011-23ea99253678",
   "metadata": {},
   "source": [
    "### Trip End Station"
   ]
  },
  {
   "cell_type": "code",
   "execution_count": null,
   "id": "83369c0d-dd81-48af-b780-c35348d93d97",
   "metadata": {},
   "outputs": [],
   "source": [
    "end_file = \"model_trips_stop_station_2017_2022.csv\"\n",
    "\n",
    "s3_end_location = f\"s3://{bucket}/{end_file}*\"\n",
    "trips_stop = pd.read_csv(s3_end_location, parse_dates = True)"
   ]
  },
  {
   "cell_type": "code",
   "execution_count": null,
   "id": "5cd42245-7a48-4930-959b-e83c124dd2bf",
   "metadata": {},
   "outputs": [],
   "source": []
  }
 ],
 "metadata": {
  "kernelspec": {
   "display_name": "default:Python",
   "language": "python",
   "name": "conda-env-default-py"
  },
  "language_info": {
   "codemirror_mode": {
    "name": "ipython",
    "version": 3
   },
   "file_extension": ".py",
   "mimetype": "text/x-python",
   "name": "python",
   "nbconvert_exporter": "python",
   "pygments_lexer": "ipython3",
   "version": "3.9.13"
  }
 },
 "nbformat": 4,
 "nbformat_minor": 5
}
