{
 "cells": [
  {
   "cell_type": "markdown",
   "id": "cb0efcec-5d6a-42f1-ba51-bd708b30c382",
   "metadata": {},
   "source": [
    "## Data Processing"
   ]
  },
  {
   "cell_type": "code",
   "execution_count": null,
   "id": "c5caecba-61b2-4d74-abc2-3dd3f4c0d36a",
   "metadata": {},
   "outputs": [],
   "source": [
    "import pandas as pd"
   ]
  },
  {
   "cell_type": "code",
   "execution_count": null,
   "id": "b57915a5-a566-43e9-8f9d-c0bc52942861",
   "metadata": {},
   "outputs": [],
   "source": [
    "bucket = \"\""
   ]
  },
  {
   "cell_type": "code",
   "execution_count": null,
   "id": "c5c467b0-a556-40ec-82af-c7f769b56229",
   "metadata": {},
   "outputs": [],
   "source": [
    "#file = \"cleaned_historical_trips_2015_2022.csv\"\n",
    "\n",
    "#s3_data_location = f\"s3://{bucket}/{file}*\"\n",
    "#trips = pd.read_csv(s3_data_location, parse_dates = True)"
   ]
  },
  {
   "cell_type": "code",
   "execution_count": null,
   "id": "64cf8bc0-5e3e-48a3-8ed5-1a921e414100",
   "metadata": {},
   "outputs": [],
   "source": [
    "#trips = trips[(trips[\"starttime\"] > \"2017-09-01\") & (trips[\"stoptime\"] < \"2022-08-31\")]"
   ]
  },
  {
   "cell_type": "code",
   "execution_count": null,
   "id": "a775cdd8-7c03-4433-9165-e9a869d4f9a8",
   "metadata": {},
   "outputs": [],
   "source": [
    "#trips_start = trips[[\"starttime\", \"start station id\", \"start station name\"]]\n",
    "#trips_stop = trips[[\"stoptime\", \"end station id\", \"end station name\"]]"
   ]
  },
  {
   "cell_type": "code",
   "execution_count": null,
   "id": "7d14bdcf-dbf9-45cd-92f5-645624351b2b",
   "metadata": {},
   "outputs": [],
   "source": [
    "#trips_start.to_csv(\"model_trips_start_station_2017_2022.csv\")\n",
    "#trips_stop.to_csv(\"model_trips_stop_station_2017_2022.csv\")"
   ]
  },
  {
   "cell_type": "markdown",
   "id": "247e11f6-27c7-4a11-b6b7-a7f9e6ee78ab",
   "metadata": {},
   "source": [
    "### Trip Start Station"
   ]
  },
  {
   "cell_type": "code",
   "execution_count": null,
   "id": "78d30464-52b1-44d9-83be-96b0abe127de",
   "metadata": {},
   "outputs": [],
   "source": [
    "start_file = \"model_trips_start_station_2017_2022.csv\"\n",
    "\n",
    "s3_start_location = f\"s3://{bucket}/{start_file}*\"\n",
    "trips_start = pd.read_csv(s3_start_location, parse_dates = True)"
   ]
  },
  {
   "cell_type": "code",
   "execution_count": null,
   "id": "d5cb655d-ccd1-4094-bc5a-e3a6e900cd95",
   "metadata": {},
   "outputs": [],
   "source": [
    "trips_start.shape"
   ]
  },
  {
   "cell_type": "markdown",
   "id": "ec8bc24b-76bd-4998-acbf-1e767e6ba72b",
   "metadata": {},
   "source": [
    "Check start station id matches up with start station name. In this case, some stations have changed names due to location changes or due to a lack of data standardization. `trips_start_lookup` is a lookup table to match between the different station ids and station names."
   ]
  },
  {
   "cell_type": "code",
   "execution_count": null,
   "id": "0fe35f71-0506-40d3-8001-bc0a3a6fa8a5",
   "metadata": {},
   "outputs": [],
   "source": [
    "#trips_start[\"start station id\"].nunique()"
   ]
  },
  {
   "cell_type": "code",
   "execution_count": null,
   "id": "bb4803de-cff2-4e4f-93b5-af5863c583c6",
   "metadata": {},
   "outputs": [],
   "source": [
    "#trips_start[\"start station name\"].nunique()"
   ]
  },
  {
   "cell_type": "code",
   "execution_count": null,
   "id": "2fc8c7b1-b3fc-4711-ba3e-963d21675d7a",
   "metadata": {},
   "outputs": [],
   "source": [
    "#trips_start.drop_duplicates(subset = [\"start station id\", \"start station name\"]).to_csv(\"unique_start.csv\")"
   ]
  },
  {
   "cell_type": "code",
   "execution_count": null,
   "id": "7a5b1273-2258-444e-af21-ef202e7a8abd",
   "metadata": {},
   "outputs": [],
   "source": [
    "#trips_start_lookup = trips_start.drop([\"Unnamed: 0\", \"starttime\"], axis = 1).drop_duplicates()"
   ]
  },
  {
   "cell_type": "code",
   "execution_count": null,
   "id": "4f78e17b-5a08-4341-8acb-1c389466d66d",
   "metadata": {},
   "outputs": [],
   "source": [
    "#trips_start_lookup.to_csv(\"trip_start_station_id_lookup.csv\", index = False)"
   ]
  },
  {
   "cell_type": "markdown",
   "id": "cec469a9-e774-4927-990d-45f5d5567f5c",
   "metadata": {},
   "source": [
    "Will use start station id and not start station name. From manually looking at the data, station name has more variation and very similar station names have the same station id."
   ]
  },
  {
   "cell_type": "code",
   "execution_count": null,
   "id": "6b4a4d83-59f8-410c-b710-17ff3fe66db4",
   "metadata": {},
   "outputs": [],
   "source": [
    "trips_start = trips_start.drop([\"Unnamed: 0\", \"start station name\"], axis = 1)"
   ]
  },
  {
   "cell_type": "code",
   "execution_count": null,
   "id": "8ff42cb8-2fde-45cf-bb44-91c0ca180fbf",
   "metadata": {},
   "outputs": [],
   "source": [
    "trips_start[\"starttime\"] = pd.to_datetime(trips_start[\"starttime\"])"
   ]
  },
  {
   "cell_type": "code",
   "execution_count": null,
   "id": "fa5a53e1-05fa-4fde-86e7-e71483929b49",
   "metadata": {},
   "outputs": [],
   "source": [
    "trips_start"
   ]
  },
  {
   "cell_type": "code",
   "execution_count": null,
   "id": "179f854b-f457-41c8-89cf-e781ba663b72",
   "metadata": {},
   "outputs": [],
   "source": [
    "trips_start_group = trips_start.groupby([\"starttime\", \"start station id\"], as_index = False).size()"
   ]
  },
  {
   "cell_type": "code",
   "execution_count": null,
   "id": "df1436e5-b86e-45f8-917f-ab6dbb9dbb2c",
   "metadata": {},
   "outputs": [],
   "source": [
    "sum(trips_start_group[\"size\"])"
   ]
  },
  {
   "cell_type": "code",
   "execution_count": null,
   "id": "de13ef1a-d9c4-4275-88ef-7f89a49f9358",
   "metadata": {},
   "outputs": [],
   "source": [
    "trips_start_group.set_index(\"starttime\", inplace = True)"
   ]
  },
  {
   "cell_type": "code",
   "execution_count": null,
   "id": "4b8307f8-a7b2-420a-ade5-f43c655a1883",
   "metadata": {},
   "outputs": [],
   "source": [
    "trip_start_15min = trips_start_group.groupby([pd.Grouper(freq = \"15min\"), \"start station id\"])"
   ]
  },
  {
   "cell_type": "code",
   "execution_count": null,
   "id": "75539e2a-bc3c-4ead-aabe-eda3e6db3be8",
   "metadata": {},
   "outputs": [],
   "source": [
    "trip_start_15min = trip_start_15min[\"size\"].sum().unstack(\"start station id\")"
   ]
  },
  {
   "cell_type": "code",
   "execution_count": null,
   "id": "199541b8-3e03-4cac-bb3c-b0bbd783fd24",
   "metadata": {},
   "outputs": [],
   "source": [
    "trip_start_15min"
   ]
  },
  {
   "cell_type": "code",
   "execution_count": null,
   "id": "7f3c1622-67d6-41eb-af65-5ba8fd5ddd58",
   "metadata": {},
   "outputs": [],
   "source": [
    "sum(trip_start_15min.sum())"
   ]
  },
  {
   "cell_type": "markdown",
   "id": "38c13932-cfa6-4040-9b2a-53b88410c37d",
   "metadata": {},
   "source": [
    "Find when the first trip took place for each station."
   ]
  },
  {
   "cell_type": "code",
   "execution_count": null,
   "id": "797be2e9-b622-4358-8461-d4306d5d2e1a",
   "metadata": {},
   "outputs": [],
   "source": [
    "trips_start.join(trips_start.groupby(\"start station id\")[\"starttime\"].agg(['min', 'max']), on = \"start station id\")[[\"start station id\", \"min\"]].drop_duplicates()"
   ]
  },
  {
   "cell_type": "markdown",
   "id": "df31a28e-9fbc-4ccd-a011-23ea99253678",
   "metadata": {},
   "source": [
    "### Trip End Station"
   ]
  },
  {
   "cell_type": "code",
   "execution_count": null,
   "id": "83369c0d-dd81-48af-b780-c35348d93d97",
   "metadata": {},
   "outputs": [],
   "source": [
    "end_file = \"model_trips_stop_station_2017_2022.csv\"\n",
    "\n",
    "s3_end_location = f\"s3://{bucket}/{end_file}*\"\n",
    "trips_stop = pd.read_csv(s3_end_location, parse_dates = True)"
   ]
  },
  {
   "cell_type": "code",
   "execution_count": null,
   "id": "5cd42245-7a48-4930-959b-e83c124dd2bf",
   "metadata": {},
   "outputs": [],
   "source": []
  }
 ],
 "metadata": {
  "kernelspec": {
   "display_name": "default:Python",
   "language": "python",
   "name": "conda-env-default-py"
  },
  "language_info": {
   "codemirror_mode": {
    "name": "ipython",
    "version": 3
   },
   "file_extension": ".py",
   "mimetype": "text/x-python",
   "name": "python",
   "nbconvert_exporter": "python",
   "pygments_lexer": "ipython3",
   "version": "3.9.13"
  }
 },
 "nbformat": 4,
 "nbformat_minor": 5
}
