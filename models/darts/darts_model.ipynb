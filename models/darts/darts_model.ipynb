{
 "cells": [
  {
   "cell_type": "markdown",
   "id": "af2d545c-624b-4647-b276-154e60a16440",
   "metadata": {},
   "source": [
    "## Setup\n",
    "\n",
    "Conda environment (from [darts GitHub](https://github.com/unit8co/darts/blob/master/INSTALL.md)):\n",
    "- `conda create --name darts_models python=3.9`\n",
    "- `conda activate darts_models`\n",
    "- `conda install -c conda-forge -c pytorch u8darts-all`\n",
    "- in a cell in a Jupyter notebook: `%pip install darts`\n",
    "- only after done using the environment: `conda deactivate`"
   ]
  },
  {
   "cell_type": "code",
   "execution_count": null,
   "id": "fe9a413e-f186-4bb5-a567-930b94003054",
   "metadata": {},
   "outputs": [],
   "source": [
    "import numpy as np\n",
    "import pandas as pd\n",
    "import darts\n",
    "from sklearn.metrics import mean_squared_error\n",
    "\n",
    "from darts_model_utils import prep_station_data\n",
    "from darts_model_utils import get_station_data\n",
    "from darts_model_utils import darts_station_data"
   ]
  },
  {
   "cell_type": "markdown",
   "id": "1f7fb240-8cc6-46a3-b0f9-de470604d83b",
   "metadata": {},
   "source": [
    "## Trip Start Station"
   ]
  },
  {
   "cell_type": "code",
   "execution_count": null,
   "id": "0f49a2fd-76ab-475b-81fe-02d3ea58fdeb",
   "metadata": {},
   "outputs": [],
   "source": [
    "start_file = \"../model_trips_start_station_2017_2022.csv\"\n",
    "\n",
    "#s3_start_location = f\"s3://{bucket}/{start_file}*\"\n",
    "#trips_start = pd.read_csv(s3_start_location, parse_dates = True)\n",
    "\n",
    "trips_start = pd.read_csv(start_file, parse_dates = True)\n",
    "trips_start.shape"
   ]
  },
  {
   "cell_type": "markdown",
   "id": "a23b78b9-3e75-4db2-a8a5-8c893c797621",
   "metadata": {},
   "source": [
    "### Data Processing"
   ]
  },
  {
   "cell_type": "code",
   "execution_count": null,
   "id": "a429fc82-9358-439a-a7c1-513a4e692b08",
   "metadata": {},
   "outputs": [],
   "source": [
    "trips_start_train = trips_start[(trips_start[\"starttime\"] > \"2017-09-01\") & (trips_start[\"starttime\"] < \"2020-09-01\")]\n",
    "print(trips_start_train.shape)\n",
    "trips_start_val = trips_start[(trips_start[\"starttime\"] > \"2020-09-01\") & (trips_start[\"starttime\"] < \"2021-09-01\")]\n",
    "print(trips_start_val.shape)\n",
    "trips_start_test = trips_start[(trips_start[\"starttime\"] > \"2021-09-01\") & (trips_start[\"starttime\"] < \"2022-09-01\")]\n",
    "print(trips_start_test.shape)"
   ]
  },
  {
   "cell_type": "code",
   "execution_count": null,
   "id": "b4565c88-42b9-4eaf-a9af-45954d56deea",
   "metadata": {},
   "outputs": [],
   "source": [
    "trips_start_train_group = prep_station_data(trips_start_train, \"start station id\", \"starttime\")\n",
    "print(sum(trips_start_train_group[\"size\"]))\n",
    "trips_start_val_group = prep_station_data(trips_start_val, \"start station id\", \"starttime\")\n",
    "print(sum(trips_start_val_group[\"size\"]))\n",
    "trips_start_test_group = prep_station_data(trips_start_test, \"start station id\", \"starttime\")\n",
    "print(sum(trips_start_test_group[\"size\"]))"
   ]
  },
  {
   "cell_type": "code",
   "execution_count": null,
   "id": "ee2f760a-616a-45b3-85ff-7bfc33dddfc7",
   "metadata": {},
   "outputs": [],
   "source": [
    "freq = \"15min\" # group and sum trips by a set increment\n",
    "train_max_date = \"2020-08-31 23:45:00\" # make sure all series end at the same time\n",
    "val_max_date = \"2021-08-31 23:45:00\" # make sure all series end at the same time\n",
    "test_max_date = \"2022-08-31 23:45:00\" # make sure all series end at the same time"
   ]
  },
  {
   "cell_type": "code",
   "execution_count": null,
   "id": "f1af30c9-d336-458a-8811-8ac04327f67a",
   "metadata": {},
   "outputs": [],
   "source": [
    "trips_start_train_list = darts_station_data(trips_start_train_group, \"start station id\", \"starttime\", freq, train_max_date)\n",
    "trips_start_val_list = darts_station_data(trips_start_val_group, \"start station id\", \"starttime\", freq, val_max_date)\n",
    "trips_start_test_list = darts_station_data(trips_start_test_group, \"start station id\", \"starttime\", freq, test_max_date)"
   ]
  },
  {
   "cell_type": "markdown",
   "id": "2446f5a7-4e6d-4b8d-80e8-4152c8898cea",
   "metadata": {},
   "source": [
    "### Random Forest Model"
   ]
  },
  {
   "cell_type": "code",
   "execution_count": null,
   "id": "871624d6-438d-48df-ad3a-1b342d25ef04",
   "metadata": {},
   "outputs": [],
   "source": [
    "from darts.models import RandomForest"
   ]
  },
  {
   "cell_type": "code",
   "execution_count": null,
   "id": "19a376fb-e8c7-4c70-9d49-23d706fb66b6",
   "metadata": {},
   "outputs": [],
   "source": [
    "rf_mod1 = RandomForest(lags = 1)"
   ]
  },
  {
   "cell_type": "code",
   "execution_count": null,
   "id": "8b96bc5a-2914-46aa-b7e1-a6b328e41983",
   "metadata": {},
   "outputs": [],
   "source": [
    "rf_mod1.fit(trips_start_train_list)"
   ]
  },
  {
   "cell_type": "code",
   "execution_count": null,
   "id": "734587c3-8e2a-4e2e-9b95-83172ddafa93",
   "metadata": {},
   "outputs": [],
   "source": [
    "print(np.where(trips_start_val_group[\"start station id\"].unique() == 177))\n",
    "print(np.where(trips_start_train_group[\"start station id\"].unique() == 177))"
   ]
  },
  {
   "cell_type": "code",
   "execution_count": null,
   "id": "a7148206-e7a0-4a91-ae50-4f90b654bc4a",
   "metadata": {},
   "outputs": [],
   "source": [
    "rf_mod1_pred = rf_mod1.predict(1000, trips_start_val_list[247])"
   ]
  },
  {
   "cell_type": "code",
   "execution_count": null,
   "id": "03ff6824-eb8d-4fe4-a518-ec16af96890a",
   "metadata": {},
   "outputs": [],
   "source": [
    "mean_squared_error(trips_start_val_list[247].values()[:1000], rf_mod1_pred[0].values(), squared = False)"
   ]
  },
  {
   "cell_type": "code",
   "execution_count": null,
   "id": "7273484a-58b3-407d-a7ad-34da2a817e47",
   "metadata": {},
   "outputs": [],
   "source": [
    "trips_start_val_list[247].plot()\n",
    "rf_mod1_pred[0].plot()"
   ]
  },
  {
   "cell_type": "code",
   "execution_count": null,
   "id": "b8d00eb1-f9dd-4239-bea4-94bb15f5ed7c",
   "metadata": {},
   "outputs": [],
   "source": []
  }
 ],
 "metadata": {
  "kernelspec": {
   "display_name": "default:Python",
   "language": "python",
   "name": "conda-env-default-py"
  },
  "language_info": {
   "codemirror_mode": {
    "name": "ipython",
    "version": 3
   },
   "file_extension": ".py",
   "mimetype": "text/x-python",
   "name": "python",
   "nbconvert_exporter": "python",
   "pygments_lexer": "ipython3",
   "version": "3.9.13"
  }
 },
 "nbformat": 4,
 "nbformat_minor": 5
}
