{
 "cells": [
  {
   "cell_type": "markdown",
   "id": "e30c714c-64eb-4984-bc10-5b7d9d7e1352",
   "metadata": {},
   "source": [
    "## Deployment Mockup"
   ]
  },
  {
   "cell_type": "markdown",
   "id": "bb0ff147-c11a-4a09-8e39-b995f02b6ada",
   "metadata": {},
   "source": [
    "### Set up"
   ]
  },
  {
   "cell_type": "code",
   "execution_count": 23,
   "id": "91bfae2e-76ab-46e9-a5d8-18b3c6817a8b",
   "metadata": {},
   "outputs": [],
   "source": [
    "import pandas as pd\n",
    "from datetime import datetime\n",
    "import requests\n",
    "import sagemaker\n",
    "from sagemaker.serverless import ServerlessInferenceConfig\n",
    "\n",
    "from deepar_model_utils import DeepARPredictor\n",
    "from deepar_model_utils import get_station_data\n",
    "from deepar_model_utils import prep_station_data"
   ]
  },
  {
   "cell_type": "code",
   "execution_count": 53,
   "id": "46b6c3e1-e24f-493d-81aa-55638f9e0ea2",
   "metadata": {},
   "outputs": [],
   "source": [
    "s3_bucket = \"\"\n",
    "s3_prefix = \"deepar_model\"\n",
    "s3_output_path_start = \"s3://{}/{}/output_start_poc\".format(s3_bucket, s3_prefix)\n",
    "s3_output_path_stop = \"s3://{}/{}/output_stop_poc\".format(s3_bucket, s3_prefix)"
   ]
  },
  {
   "cell_type": "code",
   "execution_count": 25,
   "id": "aef3ee67-ee06-48a6-8e10-076f7f8c02f2",
   "metadata": {
    "tags": []
   },
   "outputs": [],
   "source": [
    "sagemaker_session = sagemaker.Session()\n",
    "role = sagemaker.get_execution_role()\n",
    "region = sagemaker_session.boto_region_name\n",
    "image_name = sagemaker.image_uris.retrieve(\"forecasting-deepar\", region)"
   ]
  },
  {
   "cell_type": "markdown",
   "id": "8e0cea1c-4384-4ec8-9136-b9636a8cdb5e",
   "metadata": {},
   "source": [
    "### 1. Get station name from user and convert it to station id for model."
   ]
  },
  {
   "cell_type": "code",
   "execution_count": 16,
   "id": "132028e3-d5c1-4292-b9b5-6a1f9ab07ea0",
   "metadata": {},
   "outputs": [
    {
     "name": "stdout",
     "output_type": "stream",
     "text": [
      "(460, 2)\n"
     ]
    },
    {
     "data": {
      "text/html": [
       "<div>\n",
       "<style scoped>\n",
       "    .dataframe tbody tr th:only-of-type {\n",
       "        vertical-align: middle;\n",
       "    }\n",
       "\n",
       "    .dataframe tbody tr th {\n",
       "        vertical-align: top;\n",
       "    }\n",
       "\n",
       "    .dataframe thead th {\n",
       "        text-align: right;\n",
       "    }\n",
       "</style>\n",
       "<table border=\"1\" class=\"dataframe\">\n",
       "  <thead>\n",
       "    <tr style=\"text-align: right;\">\n",
       "      <th></th>\n",
       "      <th>station name</th>\n",
       "      <th>station id</th>\n",
       "    </tr>\n",
       "  </thead>\n",
       "  <tbody>\n",
       "    <tr>\n",
       "      <th>0</th>\n",
       "      <td>One Kendall Square at Hampshire St / Portland St</td>\n",
       "      <td>91</td>\n",
       "    </tr>\n",
       "    <tr>\n",
       "      <th>1</th>\n",
       "      <td>Dartmouth St at Newbury St</td>\n",
       "      <td>370</td>\n",
       "    </tr>\n",
       "    <tr>\n",
       "      <th>2</th>\n",
       "      <td>Christian Science Plaza - Massachusetts Ave at...</td>\n",
       "      <td>46</td>\n",
       "    </tr>\n",
       "    <tr>\n",
       "      <th>3</th>\n",
       "      <td>MIT Pacific St at Purrington St</td>\n",
       "      <td>178</td>\n",
       "    </tr>\n",
       "    <tr>\n",
       "      <th>4</th>\n",
       "      <td>Sennott Park Broadway at Norfolk Street</td>\n",
       "      <td>386</td>\n",
       "    </tr>\n",
       "  </tbody>\n",
       "</table>\n",
       "</div>"
      ],
      "text/plain": [
       "                                        station name  station id\n",
       "0   One Kendall Square at Hampshire St / Portland St          91\n",
       "1                         Dartmouth St at Newbury St         370\n",
       "2  Christian Science Plaza - Massachusetts Ave at...          46\n",
       "3                    MIT Pacific St at Purrington St         178\n",
       "4            Sennott Park Broadway at Norfolk Street         386"
      ]
     },
     "execution_count": 16,
     "metadata": {},
     "output_type": "execute_result"
    }
   ],
   "source": [
    "#trips_lookup = pd.read_csv(\"trips_lookup.csv\")\n",
    "trips_lookup = pd.read_csv(\"s3://{}/trips_lookup.csv\".format(s3_bucket))\n",
    "print(trips_lookup.shape)\n",
    "trips_lookup.head()"
   ]
  },
  {
   "cell_type": "code",
   "execution_count": 17,
   "id": "ad17ba5c-876c-4897-8e5b-032ba19e2b2d",
   "metadata": {},
   "outputs": [],
   "source": [
    "station_name_user = \"One Kendall Square at Hampshire St / Portland St\""
   ]
  },
  {
   "cell_type": "code",
   "execution_count": 18,
   "id": "714e9f35-73ba-4c99-8871-e38165758c7c",
   "metadata": {},
   "outputs": [
    {
     "data": {
      "text/plain": [
       "91"
      ]
     },
     "execution_count": 18,
     "metadata": {},
     "output_type": "execute_result"
    }
   ],
   "source": [
    "station_id = trips_lookup[trips_lookup[\"station name\"] == station_name_user][\"station id\"].tolist()[0]\n",
    "station_id"
   ]
  },
  {
   "cell_type": "markdown",
   "id": "e67c5331-a02d-46b6-98a0-cf072acb3909",
   "metadata": {},
   "source": [
    "### 2. Get date and time from user and convert it to timestamp for model."
   ]
  },
  {
   "cell_type": "code",
   "execution_count": 90,
   "id": "75f33c9d-0405-419e-bbb2-2ea4e9bf9af0",
   "metadata": {},
   "outputs": [],
   "source": [
    "datetime_user = \"08/29/2022 00:15\""
   ]
  },
  {
   "cell_type": "code",
   "execution_count": 91,
   "id": "ad4e06f6-9e0d-4d94-abf7-359b034c54a4",
   "metadata": {},
   "outputs": [
    {
     "data": {
      "text/plain": [
       "'2022-08-29 00:15:00'"
      ]
     },
     "execution_count": 91,
     "metadata": {},
     "output_type": "execute_result"
    }
   ],
   "source": [
    "timestamp = datetime.strptime(datetime_user, \"%m/%d/%Y %H:%M\").strftime(\"%Y-%m-%d %H:%M:%S\")\n",
    "timestamp"
   ]
  },
  {
   "cell_type": "markdown",
   "id": "e448c4a0-a0ef-48ab-9738-cfc35c9d47d4",
   "metadata": {},
   "source": [
    "### 3. Get predictions from trip start model."
   ]
  },
  {
   "cell_type": "code",
   "execution_count": 27,
   "id": "344f7fd4-b38d-4f40-8cd1-fb981791962a",
   "metadata": {},
   "outputs": [],
   "source": [
    "freq = \"15min\"\n",
    "max_date = \"2022-08-28 23:45:00\""
   ]
  },
  {
   "cell_type": "code",
   "execution_count": 19,
   "id": "d00098e4-1007-43b1-abba-3e299cbb8bed",
   "metadata": {},
   "outputs": [],
   "source": [
    "trips_start = pd.read_csv(\"s3://{}/model_trips_start_station_20208029_20220831.csv\".format(s3_bucket), parse_dates = True)\n",
    "trips_start_all_group = prep_station_data(trips_start, \"start station id\", \"starttime\")"
   ]
  },
  {
   "cell_type": "code",
   "execution_count": 26,
   "id": "f494bc67-67b7-48fb-bea6-eea2c6239c9a",
   "metadata": {},
   "outputs": [
    {
     "name": "stdout",
     "output_type": "stream",
     "text": [
      "------!"
     ]
    }
   ],
   "source": [
    "trip_start_model = sagemaker.model.Model(\n",
    "    model_data = \"{}/deepar-poc-start-2022-10-19-16-11-42-997/output/model.tar.gz\".format(s3_output_path_start),\n",
    "    image_uri = image_name,\n",
    "    role = role,\n",
    "    predictor_cls = DeepARPredictor, \n",
    "    name = \"deepar-poc-startmodel\")\n",
    "\n",
    "serverless_config = ServerlessInferenceConfig()\n",
    "\n",
    "start_predictor = trip_start_model.deploy(endpoint_name = \"deepar-poc-startendpoint\", \n",
    "                                          serverless_inference_config = serverless_config)"
   ]
  },
  {
   "cell_type": "code",
   "execution_count": 40,
   "id": "fc1b77f2-5779-40e6-8d65-3eaee83b29a4",
   "metadata": {},
   "outputs": [],
   "source": [
    "predicted_start = start_predictor.predict(ts = get_station_data(trips_start_all_group, \"start station id\", \"starttime\", station_id, freq, max_date)[\"size\"], quantiles = [0.9])"
   ]
  },
  {
   "cell_type": "code",
   "execution_count": 92,
   "id": "f9a9c0ac-cde3-42bf-8652-abafc901b223",
   "metadata": {},
   "outputs": [
    {
     "data": {
      "text/plain": [
       "2"
      ]
     },
     "execution_count": 92,
     "metadata": {},
     "output_type": "execute_result"
    }
   ],
   "source": [
    "trips_start_model = round(sum(predicted_start.loc[:timestamp][:-1][\"0.9\"]))\n",
    "trips_start_model"
   ]
  },
  {
   "cell_type": "markdown",
   "id": "41794469-efac-4e00-933d-274b48d3556e",
   "metadata": {},
   "source": [
    "### 4. Get predictions from trip stop model."
   ]
  },
  {
   "cell_type": "code",
   "execution_count": 55,
   "id": "72107bcb-1e11-4a4d-87ad-7e8b9342c6b3",
   "metadata": {},
   "outputs": [],
   "source": [
    "trips_stop = pd.read_csv(\"s3://{}/model_trips_stop_station_20208029_20220831.csv\".format(s3_bucket), parse_dates = True)\n",
    "trips_stop_all_group = prep_station_data(trips_stop, \"end station id\", \"stoptime\")"
   ]
  },
  {
   "cell_type": "code",
   "execution_count": 56,
   "id": "298dac72-671e-4404-94a3-970e1f960ee2",
   "metadata": {},
   "outputs": [
    {
     "name": "stdout",
     "output_type": "stream",
     "text": [
      "--------!"
     ]
    }
   ],
   "source": [
    "trip_stop_model = sagemaker.model.Model(\n",
    "    model_data = \"{}/deepar-poc-stop-2022-10-21-20-01-24-335/output/model.tar.gz\".format(s3_output_path_stop),\n",
    "    image_uri = image_name,\n",
    "    role = role,\n",
    "    predictor_cls = DeepARPredictor, \n",
    "    name = \"deepar-poc-stopmodel\")\n",
    "\n",
    "serverless_config = ServerlessInferenceConfig()\n",
    "\n",
    "stop_predictor = trip_stop_model.deploy(endpoint_name = \"deepar-poc-stopendpoint\", \n",
    "                                        serverless_inference_config = serverless_config)"
   ]
  },
  {
   "cell_type": "code",
   "execution_count": 59,
   "id": "ba10c45c-4e2c-423c-9b74-46ddb3c1c971",
   "metadata": {},
   "outputs": [],
   "source": [
    "predicted_stop = stop_predictor.predict(ts = get_station_data(trips_stop_all_group, \"end station id\", \"stoptime\", station_id, freq, max_date)[\"size\"], quantiles = [0.9])"
   ]
  },
  {
   "cell_type": "code",
   "execution_count": 93,
   "id": "b525939a-00ee-49be-9628-0b0e455c87c7",
   "metadata": {},
   "outputs": [
    {
     "data": {
      "text/plain": [
       "3"
      ]
     },
     "execution_count": 93,
     "metadata": {},
     "output_type": "execute_result"
    }
   ],
   "source": [
    "trips_stop_model = round(sum(predicted_stop.loc[:timestamp][:-1][\"0.9\"]))\n",
    "trips_stop_model"
   ]
  },
  {
   "cell_type": "markdown",
   "id": "4f296f41-ce4a-4661-9558-011593158b3b",
   "metadata": {},
   "source": [
    "### 5. Get real-time station status data."
   ]
  },
  {
   "cell_type": "code",
   "execution_count": 98,
   "id": "3c9ff945-b0bf-4b15-8a9d-dc2d8e45f43d",
   "metadata": {},
   "outputs": [],
   "source": [
    "all_station_status = requests.get(\"https://gbfs.bluebikes.com/gbfs/en/station_status.json\").json()\n",
    "all_station_status = all_station_status[\"data\"][\"stations\"]"
   ]
  },
  {
   "cell_type": "code",
   "execution_count": 99,
   "id": "7a006e5f-d972-4227-a4e6-90238ac0c30f",
   "metadata": {},
   "outputs": [],
   "source": [
    "for i in range(len(all_station_status)):\n",
    "    if all_station_status[i][\"station_id\"] == str(station_id):\n",
    "        station_status = all_station_status[i]\n",
    "        break"
   ]
  },
  {
   "cell_type": "code",
   "execution_count": 100,
   "id": "75270a01-d1ce-486b-a758-c4298c90a52c",
   "metadata": {},
   "outputs": [
    {
     "data": {
      "text/plain": [
       "0"
      ]
     },
     "execution_count": 100,
     "metadata": {},
     "output_type": "execute_result"
    }
   ],
   "source": [
    "realtime_bikes_available = station_status[\"num_bikes_available\"]\n",
    "realtime_bikes_available"
   ]
  },
  {
   "cell_type": "code",
   "execution_count": 101,
   "id": "00d77a6e-6d3c-4b1e-b447-1de38ea34ebf",
   "metadata": {},
   "outputs": [
    {
     "data": {
      "text/plain": [
       "16"
      ]
     },
     "execution_count": 101,
     "metadata": {},
     "output_type": "execute_result"
    }
   ],
   "source": [
    "realtime_docks_available = station_status[\"num_docks_available\"]\n",
    "realtime_docks_available"
   ]
  },
  {
   "cell_type": "markdown",
   "id": "62380cf9-6848-4543-b8c3-143250d2f2ff",
   "metadata": {},
   "source": [
    "### 6. Method 1: Combine model predictions with real-time data."
   ]
  },
  {
   "cell_type": "code",
   "execution_count": 102,
   "id": "497db291-d8b3-4bdb-8383-28d62a2566c9",
   "metadata": {},
   "outputs": [
    {
     "name": "stdout",
     "output_type": "stream",
     "text": [
      "Bike Availability Forecast: 1\n",
      "Dock Availability Forecast: 15\n"
     ]
    }
   ],
   "source": [
    "bike_available = realtime_bikes_available - trips_start_model + trips_stop_model\n",
    "dock_available = realtime_docks_available + trips_start_model - trips_stop_model\n",
    "\n",
    "print(\"Bike Availability Forecast: \" + str(bike_available))\n",
    "print(\"Dock Availability Forecast: \" + str(dock_available))"
   ]
  },
  {
   "cell_type": "markdown",
   "id": "d441cfbd-8e93-42a5-8465-02fcea733105",
   "metadata": {},
   "source": [
    "### 6. Method 2: Display results as-is to the user."
   ]
  },
  {
   "cell_type": "code",
   "execution_count": 103,
   "id": "02b61777-fd9a-4b24-8772-3c2bfc05808c",
   "metadata": {},
   "outputs": [
    {
     "name": "stdout",
     "output_type": "stream",
     "text": [
      "Bike Availability Forecast:\n",
      "  There are currently 0 bikes available with 3 bikes forecasted to arrive.\n",
      "Dock Availability Forecast:\n",
      "  There are currently 16 docks available with 2 bikes forecasted to leave.\n"
     ]
    }
   ],
   "source": [
    "realtime_bike_print = \"\"\n",
    "realtime_dock_print = \"\"\n",
    "model_stop_print = \"\"\n",
    "model_start_print = \"\"\n",
    "\n",
    "if realtime_bikes_available == 1:\n",
    "    realtime_bike_print += \"There is currently {} bike available \".format(realtime_bikes_available)\n",
    "else:\n",
    "    realtime_bike_print += \"There are currently {} bikes available \".format(realtime_bikes_available)\n",
    "\n",
    "if realtime_docks_available == 1:\n",
    "    realtime_dock_print += \"There is currently {} dock available \".format(realtime_docks_available)\n",
    "else:\n",
    "    realtime_dock_print += \"There are currently {} docks available \".format(realtime_docks_available)\n",
    "    \n",
    "if trips_stop_model == 1:\n",
    "    model_stop_print += \"with {} bike forecasted to arrive.\".format(trips_stop_model)\n",
    "else:\n",
    "    model_stop_print += \"with {} bikes forecasted to arrive.\".format(trips_stop_model)\n",
    "\n",
    "if trips_start_model == 1:\n",
    "    model_start_print += \"with {} bike forecasted to leave.\".format(trips_start_model)\n",
    "else:\n",
    "    model_start_print += \"with {} bikes forecasted to leave.\".format(trips_start_model)\n",
    "\n",
    "print(\"Bike Availability Forecast:\")\n",
    "print(\"  \" + realtime_bike_print + model_stop_print)\n",
    "print(\"Dock Availability Forecast:\")\n",
    "print(\"  \" + realtime_dock_print + model_start_print)"
   ]
  },
  {
   "cell_type": "markdown",
   "id": "d5ba6f36-1143-4803-a9d7-1538d997ff5b",
   "metadata": {},
   "source": [
    "### Clean up"
   ]
  },
  {
   "cell_type": "code",
   "execution_count": 104,
   "id": "b286774d-644e-4da3-91b1-052df41d89b5",
   "metadata": {},
   "outputs": [],
   "source": [
    "start_predictor.delete_model()\n",
    "start_predictor.delete_endpoint()"
   ]
  },
  {
   "cell_type": "code",
   "execution_count": 105,
   "id": "d89fec88-6866-445e-9b65-e931ddc5bc1e",
   "metadata": {},
   "outputs": [],
   "source": [
    "stop_predictor.delete_model()\n",
    "stop_predictor.delete_endpoint()"
   ]
  },
  {
   "cell_type": "code",
   "execution_count": null,
   "id": "6c7fb18e-18e1-4773-984a-765dd63a1703",
   "metadata": {},
   "outputs": [],
   "source": []
  }
 ],
 "metadata": {
  "instance_type": "ml.t3.medium",
  "kernelspec": {
   "display_name": "default:Python",
   "language": "python",
   "name": "conda-env-default-py"
  },
  "language_info": {
   "codemirror_mode": {
    "name": "ipython",
    "version": 3
   },
   "file_extension": ".py",
   "mimetype": "text/x-python",
   "name": "python",
   "nbconvert_exporter": "python",
   "pygments_lexer": "ipython3",
   "version": "3.9.13"
  }
 },
 "nbformat": 4,
 "nbformat_minor": 5
}
