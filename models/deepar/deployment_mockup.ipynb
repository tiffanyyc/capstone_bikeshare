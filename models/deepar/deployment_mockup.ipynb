{
 "cells": [
  {
   "cell_type": "markdown",
   "id": "e30c714c-64eb-4984-bc10-5b7d9d7e1352",
   "metadata": {},
   "source": [
    "## Deployment Mockup"
   ]
  },
  {
   "cell_type": "code",
   "execution_count": null,
   "id": "91bfae2e-76ab-46e9-a5d8-18b3c6817a8b",
   "metadata": {},
   "outputs": [],
   "source": [
    "import pandas as pd\n",
    "from datetime import datetime\n",
    "import requests"
   ]
  },
  {
   "cell_type": "markdown",
   "id": "8e0cea1c-4384-4ec8-9136-b9636a8cdb5e",
   "metadata": {},
   "source": [
    "### 1. Get station name from user and convert it to station id for model."
   ]
  },
  {
   "cell_type": "code",
   "execution_count": null,
   "id": "132028e3-d5c1-4292-b9b5-6a1f9ab07ea0",
   "metadata": {},
   "outputs": [],
   "source": [
    "trips_lookup = pd.read_csv(\"trips_lookup.csv\")\n",
    "print(trips_lookup.shape)\n",
    "trips_lookup.head()"
   ]
  },
  {
   "cell_type": "code",
   "execution_count": null,
   "id": "ad17ba5c-876c-4897-8e5b-032ba19e2b2d",
   "metadata": {},
   "outputs": [],
   "source": [
    "station_name_user = \"One Kendall Square at Hampshire St / Portland St\""
   ]
  },
  {
   "cell_type": "code",
   "execution_count": null,
   "id": "714e9f35-73ba-4c99-8871-e38165758c7c",
   "metadata": {},
   "outputs": [],
   "source": [
    "station_id = trips_lookup[trips_lookup[\"station name\"] == station_name_user][\"station id\"].tolist()[0]\n",
    "station_id"
   ]
  },
  {
   "cell_type": "markdown",
   "id": "e67c5331-a02d-46b6-98a0-cf072acb3909",
   "metadata": {},
   "source": [
    "### 2. Get date and time from user and convert it to timestamp for model."
   ]
  },
  {
   "cell_type": "code",
   "execution_count": null,
   "id": "75f33c9d-0405-419e-bbb2-2ea4e9bf9af0",
   "metadata": {},
   "outputs": [],
   "source": [
    "datetime_user = \"08/30/2022 17:00\""
   ]
  },
  {
   "cell_type": "code",
   "execution_count": null,
   "id": "ad4e06f6-9e0d-4d94-abf7-359b034c54a4",
   "metadata": {},
   "outputs": [],
   "source": [
    "timestamp = datetime.strptime(datetime_user, \"%m/%d/%Y %H:%M\").strftime(\"%Y-%m-%d %H:%M:%S\")\n",
    "timestamp"
   ]
  },
  {
   "cell_type": "markdown",
   "id": "e448c4a0-a0ef-48ab-9738-cfc35c9d47d4",
   "metadata": {},
   "source": [
    "### 3. Get predictions from trip start model."
   ]
  },
  {
   "cell_type": "markdown",
   "id": "41794469-efac-4e00-933d-274b48d3556e",
   "metadata": {},
   "source": [
    "### 4. Get predictions from trip stop model."
   ]
  },
  {
   "cell_type": "markdown",
   "id": "4f296f41-ce4a-4661-9558-011593158b3b",
   "metadata": {},
   "source": [
    "### 5. Get real-time station status data."
   ]
  },
  {
   "cell_type": "code",
   "execution_count": null,
   "id": "3c9ff945-b0bf-4b15-8a9d-dc2d8e45f43d",
   "metadata": {},
   "outputs": [],
   "source": [
    "all_station_status = requests.get(\"https://gbfs.bluebikes.com/gbfs/en/station_status.json\").json()\n",
    "all_station_status = all_station_status[\"data\"][\"stations\"]"
   ]
  },
  {
   "cell_type": "code",
   "execution_count": null,
   "id": "7a006e5f-d972-4227-a4e6-90238ac0c30f",
   "metadata": {},
   "outputs": [],
   "source": [
    "for i in range(len(all_station_status)):\n",
    "    if all_station_status[i][\"station_id\"] == str(station_id):\n",
    "        station_status = all_station_status[i]\n",
    "        break"
   ]
  },
  {
   "cell_type": "code",
   "execution_count": null,
   "id": "75270a01-d1ce-486b-a758-c4298c90a52c",
   "metadata": {},
   "outputs": [],
   "source": [
    "realtime_bikes_available = station_status[\"num_bikes_available\"]\n",
    "realtime_bikes_available"
   ]
  },
  {
   "cell_type": "code",
   "execution_count": null,
   "id": "00d77a6e-6d3c-4b1e-b447-1de38ea34ebf",
   "metadata": {},
   "outputs": [],
   "source": [
    "realtime_docks_available = station_status[\"num_docks_available\"]\n",
    "realtime_docks_available"
   ]
  },
  {
   "cell_type": "markdown",
   "id": "62380cf9-6848-4543-b8c3-143250d2f2ff",
   "metadata": {},
   "source": [
    "### 6. Combine model's predictions with real-time data."
   ]
  },
  {
   "cell_type": "markdown",
   "id": "18af1a94-9970-4cdd-854f-d3e0e7a76502",
   "metadata": {},
   "source": [
    "### 7. Display results to the user."
   ]
  },
  {
   "cell_type": "code",
   "execution_count": null,
   "id": "1777833d-1e89-40a4-98f4-5c71df3f7cdb",
   "metadata": {},
   "outputs": [],
   "source": []
  }
 ],
 "metadata": {
  "kernelspec": {
   "display_name": "default:Python",
   "language": "python",
   "name": "conda-env-default-py"
  },
  "language_info": {
   "codemirror_mode": {
    "name": "ipython",
    "version": 3
   },
   "file_extension": ".py",
   "mimetype": "text/x-python",
   "name": "python",
   "nbconvert_exporter": "python",
   "pygments_lexer": "ipython3",
   "version": "3.9.13"
  }
 },
 "nbformat": 4,
 "nbformat_minor": 5
}
