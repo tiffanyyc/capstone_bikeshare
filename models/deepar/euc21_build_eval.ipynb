{
 "cells": [
  {
   "cell_type": "markdown",
   "id": "87711f77-5d3d-449a-b73e-aabe009f375a",
   "metadata": {},
   "source": [
    "## Model Building with K-Means Clustered Time Series"
   ]
  },
  {
   "cell_type": "code",
   "execution_count": null,
   "id": "389c1fc3-0900-43f7-a5fa-1c1e6e5f123a",
   "metadata": {},
   "outputs": [],
   "source": [
    "import sagemaker\n",
    "import numpy as np\n",
    "import pandas as pd\n",
    "import random"
   ]
  },
  {
   "cell_type": "code",
   "execution_count": null,
   "id": "3fd585bc-007e-4745-aa65-2251e4bf0049",
   "metadata": {},
   "outputs": [],
   "source": [
    "# set random seeds for reproducibility\n",
    "np.random.seed(42)\n",
    "random.seed(42)"
   ]
  },
  {
   "cell_type": "code",
   "execution_count": null,
   "id": "3da1f01d-4a2f-43eb-8344-31e2afbcb59a",
   "metadata": {},
   "outputs": [],
   "source": [
    "sagemaker_session = sagemaker.Session()"
   ]
  },
  {
   "cell_type": "code",
   "execution_count": null,
   "id": "7c2a5e80-0a8d-42fc-aba1-52a04435a25c",
   "metadata": {
    "tags": []
   },
   "outputs": [],
   "source": [
    "s3_bucket = \"sand-test-central-481423469601-us-east-1\"\n",
    "s3_prefix = \"deepar_model\""
   ]
  },
  {
   "cell_type": "code",
   "execution_count": null,
   "id": "b2d3bfca-27c9-40ce-99fe-bd545e9e59ea",
   "metadata": {},
   "outputs": [],
   "source": [
    "role = sagemaker.get_execution_role()"
   ]
  },
  {
   "cell_type": "code",
   "execution_count": null,
   "id": "27e3dd5a-2db3-4b00-930a-b7e52947e4ee",
   "metadata": {},
   "outputs": [],
   "source": [
    "region = sagemaker_session.boto_region_name"
   ]
  },
  {
   "cell_type": "code",
   "execution_count": null,
   "id": "843c20d6-8fb9-4bbf-a71e-9b1a30ae19f8",
   "metadata": {},
   "outputs": [],
   "source": [
    "image_name = sagemaker.image_uris.retrieve(\"forecasting-deepar\", region)"
   ]
  },
  {
   "cell_type": "markdown",
   "id": "fbd1ea93-57cf-475a-8a15-1534eae01e31",
   "metadata": {
    "tags": []
   },
   "source": [
    "### Trip Start"
   ]
  },
  {
   "cell_type": "code",
   "execution_count": null,
   "id": "47d14263-5845-4af4-b7e7-2ea13b759f6a",
   "metadata": {},
   "outputs": [],
   "source": [
    "# 1 day clusters\n",
    "#s3_data_path_start = \"s3://{}/{}/data_start_euc21\".format(s3_bucket, s3_prefix)\n",
    "#s3_output_path_start = \"s3://{}/{}/output_start_euc21\".format(s3_bucket, s3_prefix)\n",
    "\n",
    "# 15-min clusters\n",
    "s3_data_path_start = \"s3://{}/{}/data_start_euc21_15min\".format(s3_bucket, s3_prefix)\n",
    "s3_output_path_start = \"s3://{}/{}/output_start_euc21_15min\".format(s3_bucket, s3_prefix)"
   ]
  },
  {
   "cell_type": "markdown",
   "id": "89ed3bab-0934-4870-8118-5f40b0ea2943",
   "metadata": {},
   "source": [
    "**Training**\n",
    "\n",
    "For clusters at 1 day intervals: Takes about 1 hour to train (54 mins) and to produce the below metrics on the test set\n",
    "\n",
    "- RMSE: 1.2711722886593542\n",
    "- mean_absolute_QuantileLoss: 59961.946376903164\n",
    "- mean_wQuantileLoss: 1.0011678751236084\n",
    "- wQuantileLoss[0.1]: 0.20084385777026378\n",
    "- wQuantileLoss[0.2]: 0.40159530110872704\n",
    "- wQuantileLoss[0.3]: 0.6020017034606088\n",
    "- wQuantileLoss[0.4]: 0.8020904218030295\n",
    "- wQuantileLoss[0.5]: 1.001947622389905\n",
    "- wQuantileLoss[0.6]: 1.201635075207404\n",
    "- wQuantileLoss[0.7]: 1.4011514511140977\n",
    "- wQuantileLoss[0.8]: 1.600361343000989\n",
    "- wQuantileLoss[0.9]: 1.798884100257451\n",
    "\n",
    "For clusters at 15 minute intervals: Takes about 1 hour to train (70 mins) and to produce the below metrics on the test set\n",
    "\n",
    "- RMSE: 1.2073422933655307\n",
    "- mean_absolute_QuantileLoss: 59905.82156096457\n",
    "- mean_wQuantileLoss: 1.0002307747439487\n",
    "- wQuantileLoss[0.1]: 0.2007753558905601\n",
    "- wQuantileLoss[0.2]: 0.40090675049026275\n",
    "- wQuantileLoss[0.3]: 0.6009025786623517\n",
    "- wQuantileLoss[0.4]: 0.8008060014892137\n",
    "- wQuantileLoss[0.5]: 1.0006416589221518\n",
    "- wQuantileLoss[0.6]: 1.2004270502086751\n",
    "- wQuantileLoss[0.7]: 1.400073054592201\n",
    "- wQuantileLoss[0.8]: 1.5994305009123087\n",
    "- wQuantileLoss[0.9]: 1.7981140215278137"
   ]
  },
  {
   "cell_type": "code",
   "execution_count": null,
   "id": "b8f17a69-3ae0-45ea-827f-25d632d73023",
   "metadata": {},
   "outputs": [],
   "source": [
    "start_estimator = sagemaker.estimator.Estimator(\n",
    "    image_uri = image_name,\n",
    "    sagemaker_session = sagemaker_session,\n",
    "    role = role,\n",
    "    instance_count = 1,\n",
    "    instance_type = \"ml.c5.2xlarge\",\n",
    "    base_job_name = \"deepar-euc21-start\",\n",
    "    output_path = s3_output_path_start,\n",
    ")"
   ]
  },
  {
   "cell_type": "code",
   "execution_count": null,
   "id": "62e4ddd5-c6f9-4020-93cb-34041454b689",
   "metadata": {},
   "outputs": [],
   "source": [
    "freq = \"15min\"\n",
    "context_length = 4 * 24 * 3\n",
    "prediction_length = 4 * 24 * 3"
   ]
  },
  {
   "cell_type": "code",
   "execution_count": null,
   "id": "d9ca48c4-2da9-44ad-9a59-037c8436ddc2",
   "metadata": {},
   "outputs": [],
   "source": [
    "start_hyperparameters = {\n",
    "    \"time_freq\": freq,\n",
    "    \"epochs\": \"400\",\n",
    "    \"early_stopping_patience\": \"40\",\n",
    "    \"mini_batch_size\": \"64\",\n",
    "    \"learning_rate\": \"5E-4\",\n",
    "    \"context_length\": str(context_length),\n",
    "    \"prediction_length\": str(prediction_length),\n",
    "}"
   ]
  },
  {
   "cell_type": "code",
   "execution_count": null,
   "id": "ab3ae3e7-ae61-4b8f-9272-e1e8084c26c4",
   "metadata": {},
   "outputs": [],
   "source": [
    "start_estimator.set_hyperparameters(**start_hyperparameters)"
   ]
  },
  {
   "cell_type": "code",
   "execution_count": null,
   "id": "ba2b73c2-3331-41dd-8829-a439c086fb4e",
   "metadata": {
    "tags": []
   },
   "outputs": [],
   "source": [
    "%%time\n",
    "start_data_channels = {\"train\": \"{}/train_start/\".format(s3_data_path_start), \"test\": \"{}/test_start/\".format(s3_data_path_start)}\n",
    "\n",
    "#start_estimator.fit(inputs = start_data_channels, wait = True)"
   ]
  },
  {
   "cell_type": "markdown",
   "id": "231addd0-680d-4b4e-b39c-05c789ad1b2a",
   "metadata": {},
   "source": [
    "**Prediction**"
   ]
  },
  {
   "cell_type": "code",
   "execution_count": null,
   "id": "5bc04415-f0b6-432c-a782-cac1f899fb2b",
   "metadata": {},
   "outputs": [],
   "source": [
    "import matplotlib.pyplot as plt\n",
    "from sagemaker.serverless import ServerlessInferenceConfig\n",
    "\n",
    "from deepar_model_utils import DeepARPredictor\n",
    "from deepar_model_utils import get_station_data\n",
    "from deepar_model_utils import prep_station_data"
   ]
  },
  {
   "cell_type": "markdown",
   "id": "e393c0dc-17fc-44e0-8871-314a8c4191b8",
   "metadata": {},
   "source": [
    "Reference for following code: [stackoverflow](https://stackoverflow.com/questions/56255154/how-to-use-a-pretrained-model-from-s3-to-predict-some-data), [Model docs](https://sagemaker.readthedocs.io/en/stable/api/inference/model.html)"
   ]
  },
  {
   "cell_type": "code",
   "execution_count": null,
   "id": "db456ed4-4c3b-4387-acc2-fcb436aa664b",
   "metadata": {},
   "outputs": [],
   "source": [
    "start_file = \"s3://{}/model_trips_start_station_20208029_20220831.csv\".format(s3_bucket)\n",
    "\n",
    "trips_start = pd.read_csv(start_file, parse_dates = True)\n",
    "trips_start.shape"
   ]
  },
  {
   "cell_type": "code",
   "execution_count": null,
   "id": "43cb81d6-6edb-4eec-9e2d-4a5bcfaf3eca",
   "metadata": {},
   "outputs": [],
   "source": [
    "trips_start_all_group = prep_station_data(trips_start, \"start station id\", \"starttime\")\n",
    "print(sum(trips_start_all_group[\"size\"]))"
   ]
  },
  {
   "cell_type": "code",
   "execution_count": null,
   "id": "e5ee31f8-dade-463f-a0bd-c7ee77fad785",
   "metadata": {},
   "outputs": [],
   "source": [
    "# 1 day clusters\n",
    "#start_clusters = pd.read_csv(\"s3://{}/start_clusters_euc21.csv\".format(s3_bucket))\n",
    "\n",
    "# 15-min clusters\n",
    "start_clusters = pd.read_csv(\"s3://{}/start_clusters_euc21_15min.csv\".format(s3_bucket))"
   ]
  },
  {
   "cell_type": "code",
   "execution_count": null,
   "id": "63b658f5-ec6e-4565-9d9d-aa16880d69d1",
   "metadata": {},
   "outputs": [],
   "source": [
    "trip_start_model = sagemaker.model.Model(\n",
    "    # 1 day clusters\n",
    "    #model_data = \"{}/deepar-euc21-start-2022-10-30-15-24-15-866/output/model.tar.gz\".format(s3_output_path_start),\n",
    "    # 15-min clusters\n",
    "    model_data = \"{}/deepar-euc21-start-2022-10-30-18-31-32-130/output/model.tar.gz\".format(s3_output_path_start),\n",
    "    image_uri = image_name,\n",
    "    role = role,\n",
    "    predictor_cls = DeepARPredictor,\n",
    "    name = \"deepar-euc21-startmodel\")\n",
    "\n",
    "serverless_config = ServerlessInferenceConfig()\n",
    "\n",
    "#start_predictor = trip_start_model.deploy(initial_instance_count = 1, \n",
    "#                                          instance_type = \"ml.m5.large\", \n",
    "#                                          endpoint_name = \"deepar-euc21-startendpoint\", \n",
    "#                                          serverless_inference_config = serverless_config)"
   ]
  },
  {
   "cell_type": "code",
   "execution_count": null,
   "id": "36b6b33b-64ab-4a29-a488-e554d73d9966",
   "metadata": {},
   "outputs": [],
   "source": [
    "print(trip_start_model.name) # model name\n",
    "print(trip_start_model.endpoint_name) # endpoint name"
   ]
  },
  {
   "cell_type": "code",
   "execution_count": null,
   "id": "ae2f822f-58ef-4528-b172-e083bbd24a75",
   "metadata": {},
   "outputs": [],
   "source": [
    "station = 68\n",
    "station_cluster = start_clusters[start_clusters[\"station id\"] == station][\"cluster\"].tolist()\n",
    "freq = \"15min\" # group and sum trips by a set increment\n",
    "train_max_date = \"2022-08-28 23:45:00\" # make sure all series end at the same time\n",
    "test_start = \"2022-08-29 00:00:00\"\n",
    "max_date = \"2022-08-31 23:45:00\" # make sure all series end at the same time"
   ]
  },
  {
   "cell_type": "code",
   "execution_count": null,
   "id": "3f2d21bd-902a-4509-829c-79733936b0a4",
   "metadata": {},
   "outputs": [],
   "source": [
    "# stations to try: [177, 436, 572, 67]\n",
    "observed_start = get_station_data(trips_start_all_group, \"start station id\", \"starttime\", station, freq, max_date).loc[test_start:][\"size\"]\n",
    "predicted_start = start_predictor.predict(ts = get_station_data(trips_start_all_group, \"start station id\", \"starttime\", station, freq, train_max_date)[\"size\"], \n",
    "                                          cat = station_cluster,\n",
    "                                          quantiles = [0.025, 0.9, 0.975])\n",
    "\n",
    "plt.figure(figsize = (12, 6))\n",
    "observed_start.plot(label = \"observed\")\n",
    "p2_5 = predicted_start[\"0.025\"]\n",
    "p97_5 = predicted_start[\"0.975\"]\n",
    "plt.fill_between(p2_5.index, p2_5, p97_5, color = \"#808080\", alpha = 0.5, label = \"95% CI\")\n",
    "predicted_start[\"0.9\"].plot(label = \"predicted\")\n",
    "\n",
    "plt.xlabel(\"date\")\n",
    "plt.ylabel(\"trip count\")\n",
    "plt.title(str(station))\n",
    "\n",
    "plt.legend()\n",
    "plt.show()"
   ]
  },
  {
   "cell_type": "markdown",
   "id": "ebad48f4-5359-4479-b951-1c4dc00c5ac3",
   "metadata": {},
   "source": [
    "**Calculate RMSE**"
   ]
  },
  {
   "cell_type": "code",
   "execution_count": null,
   "id": "ade69a18-e652-409f-8a55-6b5bb17b1fa8",
   "metadata": {},
   "outputs": [],
   "source": [
    "from sklearn.metrics import mean_squared_error"
   ]
  },
  {
   "cell_type": "markdown",
   "id": "331e202b-09fe-48aa-b69b-be4f22bac4f5",
   "metadata": {},
   "source": [
    "- Quantile = 0.85; RMSE = 1.24\n",
    "- Quantile = 0.90; RMSE = 1.24\n",
    "- Quantile = 0.95; RMSE = 1.23\n",
    "- Quantile = 0.99; RMSE = 2.66"
   ]
  },
  {
   "cell_type": "code",
   "execution_count": null,
   "id": "4d8e3360-85f0-478c-ab3e-7dc9c7f768a3",
   "metadata": {},
   "outputs": [],
   "source": [
    "quantile = 0.99\n",
    "y_true = []\n",
    "y_pred = []\n",
    "\n",
    "for station in trips_start_all_group[\"start station id\"].unique():\n",
    "    y_true += get_station_data(trips_start_all_group, \"start station id\", \"starttime\", station, freq, max_date, cluster = True, min_date = test_start).loc[test_start:][\"size\"].tolist()\n",
    "    y_pred += start_predictor.predict(ts = get_station_data(trips_start_all_group, \"start station id\", \"starttime\", station, freq, train_max_date)[\"size\"], \n",
    "                                      cat = start_clusters[start_clusters[\"station id\"] == station][\"cluster\"].tolist(),\n",
    "                                      quantiles = [quantile])[str(quantile)].tolist()\n",
    "mean_squared_error(y_true, y_pred, squared = False)"
   ]
  },
  {
   "cell_type": "code",
   "execution_count": null,
   "id": "c151d835-66fd-4be5-8b04-75911d0d202d",
   "metadata": {},
   "outputs": [],
   "source": [
    "start_predictor.delete_model()\n",
    "start_predictor.delete_endpoint()"
   ]
  },
  {
   "cell_type": "markdown",
   "id": "3e7db15f-b839-4f19-9fda-d530607d12ac",
   "metadata": {},
   "source": [
    "### Trip Stop\n",
    "\n",
    "**Note: did not fit a cluster model for trip stop station because the model from start station was not better than the POC.**"
   ]
  },
  {
   "cell_type": "code",
   "execution_count": null,
   "id": "7a939b52-efaa-4dac-8ef6-90187d7204c5",
   "metadata": {},
   "outputs": [],
   "source": [
    "s3_data_path_stop = \"s3://{}/{}/data_stop_euc21\".format(s3_bucket, s3_prefix)\n",
    "s3_output_path_stop = \"s3://{}/{}/output_stop_euc21\".format(s3_bucket, s3_prefix)"
   ]
  },
  {
   "cell_type": "markdown",
   "id": "840b8030-ba81-416e-88d6-60980ec00e81",
   "metadata": {},
   "source": [
    "**Training**\n",
    "\n",
    "Takes about X hours to train (Y mins) and to produce the below metrics on the test set"
   ]
  },
  {
   "cell_type": "code",
   "execution_count": null,
   "id": "fcc1113e-782c-4525-9625-eae4b502eb16",
   "metadata": {},
   "outputs": [],
   "source": [
    "stop_estimator = sagemaker.estimator.Estimator(\n",
    "    image_uri = image_name,\n",
    "    sagemaker_session = sagemaker_session,\n",
    "    role = role,\n",
    "    instance_count = 1,\n",
    "    instance_type = \"ml.c5.2xlarge\",\n",
    "    base_job_name = \"deepar-euc21-stop\",\n",
    "    output_path = s3_output_path_stop,\n",
    ")"
   ]
  },
  {
   "cell_type": "code",
   "execution_count": null,
   "id": "848136ac-91a3-4474-8f51-8ad5db3d9a4e",
   "metadata": {},
   "outputs": [],
   "source": [
    "freq = \"15min\"\n",
    "context_length = 4 * 24 * 3\n",
    "prediction_length = 4 * 24 * 3"
   ]
  },
  {
   "cell_type": "code",
   "execution_count": null,
   "id": "2b7ce4c4-a681-423a-9902-957b6e3a9180",
   "metadata": {},
   "outputs": [],
   "source": [
    "stop_hyperparameters = {\n",
    "    \"time_freq\": freq,\n",
    "    \"epochs\": \"400\",\n",
    "    \"early_stopping_patience\": \"40\",\n",
    "    \"mini_batch_size\": \"64\",\n",
    "    \"learning_rate\": \"5E-4\",\n",
    "    \"context_length\": str(context_length),\n",
    "    \"prediction_length\": str(prediction_length),\n",
    "}"
   ]
  },
  {
   "cell_type": "code",
   "execution_count": null,
   "id": "3b54a8f6-1e18-41d9-9955-1aaceae227a7",
   "metadata": {},
   "outputs": [],
   "source": [
    "stop_estimator.set_hyperparameters(**stop_hyperparameters)"
   ]
  },
  {
   "cell_type": "code",
   "execution_count": null,
   "id": "88c29117-244d-4ad7-ad42-d50b442e0e75",
   "metadata": {
    "tags": []
   },
   "outputs": [],
   "source": [
    "%%time\n",
    "stop_data_channels = {\"train\": \"{}/train_stop/\".format(s3_data_path_stop), \"test\": \"{}/test_stop/\".format(s3_data_path_stop)}\n",
    "\n",
    "#stop_estimator.fit(inputs = stop_data_channels, wait = True)"
   ]
  },
  {
   "cell_type": "markdown",
   "id": "ab9c24d1-144a-44a0-97ac-446b3de948aa",
   "metadata": {},
   "source": [
    "**Prediction**"
   ]
  },
  {
   "cell_type": "code",
   "execution_count": null,
   "id": "9fbc3266-372f-453d-b024-4755106b778f",
   "metadata": {},
   "outputs": [],
   "source": [
    "import matplotlib.pyplot as plt\n",
    "\n",
    "from deepar_model_utils import DeepARPredictor\n",
    "from deepar_model_utils import get_station_data\n",
    "from deepar_model_utils import prep_station_data"
   ]
  },
  {
   "cell_type": "markdown",
   "id": "417ff6f7-d3dc-4d3c-93e5-0c49319f00b6",
   "metadata": {},
   "source": [
    "Reference for following code: [stackoverflow](https://stackoverflow.com/questions/56255154/how-to-use-a-pretrained-model-from-s3-to-predict-some-data), [sagemaker.Model docs](https://sagemaker.readthedocs.io/en/stable/api/inference/model.html])"
   ]
  },
  {
   "cell_type": "code",
   "execution_count": null,
   "id": "c97b953d-dc9e-4826-a94b-8a5980c61180",
   "metadata": {},
   "outputs": [],
   "source": [
    "stop_file = \"s3://{}/model_trips_stop_station_20208029_20220831.csv\".format(s3_bucket)\n",
    "\n",
    "trips_stop = pd.read_csv(stop_file, parse_dates = True)\n",
    "trips_stop.shape"
   ]
  },
  {
   "cell_type": "code",
   "execution_count": null,
   "id": "acb0080b-5c1e-48b5-8404-65637c6c0637",
   "metadata": {},
   "outputs": [],
   "source": [
    "trips_stop_all_group = prep_station_data(trips_stop, \"end station id\", \"stoptime\")\n",
    "print(sum(trips_stop_all_group[\"size\"]))"
   ]
  },
  {
   "cell_type": "code",
   "execution_count": null,
   "id": "40e30afe-6a23-4b66-a1c7-b6f08c17882f",
   "metadata": {},
   "outputs": [],
   "source": [
    "stop_clusters = pd.read_csv(\"stop_clusters_euc21.csv\")"
   ]
  },
  {
   "cell_type": "code",
   "execution_count": null,
   "id": "c124ddb9-b943-472d-88aa-6ad1cb40bc72",
   "metadata": {},
   "outputs": [],
   "source": [
    "trip_stop_model = sagemaker.model.Model(\n",
    "    model_data = \"{}//output/model.tar.gz\".format(s3_output_path_stop),\n",
    "    image_uri = image_name,\n",
    "    role = role,\n",
    "    predictor_cls = DeepARPredictor,\n",
    "    name = \"deepar-euc21-stopmodel\")\n",
    "\n",
    "#stop_predictor = trip_stop_model.deploy(initial_instance_count = 1, \n",
    "#                                        instance_type = \"ml.m5.large\", \n",
    "#                                        endpoint_name = \"deepar-euc21-stopendpoint\")"
   ]
  },
  {
   "cell_type": "code",
   "execution_count": null,
   "id": "ec435e40-ae22-424a-9778-eeabf688a2c9",
   "metadata": {},
   "outputs": [],
   "source": [
    "#print(trip_stop_model.name) # model name\n",
    "#print(trip_stop_model.endpoint_name) # endpoint name"
   ]
  },
  {
   "cell_type": "code",
   "execution_count": null,
   "id": "6eb17305-55d4-4230-b10d-b3c8761251fd",
   "metadata": {},
   "outputs": [],
   "source": [
    "station = 67\n",
    "station_cluster = stop_clusters[stop_clusters[\"station id\"] == station][\"cluster\"].tolist()\n",
    "freq = \"15min\" # group and sum trips by a set increment\n",
    "train_max_date = \"2022-08-28 23:45:00\" # make sure all series end at the same time\n",
    "test_start = \"2022-08-29 00:00:00\"\n",
    "max_date = \"2022-08-31 23:45:00\" # make sure all series end at the same time"
   ]
  },
  {
   "cell_type": "code",
   "execution_count": null,
   "id": "cd49b1ab-a2e4-47f2-ac62-6e23672bf0cf",
   "metadata": {},
   "outputs": [],
   "source": [
    "# stations to try: [177, 436, 572, 67]\n",
    "# note: station 572 results in error because there is no data for that station prior to 8/29/2022\n",
    "observed_stop = get_station_data(trips_stop_all_group, \"end station id\", \"stoptime\", station, freq, max_date).loc[test_start:][\"size\"]\n",
    "predicted_stop = stop_predictor.predict(ts = get_station_data(trips_stop_all_group, \"end station id\", \"stoptime\", station, freq, train_max_date)[\"size\"], \n",
    "                                        cat = station_cluster, \n",
    "                                        quantiles = [0.025, 0.9, 0.975])\n",
    "\n",
    "plt.figure(figsize = (12, 6))\n",
    "observed_stop.plot(label = \"observed\")\n",
    "p2_5 = predicted_stop[\"0.025\"]\n",
    "p97_5 = predicted_stop[\"0.975\"]\n",
    "plt.fill_between(p2_5.index, p2_5, p97_5, color = \"#808080\", alpha = 0.5, label = \"95% CI\")\n",
    "predicted_stop[\"0.9\"].plot(label = \"predicted\")\n",
    "\n",
    "plt.xlabel(\"date\")\n",
    "plt.ylabel(\"trip count\")\n",
    "plt.title(str(station))\n",
    "\n",
    "plt.legend()\n",
    "plt.show()"
   ]
  },
  {
   "cell_type": "code",
   "execution_count": null,
   "id": "9b3aa41c-f027-485d-9058-06b38d9c8043",
   "metadata": {},
   "outputs": [],
   "source": [
    "stop_predictor.delete_model()\n",
    "stop_predictor.delete_endpoint()"
   ]
  },
  {
   "cell_type": "code",
   "execution_count": null,
   "id": "573be150-9271-4cf6-898c-c5cd78c99144",
   "metadata": {},
   "outputs": [],
   "source": []
  }
 ],
 "metadata": {
  "instance_type": "ml.t3.medium",
  "kernelspec": {
   "display_name": "Python 3 (Data Science)",
   "language": "python",
   "name": "python3__SAGEMAKER_INTERNAL__arn:aws:sagemaker:us-east-1:081325390199:image/datascience-1.0"
  },
  "language_info": {
   "codemirror_mode": {
    "name": "ipython",
    "version": 3
   },
   "file_extension": ".py",
   "mimetype": "text/x-python",
   "name": "python",
   "nbconvert_exporter": "python",
   "pygments_lexer": "ipython3",
   "version": "3.7.10"
  }
 },
 "nbformat": 4,
 "nbformat_minor": 5
}
