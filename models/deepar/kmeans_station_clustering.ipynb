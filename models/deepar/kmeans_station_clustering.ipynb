{
 "cells": [
  {
   "cell_type": "markdown",
   "id": "a07a96ea-bdbc-47f7-bfde-40c99589d22e",
   "metadata": {},
   "source": [
    "## K-Means Station Clustering"
   ]
  },
  {
   "cell_type": "code",
   "execution_count": 1,
   "id": "e364536f-7a54-4d0e-9b04-1cd25160563b",
   "metadata": {},
   "outputs": [
    {
     "name": "stderr",
     "output_type": "stream",
     "text": [
      "/home/studio-lab-user/.conda/envs/default/lib/python3.9/site-packages/tslearn/bases/bases.py:15: UserWarning: h5py not installed, hdf5 features will not be supported.\n",
      "Install h5py to use hdf5 features: http://docs.h5py.org/\n",
      "  warn(h5py_msg)\n"
     ]
    }
   ],
   "source": [
    "import pandas as pd\n",
    "import matplotlib.pyplot as plt\n",
    "from tqdm import tqdm\n",
    "\n",
    "from tslearn.utils import to_time_series_dataset\n",
    "from tslearn.clustering import TimeSeriesKMeans\n",
    "\n",
    "from deepar_model_utils import prep_station_data\n",
    "from deepar_model_utils import get_station_data\n",
    "from deepar_model_utils import deepar_station_data\n",
    "from deepar_model_utils import write_dicts_to_file\n",
    "\n",
    "%matplotlib inline"
   ]
  },
  {
   "cell_type": "code",
   "execution_count": null,
   "id": "91341c4f-cf27-4334-9ae9-77e5792e3629",
   "metadata": {},
   "outputs": [],
   "source": [
    "s3_bucket = \"\""
   ]
  },
  {
   "cell_type": "markdown",
   "id": "618e9b8a-7153-4f29-9bb8-9cd7f12ed558",
   "metadata": {},
   "source": [
    "## Trip Start Station"
   ]
  },
  {
   "cell_type": "code",
   "execution_count": 2,
   "id": "39837d71-d153-4a3d-b144-e9f1d7752db4",
   "metadata": {},
   "outputs": [
    {
     "data": {
      "text/plain": [
       "(6059710, 2)"
      ]
     },
     "execution_count": 2,
     "metadata": {},
     "output_type": "execute_result"
    }
   ],
   "source": [
    "#start_file = \"s3://{}/model_trips_start_station_20208029_20220831.csv\".format(s3_bucket)\n",
    "\n",
    "start_file = \"../model_trips_start_station_20208029_20220831.csv\"\n",
    "\n",
    "trips_start = pd.read_csv(start_file, parse_dates = True)\n",
    "trips_start.shape"
   ]
  },
  {
   "cell_type": "code",
   "execution_count": 3,
   "id": "9e0fef48-7ca3-4e50-85cd-c8ad7e7bc8a6",
   "metadata": {},
   "outputs": [
    {
     "name": "stdout",
     "output_type": "stream",
     "text": [
      "6059710\n"
     ]
    }
   ],
   "source": [
    "trips_start_all_group = prep_station_data(trips_start, \"start station id\", \"starttime\")\n",
    "print(sum(trips_start_all_group[\"size\"]))"
   ]
  },
  {
   "cell_type": "code",
   "execution_count": 4,
   "id": "eea3f050-083a-4231-aa6d-fabea6070576",
   "metadata": {},
   "outputs": [],
   "source": [
    "freq = \"D\" # group and sum trips by a set increment\n",
    "min_date = \"2020-08-29 00:00:00\" # make sure all series end at the same time\n",
    "max_date = \"2022-08-31 23:45:00\" # make sure all series end at the same time"
   ]
  },
  {
   "cell_type": "markdown",
   "id": "d732a3ea-a249-4f15-bc1d-0fd0708e7e95",
   "metadata": {},
   "source": [
    "**EDA**"
   ]
  },
  {
   "cell_type": "code",
   "execution_count": null,
   "id": "8f6eb54b-bd2c-476b-ab46-5144cfe84e31",
   "metadata": {},
   "outputs": [],
   "source": [
    "# from manual_station_clustering notebook\n",
    "most_popular_start = [67, 68, 74, 60, 178, 46, 107, 179, 9, 53]\n",
    "semi_popular_start = [157, 471, 40, 39, 437, 177, 190, 22, 386, 33]\n",
    "least_popular_start = [546, 556, 543, 388, 548, 317, 571, 308, 570, 572]"
   ]
  },
  {
   "cell_type": "code",
   "execution_count": null,
   "id": "59a55b3e-5f38-4fa2-b431-b3b58ada6047",
   "metadata": {},
   "outputs": [],
   "source": [
    "fig, axs = plt.subplots(10, 1, figsize = (20, 20), sharex = True)\n",
    "axx = axs.ravel()\n",
    "for i in range(0, 10):\n",
    "    temp_station = least_popular_start[i]\n",
    "    get_station_data(trips_start_all_group, \"start station id\", \"starttime\", temp_station, freq, max_date, cluster = True, min_date = min_date).plot(ax = axx[i])\n",
    "    axx[i].set_xlabel(\"date\")\n",
    "    axx[i].set_ylabel(\"trip count\")\n",
    "    axx[i].set_title(str(temp_station))\n",
    "    axx[i].grid(which = \"minor\", axis = \"x\")"
   ]
  },
  {
   "cell_type": "markdown",
   "id": "1a0fcbc5-b7bb-4bd4-9bd0-e36314c106db",
   "metadata": {},
   "source": [
    "**Time Series K-Means Clustering**"
   ]
  },
  {
   "cell_type": "code",
   "execution_count": 5,
   "id": "3b209e8e-c750-427b-bdfc-012f3ee55d81",
   "metadata": {},
   "outputs": [
    {
     "name": "stderr",
     "output_type": "stream",
     "text": [
      "100%|██████████| 451/451 [00:13<00:00, 32.42it/s]\n"
     ]
    }
   ],
   "source": [
    "start_list = []\n",
    "for station in tqdm(trips_start_all_group[\"start station id\"].unique()):\n",
    "    start_station_data = get_station_data(trips_start_all_group, \"start station id\", \"starttime\", station, freq, max_date, cluster = True, min_date = min_date)\n",
    "    start_list.append(start_station_data[\"size\"].tolist())"
   ]
  },
  {
   "cell_type": "code",
   "execution_count": 6,
   "id": "718591b7-94d1-465b-9cb9-c5ba8c528b85",
   "metadata": {},
   "outputs": [
    {
     "name": "stdout",
     "output_type": "stream",
     "text": [
      "451\n",
      "6059710\n"
     ]
    }
   ],
   "source": [
    "print(len(start_list))\n",
    "print(sum([sum(i) for i in zip(*start_list)]))"
   ]
  },
  {
   "cell_type": "code",
   "execution_count": 7,
   "id": "2f1891c8-c309-4658-9b7d-62eea0c5c2f2",
   "metadata": {},
   "outputs": [
    {
     "data": {
      "text/plain": [
       "(451, 733, 1)"
      ]
     },
     "execution_count": 7,
     "metadata": {},
     "output_type": "execute_result"
    }
   ],
   "source": [
    "formatted_start_list = to_time_series_dataset(start_list)\n",
    "formatted_start_list.shape"
   ]
  },
  {
   "cell_type": "code",
   "execution_count": null,
   "id": "9c565f86-de6b-49a2-bf4b-d241cd97d950",
   "metadata": {},
   "outputs": [],
   "source": [
    "%%time\n",
    "start_km = TimeSeriesKMeans(n_clusters = 21, metric = \"dtw\", max_iter = 10)\n",
    "start_km_labels = start_km.fit_predict(formatted_start_list)"
   ]
  },
  {
   "cell_type": "code",
   "execution_count": null,
   "id": "dad0dee2-7a50-484f-8133-b0e527f75966",
   "metadata": {},
   "outputs": [],
   "source": [
    "start_km_labels"
   ]
  },
  {
   "cell_type": "code",
   "execution_count": null,
   "id": "90455da5-ea07-47b6-b280-280898f5c041",
   "metadata": {},
   "outputs": [],
   "source": [
    "[label for label in start_km_labels]"
   ]
  },
  {
   "cell_type": "code",
   "execution_count": null,
   "id": "44408dc5-6c19-4c96-95d8-5c6b9ded53bc",
   "metadata": {},
   "outputs": [],
   "source": [
    "start_series_names = [station for station in trips_start_all_group[\"start station id\"].unique()]\n",
    "start_km_labels_list = [label for label in start_km_labels]\n",
    "\n",
    "start_clusters = pd.DataFrame(zip(start_series_names, start_km_labels_list), columns = [\"station id\", \"cluster\"]).sort_values(by = \"cluster\")\n",
    "start_clusters"
   ]
  },
  {
   "cell_type": "code",
   "execution_count": null,
   "id": "a9e6aa52-c84b-4f3c-8e21-6fe8cc6d5de5",
   "metadata": {},
   "outputs": [],
   "source": [
    "start_clusters.to_csv(\"start_clusters.csv\", index = False)"
   ]
  },
  {
   "cell_type": "markdown",
   "id": "b43650b6-b80d-414a-aa27-39d278995027",
   "metadata": {},
   "source": [
    "## Trip End Station"
   ]
  },
  {
   "cell_type": "code",
   "execution_count": null,
   "id": "542d75e7-52f9-432b-a385-f27e87616bd0",
   "metadata": {},
   "outputs": [],
   "source": [
    "#stop_file = \"s3://{}/model_trips_stop_station_20208029_20220831.csv\".format(s3_bucket)\n",
    "\n",
    "stop_file = \"../model_trips_stop_station_20208029_20220831.csv\"\n",
    "\n",
    "trips_stop = pd.read_csv(stop_file, parse_dates = True)\n",
    "trips_stop.shape"
   ]
  },
  {
   "cell_type": "code",
   "execution_count": null,
   "id": "6943db82-b9da-4514-8987-11c9d6a1832b",
   "metadata": {},
   "outputs": [],
   "source": [
    "trips_stop_all_group = prep_station_data(trips_stop, \"end station id\", \"stoptime\")\n",
    "print(sum(trips_stop_all_group[\"size\"]))"
   ]
  },
  {
   "cell_type": "code",
   "execution_count": null,
   "id": "6bed3421-143e-4016-948b-ed1f3cd09249",
   "metadata": {},
   "outputs": [],
   "source": [
    "freq = \"D\" # group and sum trips by a set increment\n",
    "min_date = \"2020-08-29 00:00:00\" # make sure all series end at the same time\n",
    "max_date = \"2022-08-31 23:45:00\" # make sure all series end at the same time"
   ]
  },
  {
   "cell_type": "markdown",
   "id": "16c82fa3-2d5f-47ba-b117-9ca9784a293f",
   "metadata": {},
   "source": [
    "**EDA**"
   ]
  },
  {
   "cell_type": "code",
   "execution_count": null,
   "id": "4b925969-d8db-4e3c-a254-d68490350ecf",
   "metadata": {},
   "outputs": [],
   "source": [
    "# from manual_station_clustering notebook\n",
    "most_popular_stop = [67, 68, 74, 60, 107, 46, 178, 179, 53, 9]\n",
    "semi_popular_stop = [189, 471, 39, 40, 437, 190, 370, 22, 33, 459]\n",
    "least_popular_stop = [556, 543, 388, 548, 317, 308, 570, 572, 571, 438]"
   ]
  },
  {
   "cell_type": "code",
   "execution_count": null,
   "id": "646ed22e-d18d-4aad-8062-11bceffe46dd",
   "metadata": {},
   "outputs": [],
   "source": [
    "fig, axs = plt.subplots(10, 1, figsize = (20, 20), sharex = True)\n",
    "axx = axs.ravel()\n",
    "for i in range(0, 10):\n",
    "    temp_station = least_popular_stop[i]\n",
    "    get_station_data(trips_stop_all_group, \"end station id\", \"stoptime\", temp_station, freq, max_date, cluster = True, min_date = min_date).plot(ax = axx[i])\n",
    "    axx[i].set_xlabel(\"date\")\n",
    "    axx[i].set_ylabel(\"trip count\")\n",
    "    axx[i].set_title(str(temp_station))\n",
    "    axx[i].grid(which = \"minor\", axis = \"x\")"
   ]
  },
  {
   "cell_type": "markdown",
   "id": "1572dc63-0955-450b-8db3-df3efd61106f",
   "metadata": {},
   "source": [
    "**Time Series K-Means Clustering**"
   ]
  },
  {
   "cell_type": "code",
   "execution_count": null,
   "id": "f67386d9-642b-4464-a0c9-99fdda0022d6",
   "metadata": {},
   "outputs": [],
   "source": [
    "stop_list = []\n",
    "for station in tqdm(trips_stop_all_group[\"end station id\"].unique()):\n",
    "    stop_station_data = get_station_data(trips_stop_all_group, \"end station id\", \"stoptime\", station, freq, max_date, cluster = True, min_date = min_date)\n",
    "    stop_list.append(stop_station_data[\"size\"].tolist())"
   ]
  },
  {
   "cell_type": "code",
   "execution_count": null,
   "id": "2678f3bb-5029-4cd5-8bcd-6f74844efa23",
   "metadata": {},
   "outputs": [],
   "source": [
    "print(len(stop_list))\n",
    "print(sum([sum(i) for i in zip(*stop_list)]))"
   ]
  },
  {
   "cell_type": "code",
   "execution_count": null,
   "id": "d2b06c04-acc0-474e-8c73-b68a85eff162",
   "metadata": {},
   "outputs": [],
   "source": [
    "formatted_stop_list = to_time_series_dataset(stop_list)\n",
    "formatted_stop_list.shape"
   ]
  },
  {
   "cell_type": "code",
   "execution_count": null,
   "id": "c46baaf9-e92e-41c2-9786-2fe639550832",
   "metadata": {},
   "outputs": [],
   "source": [
    "%%time\n",
    "stop_km = TimeSeriesKMeans(n_clusters = 21, metric = \"dtw\", max_iter = 10)\n",
    "stop_km_labels = stop_km.fit_predict(formatted_stop_list)"
   ]
  },
  {
   "cell_type": "code",
   "execution_count": null,
   "id": "4cdb5341-51d6-4aca-94de-238a096d49c8",
   "metadata": {},
   "outputs": [],
   "source": [
    "stop_km_labels"
   ]
  },
  {
   "cell_type": "code",
   "execution_count": null,
   "id": "348bc118-8e03-415e-84dc-a80603a061b3",
   "metadata": {},
   "outputs": [],
   "source": [
    "[label for label in stop_km_labels]"
   ]
  },
  {
   "cell_type": "code",
   "execution_count": null,
   "id": "b7f9e044-91d9-471a-98df-57455a401ea8",
   "metadata": {},
   "outputs": [],
   "source": [
    "stop_series_names = [station for station in trips_stop_all_group[\"end station id\"].unique()]\n",
    "stop_km_labels_list = [label for label in stop_km_labels]\n",
    "\n",
    "stop_clusters = pd.DataFrame(zip(stop_series_names, stop_km_labels_list), columns = [\"station id\", \"cluster\"]).sort_values(by = \"cluster\")\n",
    "stop_clusters"
   ]
  },
  {
   "cell_type": "code",
   "execution_count": null,
   "id": "86856758-653f-4b35-9b2d-a850320ad752",
   "metadata": {},
   "outputs": [],
   "source": [
    "stop_clusters.to_csv(\"stop_clusters.csv\", index = False)"
   ]
  }
 ],
 "metadata": {
  "instance_type": "ml.c5.2xlarge",
  "kernelspec": {
   "display_name": "default:Python",
   "language": "python",
   "name": "conda-env-default-py"
  },
  "language_info": {
   "codemirror_mode": {
    "name": "ipython",
    "version": 3
   },
   "file_extension": ".py",
   "mimetype": "text/x-python",
   "name": "python",
   "nbconvert_exporter": "python",
   "pygments_lexer": "ipython3",
   "version": "3.9.13"
  }
 },
 "nbformat": 4,
 "nbformat_minor": 5
}
