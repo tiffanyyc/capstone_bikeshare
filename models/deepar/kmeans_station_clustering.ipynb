{
 "cells": [
  {
   "cell_type": "markdown",
   "id": "a07a96ea-bdbc-47f7-bfde-40c99589d22e",
   "metadata": {},
   "source": [
    "## K-Means Station Clustering"
   ]
  },
  {
   "cell_type": "code",
   "execution_count": 1,
   "id": "e364536f-7a54-4d0e-9b04-1cd25160563b",
   "metadata": {},
   "outputs": [
    {
     "name": "stderr",
     "output_type": "stream",
     "text": [
      "/home/studio-lab-user/.conda/envs/default/lib/python3.9/site-packages/tslearn/bases/bases.py:15: UserWarning: h5py not installed, hdf5 features will not be supported.\n",
      "Install h5py to use hdf5 features: http://docs.h5py.org/\n",
      "  warn(h5py_msg)\n"
     ]
    }
   ],
   "source": [
    "import pandas as pd\n",
    "import matplotlib.pyplot as plt\n",
    "from tqdm import tqdm\n",
    "\n",
    "from tslearn.utils import to_time_series_dataset\n",
    "from tslearn.clustering import TimeSeriesKMeans\n",
    "\n",
    "from deepar_model_utils import prep_station_data\n",
    "from deepar_model_utils import get_station_data\n",
    "from deepar_model_utils import get_cluster_data\n",
    "from deepar_model_utils import deepar_station_data\n",
    "from deepar_model_utils import write_dicts_to_file\n",
    "\n",
    "%matplotlib inline"
   ]
  },
  {
   "cell_type": "markdown",
   "id": "618e9b8a-7153-4f29-9bb8-9cd7f12ed558",
   "metadata": {},
   "source": [
    "## Trip Start Station"
   ]
  },
  {
   "cell_type": "code",
   "execution_count": 2,
   "id": "39837d71-d153-4a3d-b144-e9f1d7752db4",
   "metadata": {},
   "outputs": [
    {
     "data": {
      "text/plain": [
       "(6059710, 2)"
      ]
     },
     "execution_count": 2,
     "metadata": {},
     "output_type": "execute_result"
    }
   ],
   "source": [
    "start_file = \"../model_trips_start_station_20208029_20220831.csv\"\n",
    "\n",
    "#s3_start_location = f\"s3://{bucket}/{start_file}*\"\n",
    "#trips_start = pd.read_csv(s3_start_location, parse_dates = True)\n",
    "\n",
    "trips_start = pd.read_csv(start_file, parse_dates = True)\n",
    "trips_start.shape"
   ]
  },
  {
   "cell_type": "code",
   "execution_count": 3,
   "id": "9e0fef48-7ca3-4e50-85cd-c8ad7e7bc8a6",
   "metadata": {},
   "outputs": [
    {
     "name": "stdout",
     "output_type": "stream",
     "text": [
      "6059710\n"
     ]
    }
   ],
   "source": [
    "trips_start_all_group = prep_station_data(trips_start, \"start station id\", \"starttime\")\n",
    "print(sum(trips_start_all_group[\"size\"]))"
   ]
  },
  {
   "cell_type": "code",
   "execution_count": 4,
   "id": "eea3f050-083a-4231-aa6d-fabea6070576",
   "metadata": {},
   "outputs": [],
   "source": [
    "freq = \"15min\" # group and sum trips by a set increment\n",
    "min_date = \"2020-08-29 00:00:00\" # make sure all series end at the same time\n",
    "max_date = \"2022-08-31 23:45:00\" # make sure all series end at the same time"
   ]
  },
  {
   "cell_type": "code",
   "execution_count": 5,
   "id": "3b209e8e-c750-427b-bdfc-012f3ee55d81",
   "metadata": {},
   "outputs": [
    {
     "name": "stderr",
     "output_type": "stream",
     "text": [
      "100%|██████████| 451/451 [00:38<00:00, 11.64it/s]\n"
     ]
    }
   ],
   "source": [
    "start_list = []\n",
    "for station in tqdm(trips_start_all_group[\"start station id\"].unique()):\n",
    "    start_list.append(get_cluster_data(trips_start_all_group, \"start station id\", \"starttime\", station, freq, min_date, max_date))"
   ]
  },
  {
   "cell_type": "code",
   "execution_count": 6,
   "id": "718591b7-94d1-465b-9cb9-c5ba8c528b85",
   "metadata": {},
   "outputs": [
    {
     "name": "stdout",
     "output_type": "stream",
     "text": [
      "451\n",
      "6059710\n"
     ]
    }
   ],
   "source": [
    "print(len(start_list))\n",
    "print(sum([sum(i) for i in zip(*start_list)]))"
   ]
  },
  {
   "cell_type": "code",
   "execution_count": 7,
   "id": "2f1891c8-c309-4658-9b7d-62eea0c5c2f2",
   "metadata": {},
   "outputs": [
    {
     "data": {
      "text/plain": [
       "(451, 70368, 1)"
      ]
     },
     "execution_count": 7,
     "metadata": {},
     "output_type": "execute_result"
    }
   ],
   "source": [
    "formatted_start_list = to_time_series_dataset(start_list)\n",
    "formatted_start_list.shape"
   ]
  },
  {
   "cell_type": "code",
   "execution_count": null,
   "id": "9c565f86-de6b-49a2-bf4b-d241cd97d950",
   "metadata": {},
   "outputs": [],
   "source": [
    "%%time\n",
    "start_km = TimeSeriesKMeans(n_clusters = 21, metric = \"dtw\", max_iter = 10)\n",
    "start_km_labels = start_km.fit_predict(formatted_start_list)"
   ]
  },
  {
   "cell_type": "code",
   "execution_count": null,
   "id": "d9aa235b-ec55-4a98-8d5c-a65f79035eee",
   "metadata": {},
   "outputs": [],
   "source": []
  }
 ],
 "metadata": {
  "kernelspec": {
   "display_name": "default:Python",
   "language": "python",
   "name": "conda-env-default-py"
  },
  "language_info": {
   "codemirror_mode": {
    "name": "ipython",
    "version": 3
   },
   "file_extension": ".py",
   "mimetype": "text/x-python",
   "name": "python",
   "nbconvert_exporter": "python",
   "pygments_lexer": "ipython3",
   "version": "3.9.13"
  }
 },
 "nbformat": 4,
 "nbformat_minor": 5
}
