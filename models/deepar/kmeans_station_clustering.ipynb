{
 "cells": [
  {
   "cell_type": "markdown",
   "id": "a07a96ea-bdbc-47f7-bfde-40c99589d22e",
   "metadata": {},
   "source": [
    "## K-Means Station Clustering"
   ]
  },
  {
   "cell_type": "code",
   "execution_count": null,
   "id": "e364536f-7a54-4d0e-9b04-1cd25160563b",
   "metadata": {},
   "outputs": [],
   "source": [
    "import pandas as pd\n",
    "import matplotlib.pyplot as plt\n",
    "from tqdm import tqdm\n",
    "\n",
    "from tslearn.utils import to_time_series_dataset\n",
    "from tslearn.clustering import TimeSeriesKMeans\n",
    "\n",
    "from deepar_model_utils import prep_station_data\n",
    "from deepar_model_utils import get_station_data\n",
    "from deepar_model_utils import deepar_station_data\n",
    "from deepar_model_utils import write_dicts_to_file\n",
    "\n",
    "%matplotlib inline"
   ]
  },
  {
   "cell_type": "markdown",
   "id": "618e9b8a-7153-4f29-9bb8-9cd7f12ed558",
   "metadata": {},
   "source": [
    "## Trip Start Station"
   ]
  },
  {
   "cell_type": "code",
   "execution_count": null,
   "id": "39837d71-d153-4a3d-b144-e9f1d7752db4",
   "metadata": {},
   "outputs": [],
   "source": [
    "start_file = \"../model_trips_start_station_20208029_20220831.csv\"\n",
    "\n",
    "trips_start = pd.read_csv(start_file, parse_dates = True)\n",
    "trips_start.shape"
   ]
  },
  {
   "cell_type": "code",
   "execution_count": null,
   "id": "9e0fef48-7ca3-4e50-85cd-c8ad7e7bc8a6",
   "metadata": {},
   "outputs": [],
   "source": [
    "trips_start_all_group = prep_station_data(trips_start, \"start station id\", \"starttime\")\n",
    "print(sum(trips_start_all_group[\"size\"]))"
   ]
  },
  {
   "cell_type": "markdown",
   "id": "d732a3ea-a249-4f15-bc1d-0fd0708e7e95",
   "metadata": {},
   "source": [
    "**EDA**"
   ]
  },
  {
   "cell_type": "code",
   "execution_count": null,
   "id": "eea3f050-083a-4231-aa6d-fabea6070576",
   "metadata": {},
   "outputs": [],
   "source": [
    "freq = \"15min\" # group and sum trips by a set increment\n",
    "min_date = \"2020-08-29 00:00:00\" # make sure all series start at the same time\n",
    "max_date = \"2022-08-31 23:45:00\" # make sure all series end at the same time"
   ]
  },
  {
   "cell_type": "code",
   "execution_count": null,
   "id": "8f6eb54b-bd2c-476b-ab46-5144cfe84e31",
   "metadata": {},
   "outputs": [],
   "source": [
    "# from manual_station_clustering notebook\n",
    "most_popular_start = [67, 68, 74, 60, 178, 46, 107, 179, 9, 53]\n",
    "semi_popular_start = [157, 471, 40, 39, 437, 177, 190, 22, 386, 33]\n",
    "least_popular_start = [546, 556, 543, 388, 548, 317, 571, 308, 570, 572]"
   ]
  },
  {
   "cell_type": "code",
   "execution_count": null,
   "id": "59a55b3e-5f38-4fa2-b431-b3b58ada6047",
   "metadata": {
    "tags": []
   },
   "outputs": [],
   "source": [
    "fig, axs = plt.subplots(10, 1, figsize = (20, 20), sharex = True)\n",
    "axx = axs.ravel()\n",
    "for i in range(0, 10):\n",
    "    temp_station = least_popular_start[i]\n",
    "    get_station_data(trips_start_all_group, \"start station id\", \"starttime\", temp_station, freq, max_date, cluster = True, min_date = min_date).plot(ax = axx[i])\n",
    "    axx[i].set_xlabel(\"date\")\n",
    "    axx[i].set_ylabel(\"trip count\")\n",
    "    axx[i].set_title(str(temp_station))\n",
    "    axx[i].grid(which = \"minor\", axis = \"x\")"
   ]
  },
  {
   "cell_type": "markdown",
   "id": "1a0fcbc5-b7bb-4bd4-9bd0-e36314c106db",
   "metadata": {},
   "source": [
    "**Time Series K-Means Clustering**"
   ]
  },
  {
   "cell_type": "code",
   "execution_count": null,
   "id": "3b209e8e-c750-427b-bdfc-012f3ee55d81",
   "metadata": {},
   "outputs": [],
   "source": [
    "start_list = []\n",
    "for station in tqdm(trips_start_all_group[\"start station id\"].unique()):\n",
    "    start_station_data = get_station_data(trips_start_all_group, \"start station id\", \"starttime\", station, freq, max_date, cluster = True, min_date = min_date)\n",
    "    start_list.append(start_station_data[\"size\"].tolist())"
   ]
  },
  {
   "cell_type": "code",
   "execution_count": null,
   "id": "718591b7-94d1-465b-9cb9-c5ba8c528b85",
   "metadata": {},
   "outputs": [],
   "source": [
    "print(len(start_list))\n",
    "print(sum([sum(i) for i in zip(*start_list)]))"
   ]
  },
  {
   "cell_type": "code",
   "execution_count": null,
   "id": "2f1891c8-c309-4658-9b7d-62eea0c5c2f2",
   "metadata": {},
   "outputs": [],
   "source": [
    "formatted_start_list = to_time_series_dataset(start_list)\n",
    "formatted_start_list.shape"
   ]
  },
  {
   "cell_type": "code",
   "execution_count": null,
   "id": "7e3a2e32-8d2d-46dc-90c8-99ef9754170f",
   "metadata": {},
   "outputs": [],
   "source": [
    "cluster_count = 21\n",
    "kmeans_metric = \"euclidean\""
   ]
  },
  {
   "cell_type": "code",
   "execution_count": null,
   "id": "9c565f86-de6b-49a2-bf4b-d241cd97d950",
   "metadata": {},
   "outputs": [],
   "source": [
    "#%%time\n",
    "#start_km = TimeSeriesKMeans(n_clusters = cluster_count, metric = kmeans_metric, max_iter = 10)\n",
    "#start_km_labels = start_km.fit_predict(formatted_start_list)"
   ]
  },
  {
   "cell_type": "code",
   "execution_count": null,
   "id": "44408dc5-6c19-4c96-95d8-5c6b9ded53bc",
   "metadata": {},
   "outputs": [],
   "source": [
    "start_series_names = [station for station in trips_start_all_group[\"start station id\"].unique()]\n",
    "start_km_labels_list = [label for label in start_km_labels]\n",
    "\n",
    "start_clusters = pd.DataFrame(zip(start_series_names, start_km_labels_list), columns = [\"station id\", \"cluster\"]).sort_values(by = \"cluster\")\n",
    "start_clusters"
   ]
  },
  {
   "cell_type": "code",
   "execution_count": null,
   "id": "a9e6aa52-c84b-4f3c-8e21-6fe8cc6d5de5",
   "metadata": {},
   "outputs": [],
   "source": [
    "#start_clusters.to_csv(\"start_clusters.csv\", index = False)"
   ]
  },
  {
   "cell_type": "markdown",
   "id": "96077ec4-4166-4d62-8b32-b3d725669873",
   "metadata": {},
   "source": [
    "**Cluster Analysis**"
   ]
  },
  {
   "cell_type": "code",
   "execution_count": null,
   "id": "e8a8baae-0379-4887-8071-9d7364438d3d",
   "metadata": {},
   "outputs": [],
   "source": [
    "start_clusters = pd.read_csv(\"start_clusters_euc21_15min.csv\")\n",
    "start_clusters"
   ]
  },
  {
   "cell_type": "markdown",
   "id": "9bc9fd98-5a7e-4b57-baf2-935573f7995b",
   "metadata": {},
   "source": [
    "Cluster 0 is the \"catch-all\" cluster for 1 day frequency.\n",
    "Cluster 3 is the \"catch-all\" cluster for 15 min frequency."
   ]
  },
  {
   "cell_type": "code",
   "execution_count": null,
   "id": "61d6f16b-0436-45f4-8be7-d19ea168c724",
   "metadata": {},
   "outputs": [],
   "source": [
    "start_cluster_c = [len(start_clusters[start_clusters[\"cluster\"] == i]) for i in range(cluster_count)]\n",
    "start_cluster_n = [\"Cluster \" + str(i) for i in range(cluster_count)]\n",
    "plt.figure(figsize = (15, 5))\n",
    "plt.title(\"Trip Start Station Cluster Distribution for K-Means\")\n",
    "plt.barh(start_cluster_n, start_cluster_c)\n",
    "plt.gca().invert_yaxis()\n",
    "plt.show()"
   ]
  },
  {
   "cell_type": "code",
   "execution_count": null,
   "id": "f5ea2926-9fd8-4eeb-961e-828911715b4e",
   "metadata": {
    "tags": []
   },
   "outputs": [],
   "source": [
    "fig, axs = plt.subplots(cluster_count, 1, figsize = (20, 50), sharex = True)\n",
    "axx = axs.ravel()\n",
    "for i in range(0, cluster_count):\n",
    "    start_cluster = start_clusters[start_clusters[\"cluster\"] == i]\n",
    "    for j in range(len(start_cluster)):\n",
    "        temp_station = start_cluster.iloc[j][\"station id\"]\n",
    "        get_station_data(trips_start_all_group, \"start station id\", \"starttime\", temp_station, freq, max_date, cluster = True, min_date = min_date).plot(ax = axx[i], color = \"#808080\")\n",
    "        axx[i].set_xlabel(\"date\")\n",
    "        axx[i].set_ylabel(\"trip count\")\n",
    "        axx[i].set_title(\"Start Station Cluster \" + str(i))\n",
    "        axx[i].grid(which = \"minor\", axis = \"x\")\n",
    "        axx[i].get_legend().remove()"
   ]
  },
  {
   "cell_type": "markdown",
   "id": "0f656e6c-a64e-4624-8e24-d1f6582f7ce8",
   "metadata": {},
   "source": [
    "**Data for DeepAR**"
   ]
  },
  {
   "cell_type": "code",
   "execution_count": null,
   "id": "b545a000-f4a6-41d1-b5a9-796b2db37176",
   "metadata": {},
   "outputs": [],
   "source": [
    "freq = \"15min\" # group and sum trips by a set increment\n",
    "max_date = \"2022-08-31 23:45:00\" # make sure all series end at the same time\n",
    "train_date = \"2022-08-28\"\n",
    "test_date = \"2022-08-29\""
   ]
  },
  {
   "cell_type": "code",
   "execution_count": null,
   "id": "5ea9c768-9e0e-4262-99a4-a9f7b3f9804a",
   "metadata": {},
   "outputs": [],
   "source": [
    "train_euc21_start, test_euc21_start = deepar_station_data(trips_start_all_group, \"start station id\", \"starttime\", freq, max_date, train_date, test_date, cluster = True, cluster_data = start_clusters)"
   ]
  },
  {
   "cell_type": "code",
   "execution_count": null,
   "id": "d71fdef1-f815-43f5-a4a4-fc5b4883c752",
   "metadata": {},
   "outputs": [],
   "source": [
    "# retained all stations\n",
    "print(len(train_euc21_start))\n",
    "print(len(test_euc21_start))"
   ]
  },
  {
   "cell_type": "code",
   "execution_count": null,
   "id": "3f1da569-43b0-44ef-b9fa-21fbf6980140",
   "metadata": {},
   "outputs": [],
   "source": [
    "# make sure all test data is the same length\n",
    "test_length = 0\n",
    "for i in range(len(test_euc21_start)):\n",
    "    test_length += len(test_euc21_start[i][\"target\"])\n",
    "test_length / len(test_euc21_start) # should be 288"
   ]
  },
  {
   "cell_type": "code",
   "execution_count": null,
   "id": "bc078d5a-e567-431f-9a2a-6b6d8ebea61e",
   "metadata": {},
   "outputs": [],
   "source": [
    "# check number of trips\n",
    "trips = 0\n",
    "for i in range(len(train_euc21_start)):\n",
    "    trips += sum(train_euc21_start[i][\"target\"])\n",
    "for i in range(len(test_euc21_start)):\n",
    "    trips += sum(test_euc21_start[i][\"target\"])\n",
    "trips # retained all trips"
   ]
  },
  {
   "cell_type": "code",
   "execution_count": null,
   "id": "0d31515f-44c0-469e-b40b-1434d52804d9",
   "metadata": {},
   "outputs": [],
   "source": [
    "# spot check of correct categories were added\n",
    "t_station = trips_start_all_group[\"start station id\"].unique()[:10]\n",
    "print(start_clusters[start_clusters[\"station id\"] == t_station[9]][\"cluster\"].tolist())\n",
    "print(train_euc21_start[9][\"cat\"])\n",
    "print(test_euc21_start[9][\"cat\"])"
   ]
  },
  {
   "cell_type": "code",
   "execution_count": null,
   "id": "3addcff7-42aa-4a3f-ae42-36f1dad20163",
   "metadata": {},
   "outputs": [],
   "source": [
    "# save to json lines format\n",
    "write_dicts_to_file(\"train_euc21_15min_start.json\", train_euc21_start)\n",
    "write_dicts_to_file(\"test_euc21_15min_start.json\", test_euc21_start)"
   ]
  },
  {
   "cell_type": "markdown",
   "id": "b43650b6-b80d-414a-aa27-39d278995027",
   "metadata": {},
   "source": [
    "## Trip End Station"
   ]
  },
  {
   "cell_type": "code",
   "execution_count": null,
   "id": "542d75e7-52f9-432b-a385-f27e87616bd0",
   "metadata": {},
   "outputs": [],
   "source": [
    "stop_file = \"../model_trips_stop_station_20208029_20220831.csv\"\n",
    "\n",
    "trips_stop = pd.read_csv(stop_file, parse_dates = True)\n",
    "trips_stop.shape"
   ]
  },
  {
   "cell_type": "code",
   "execution_count": null,
   "id": "6943db82-b9da-4514-8987-11c9d6a1832b",
   "metadata": {},
   "outputs": [],
   "source": [
    "trips_stop_all_group = prep_station_data(trips_stop, \"end station id\", \"stoptime\")\n",
    "print(sum(trips_stop_all_group[\"size\"]))"
   ]
  },
  {
   "cell_type": "markdown",
   "id": "16c82fa3-2d5f-47ba-b117-9ca9784a293f",
   "metadata": {},
   "source": [
    "**EDA**"
   ]
  },
  {
   "cell_type": "code",
   "execution_count": null,
   "id": "6bed3421-143e-4016-948b-ed1f3cd09249",
   "metadata": {},
   "outputs": [],
   "source": [
    "freq = \"D\" # group and sum trips by a set increment\n",
    "min_date = \"2020-08-29 00:00:00\" # make sure all series start at the same time\n",
    "max_date = \"2022-08-31 23:45:00\" # make sure all series end at the same time"
   ]
  },
  {
   "cell_type": "code",
   "execution_count": null,
   "id": "4b925969-d8db-4e3c-a254-d68490350ecf",
   "metadata": {},
   "outputs": [],
   "source": [
    "# from manual_station_clustering notebook\n",
    "most_popular_stop = [67, 68, 74, 60, 107, 46, 178, 179, 53, 9]\n",
    "semi_popular_stop = [189, 471, 39, 40, 437, 190, 370, 22, 33, 459]\n",
    "least_popular_stop = [556, 543, 388, 548, 317, 308, 570, 572, 571, 438]"
   ]
  },
  {
   "cell_type": "code",
   "execution_count": null,
   "id": "646ed22e-d18d-4aad-8062-11bceffe46dd",
   "metadata": {},
   "outputs": [],
   "source": [
    "fig, axs = plt.subplots(10, 1, figsize = (20, 20), sharex = True)\n",
    "axx = axs.ravel()\n",
    "for i in range(0, 10):\n",
    "    temp_station = least_popular_stop[i]\n",
    "    get_station_data(trips_stop_all_group, \"end station id\", \"stoptime\", temp_station, freq, max_date, cluster = True, min_date = min_date).plot(ax = axx[i])\n",
    "    axx[i].set_xlabel(\"date\")\n",
    "    axx[i].set_ylabel(\"trip count\")\n",
    "    axx[i].set_title(str(temp_station))\n",
    "    axx[i].grid(which = \"minor\", axis = \"x\")"
   ]
  },
  {
   "cell_type": "markdown",
   "id": "1572dc63-0955-450b-8db3-df3efd61106f",
   "metadata": {},
   "source": [
    "**Time Series K-Means Clustering**"
   ]
  },
  {
   "cell_type": "code",
   "execution_count": null,
   "id": "f67386d9-642b-4464-a0c9-99fdda0022d6",
   "metadata": {},
   "outputs": [],
   "source": [
    "stop_list = []\n",
    "for station in tqdm(trips_stop_all_group[\"end station id\"].unique()):\n",
    "    stop_station_data = get_station_data(trips_stop_all_group, \"end station id\", \"stoptime\", station, freq, max_date, cluster = True, min_date = min_date)\n",
    "    stop_list.append(stop_station_data[\"size\"].tolist())"
   ]
  },
  {
   "cell_type": "code",
   "execution_count": null,
   "id": "2678f3bb-5029-4cd5-8bcd-6f74844efa23",
   "metadata": {},
   "outputs": [],
   "source": [
    "print(len(stop_list))\n",
    "print(sum([sum(i) for i in zip(*stop_list)]))"
   ]
  },
  {
   "cell_type": "code",
   "execution_count": null,
   "id": "d2b06c04-acc0-474e-8c73-b68a85eff162",
   "metadata": {},
   "outputs": [],
   "source": [
    "formatted_stop_list = to_time_series_dataset(stop_list)\n",
    "formatted_stop_list.shape"
   ]
  },
  {
   "cell_type": "code",
   "execution_count": null,
   "id": "ac931659-47ac-4809-93b2-106d61e601be",
   "metadata": {},
   "outputs": [],
   "source": [
    "cluster_count = 21\n",
    "kmeans_metric = \"euclidean\""
   ]
  },
  {
   "cell_type": "code",
   "execution_count": null,
   "id": "c46baaf9-e92e-41c2-9786-2fe639550832",
   "metadata": {},
   "outputs": [],
   "source": [
    "#%%time\n",
    "#stop_km = TimeSeriesKMeans(n_clusters = cluster_count, metric = kmeans_metric, max_iter = 10)\n",
    "#stop_km_labels = stop_km.fit_predict(formatted_stop_list)"
   ]
  },
  {
   "cell_type": "code",
   "execution_count": null,
   "id": "b7f9e044-91d9-471a-98df-57455a401ea8",
   "metadata": {},
   "outputs": [],
   "source": [
    "stop_series_names = [station for station in trips_stop_all_group[\"end station id\"].unique()]\n",
    "stop_km_labels_list = [label for label in stop_km_labels]\n",
    "\n",
    "stop_clusters = pd.DataFrame(zip(stop_series_names, stop_km_labels_list), columns = [\"station id\", \"cluster\"]).sort_values(by = \"cluster\")\n",
    "stop_clusters"
   ]
  },
  {
   "cell_type": "code",
   "execution_count": null,
   "id": "86856758-653f-4b35-9b2d-a850320ad752",
   "metadata": {},
   "outputs": [],
   "source": [
    "#stop_clusters.to_csv(\"stop_clusters.csv\", index = False)"
   ]
  },
  {
   "cell_type": "markdown",
   "id": "9f3c1317-5bca-4062-a02c-9518e821237d",
   "metadata": {},
   "source": [
    "**Cluster Analysis**"
   ]
  },
  {
   "cell_type": "code",
   "execution_count": null,
   "id": "8607aca5-619c-4d3c-bc0b-a590e5eefbb6",
   "metadata": {},
   "outputs": [],
   "source": [
    "stop_clusters = pd.read_csv(\"stop_clusters_euc21.csv\")\n",
    "stop_clusters"
   ]
  },
  {
   "cell_type": "markdown",
   "id": "3e8444f1-149a-4577-9a4d-a3b9b6242e5e",
   "metadata": {},
   "source": [
    "Cluster 2 is the \"catch-all\" cluster."
   ]
  },
  {
   "cell_type": "code",
   "execution_count": null,
   "id": "6fb0681e-ed41-4a01-9be2-8ba3e370d532",
   "metadata": {},
   "outputs": [],
   "source": [
    "stop_cluster_c = [len(stop_clusters[stop_clusters[\"cluster\"] == i]) for i in range(cluster_count)]\n",
    "stop_cluster_n = [\"Cluster \" + str(i) for i in range(cluster_count)]\n",
    "plt.figure(figsize = (15, 5))\n",
    "plt.title(\"Trip End Station Cluster Distribution for K-Means\")\n",
    "plt.barh(stop_cluster_n, stop_cluster_c)\n",
    "plt.gca().invert_yaxis()\n",
    "plt.show()"
   ]
  },
  {
   "cell_type": "code",
   "execution_count": null,
   "id": "0e8a3830-a562-415b-927a-cb6c22a180ea",
   "metadata": {},
   "outputs": [],
   "source": [
    "fig, axs = plt.subplots(cluster_count, 1, figsize = (20, 50), sharex = True)\n",
    "axx = axs.ravel()\n",
    "for i in range(0, cluster_count):\n",
    "    stop_cluster = stop_clusters[stop_clusters[\"cluster\"] == i]\n",
    "    for j in range(len(stop_cluster)):\n",
    "        temp_station = stop_cluster.iloc[j][\"station id\"]\n",
    "        get_station_data(trips_stop_all_group, \"end station id\", \"stoptime\", temp_station, freq, max_date, cluster = True, min_date = min_date).plot(ax = axx[i], color = \"#808080\")\n",
    "        axx[i].set_xlabel(\"date\")\n",
    "        axx[i].set_ylabel(\"trip count\")\n",
    "        axx[i].set_title(\"End Station Cluster \" + str(i))\n",
    "        axx[i].grid(which = \"minor\", axis = \"x\")\n",
    "        axx[i].get_legend().remove()"
   ]
  },
  {
   "cell_type": "markdown",
   "id": "049c9cea-1252-4d09-a5ca-c923ff8d32fe",
   "metadata": {},
   "source": [
    "**Data for DeepAR**"
   ]
  },
  {
   "cell_type": "code",
   "execution_count": null,
   "id": "f1bc9a3a-4281-402f-9c80-04b9307541c7",
   "metadata": {},
   "outputs": [],
   "source": [
    "freq = \"15min\" # group and sum trips by a set increment\n",
    "max_date = \"2022-08-31 23:45:00\" # make sure all series end at the same time\n",
    "train_date = \"2022-08-28\"\n",
    "test_date = \"2022-08-29\""
   ]
  },
  {
   "cell_type": "code",
   "execution_count": null,
   "id": "ddab2923-2704-4614-9d49-446ee10f7c0c",
   "metadata": {},
   "outputs": [],
   "source": [
    "train_euc21_stop, test_euc21_stop = deepar_station_data(trips_stop_all_group, \"end station id\", \"stoptime\", freq, max_date, train_date, test_date, cluster = True, cluster_data = stop_clusters)"
   ]
  },
  {
   "cell_type": "code",
   "execution_count": null,
   "id": "5cff981c-5677-4570-9d73-d4e8245b07e6",
   "metadata": {},
   "outputs": [],
   "source": [
    "# retained all but 1 station\n",
    "print(len(train_euc21_stop))\n",
    "print(len(test_euc21_stop))"
   ]
  },
  {
   "cell_type": "code",
   "execution_count": null,
   "id": "b78afd4a-870e-4104-826d-0b47c2fdae10",
   "metadata": {},
   "outputs": [],
   "source": [
    "# make sure all test data is the same length\n",
    "test_length = 0\n",
    "for i in range(len(test_euc21_stop)):\n",
    "    test_length += len(test_euc21_stop[i][\"target\"])\n",
    "test_length / len(test_euc21_stop) # should be 288"
   ]
  },
  {
   "cell_type": "code",
   "execution_count": null,
   "id": "1efef5e8-2f88-4f81-9f1a-19a8911301a1",
   "metadata": {},
   "outputs": [],
   "source": [
    "# check number of trips\n",
    "trips = 0\n",
    "for i in range(len(train_euc21_stop)):\n",
    "    trips += sum(train_euc21_stop[i][\"target\"])\n",
    "for i in range(len(test_euc21_stop)):\n",
    "    trips += sum(test_euc21_stop[i][\"target\"])\n",
    "trips # lost 5 trips due to the 1 station loss"
   ]
  },
  {
   "cell_type": "code",
   "execution_count": null,
   "id": "000bd4f8-df25-4156-ab64-4ecea8c4be9b",
   "metadata": {},
   "outputs": [],
   "source": [
    "# spot check of correct categories were added\n",
    "t_station = trips_stop_all_group[\"end station id\"].unique()[:10]\n",
    "print(stop_clusters[stop_clusters[\"station id\"] == t_station[9]][\"cluster\"].tolist())\n",
    "print(train_euc21_stop[9][\"cat\"])\n",
    "print(test_euc21_stop[9][\"cat\"])"
   ]
  },
  {
   "cell_type": "markdown",
   "id": "7dec9347-49e8-4a36-bf2b-064de8b65ede",
   "metadata": {},
   "source": [
    "Station 572 w/ 5 trips was dropped b/c the first trip that ended there was after the `test_date` of 8/29/2022."
   ]
  },
  {
   "cell_type": "code",
   "execution_count": null,
   "id": "8058e91e-4ca3-4d13-8e0c-77c931e9eb83",
   "metadata": {},
   "outputs": [],
   "source": [
    "# save to json lines format\n",
    "write_dicts_to_file(\"train_euc21_stop.json\", train_euc21_stop)\n",
    "write_dicts_to_file(\"test_euc21_stop.json\", test_euc21_stop)"
   ]
  },
  {
   "cell_type": "code",
   "execution_count": null,
   "id": "2541c1ae-47bc-4847-8f53-6a278070aaa6",
   "metadata": {},
   "outputs": [],
   "source": []
  }
 ],
 "metadata": {
  "instance_type": "ml.c5.2xlarge",
  "kernelspec": {
   "display_name": "default:Python",
   "language": "python",
   "name": "conda-env-default-py"
  },
  "language_info": {
   "codemirror_mode": {
    "name": "ipython",
    "version": 3
   },
   "file_extension": ".py",
   "mimetype": "text/x-python",
   "name": "python",
   "nbconvert_exporter": "python",
   "pygments_lexer": "ipython3",
   "version": "3.9.13"
  }
 },
 "nbformat": 4,
 "nbformat_minor": 5
}
