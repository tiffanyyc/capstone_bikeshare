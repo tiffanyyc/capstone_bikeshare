{
 "cells": [
  {
   "cell_type": "markdown",
   "id": "06a48a97-a857-48cc-be3b-ae725ad6884f",
   "metadata": {},
   "source": [
    "## Manual Station Clustering"
   ]
  },
  {
   "cell_type": "code",
   "execution_count": null,
   "id": "f297c97e-fbf0-40be-b128-042038c9764b",
   "metadata": {},
   "outputs": [],
   "source": [
    "import pandas as pd\n",
    "import matplotlib.pyplot as plt\n",
    "from tqdm import tqdm\n",
    "\n",
    "from deepar_model_utils import prep_station_data\n",
    "from deepar_model_utils import get_station_data\n",
    "from deepar_model_utils import cluster_stations\n",
    "from deepar_model_utils import deepar_station_data\n",
    "from deepar_model_utils import write_dicts_to_file\n",
    "\n",
    "%matplotlib inline"
   ]
  },
  {
   "cell_type": "markdown",
   "id": "031d735c-0481-48b9-a46e-7910694055d7",
   "metadata": {},
   "source": [
    "### Trip Start Station"
   ]
  },
  {
   "cell_type": "code",
   "execution_count": null,
   "id": "e3bb7ee4-9974-4100-b9ca-c157be65236a",
   "metadata": {},
   "outputs": [],
   "source": [
    "start_file = \"../model_trips_start_station_20208029_20220831.csv\"\n",
    "\n",
    "#s3_start_location = f\"s3://{bucket}/{start_file}*\"\n",
    "#trips_start = pd.read_csv(s3_start_location, parse_dates = True)\n",
    "\n",
    "trips_start = pd.read_csv(start_file, parse_dates = True)\n",
    "trips_start.shape"
   ]
  },
  {
   "cell_type": "code",
   "execution_count": null,
   "id": "e3dc15cb-1a83-425d-9d07-cc7e8ecd35f9",
   "metadata": {},
   "outputs": [],
   "source": [
    "trips_start_station = pd.DataFrame(trips_start[\"start station id\"])"
   ]
  },
  {
   "cell_type": "code",
   "execution_count": null,
   "id": "763c62ae-4ca0-4852-92d5-be5d5f494983",
   "metadata": {},
   "outputs": [],
   "source": [
    "trips_start_station = trips_start_station.groupby([\"start station id\"], as_index = False).size().sort_values(by = \"size\", ascending = False)\n",
    "trips_start_station"
   ]
  },
  {
   "cell_type": "markdown",
   "id": "8804e748-88f7-4258-9360-92ffcbcd798f",
   "metadata": {},
   "source": [
    "Determine number of stations to individually cluster based on overall trip volume. Each station that is selected will be its own cluster and all other stations will be clustered together."
   ]
  },
  {
   "cell_type": "code",
   "execution_count": null,
   "id": "2acc767a-e89e-435d-89b1-a25301a79a71",
   "metadata": {},
   "outputs": [],
   "source": [
    "trips_start.shape[0] * 0.2"
   ]
  },
  {
   "cell_type": "code",
   "execution_count": null,
   "id": "a2fa16db-2f4b-4081-9514-40268ab22e91",
   "metadata": {},
   "outputs": [],
   "source": [
    "sum(trips_start_station.iloc[0:20][\"size\"])"
   ]
  },
  {
   "cell_type": "code",
   "execution_count": null,
   "id": "32b863a5-f5e6-4d23-9938-348839115ba4",
   "metadata": {},
   "outputs": [],
   "source": [
    "sum(trips_start_station.iloc[0:20][\"size\"]) / trips_start.shape[0]"
   ]
  },
  {
   "cell_type": "code",
   "execution_count": null,
   "id": "579bea82-d6aa-40df-a938-80dc75fe2716",
   "metadata": {},
   "outputs": [],
   "source": [
    "fig = plt.figure(figsize = (10, 5))\n",
    "\n",
    "plt.bar(trips_start_station[\"start station id\"], trips_start_station[\"size\"], width = 0.5)\n",
    "plt.xlabel(\"start station id\")\n",
    "plt.ylabel(\"trip count\")"
   ]
  },
  {
   "cell_type": "code",
   "execution_count": null,
   "id": "0aa9a360-e85a-41b7-99bb-59d889d75462",
   "metadata": {},
   "outputs": [],
   "source": [
    "start_station_cluster = cluster_stations(trips_start_station, 20, \"start station id\")"
   ]
  },
  {
   "cell_type": "markdown",
   "id": "21f484df-5fa3-457f-921c-3fab9ba4b8ac",
   "metadata": {},
   "source": [
    "Incorporate categories/clusters into DeepAR data format."
   ]
  },
  {
   "cell_type": "markdown",
   "id": "283e2d35-1b2e-4f4d-976e-138efce3b5fa",
   "metadata": {},
   "source": [
    "### Trip End Station"
   ]
  },
  {
   "cell_type": "code",
   "execution_count": null,
   "id": "840eb687-6c5d-49e7-aa8e-d200054c3050",
   "metadata": {},
   "outputs": [],
   "source": [
    "stop_file = \"../model_trips_stop_station_20208029_20220831.csv\"\n",
    "\n",
    "#s3_end_location = f\"s3://{bucket}/{end_file}*\"\n",
    "#trips_end = pd.read_csv(s3_end_location, parse_dates = True)\n",
    "\n",
    "trips_stop = pd.read_csv(stop_file, parse_dates = True)\n",
    "trips_stop.shape"
   ]
  },
  {
   "cell_type": "code",
   "execution_count": null,
   "id": "0023d3f7-550b-4cd7-a778-171fc66c7d8e",
   "metadata": {},
   "outputs": [],
   "source": [
    "trips_end_station = pd.DataFrame(trips_stop[\"end station id\"])"
   ]
  },
  {
   "cell_type": "code",
   "execution_count": null,
   "id": "68370faf-7b61-479d-b562-994096d28a91",
   "metadata": {},
   "outputs": [],
   "source": [
    "trips_end_station = trips_end_station.groupby([\"end station id\"], as_index = False).size().sort_values(by = \"size\", ascending = False)\n",
    "trips_end_station"
   ]
  },
  {
   "cell_type": "markdown",
   "id": "940e9c1c-efd6-4b1d-ab30-87c1c3d1a818",
   "metadata": {},
   "source": [
    "Determine number of stations to individually cluster based on overall trip volume. Each station that is selected will be its own cluster and all other stations will be clustered together."
   ]
  },
  {
   "cell_type": "code",
   "execution_count": null,
   "id": "d080af5f-2009-4620-8cc8-4b6aaaa0f298",
   "metadata": {},
   "outputs": [],
   "source": [
    "trips_stop.shape[0] * 0.2"
   ]
  },
  {
   "cell_type": "code",
   "execution_count": null,
   "id": "88fcd8b9-7df7-4299-83f3-713ef954694e",
   "metadata": {},
   "outputs": [],
   "source": [
    "sum(trips_end_station.iloc[0:20][\"size\"])"
   ]
  },
  {
   "cell_type": "code",
   "execution_count": null,
   "id": "c4c277bf-d416-474b-9daf-e591bb3a8e82",
   "metadata": {},
   "outputs": [],
   "source": [
    "sum(trips_end_station.iloc[0:20][\"size\"]) / trips_stop.shape[0]"
   ]
  },
  {
   "cell_type": "code",
   "execution_count": null,
   "id": "265005aa-0e7b-4354-92cb-b289ce07a35c",
   "metadata": {},
   "outputs": [],
   "source": [
    "fig = plt.figure(figsize = (10, 5))\n",
    "\n",
    "plt.bar(trips_end_station[\"end station id\"], trips_end_station[\"size\"], width = 0.5)\n",
    "plt.xlabel(\"end station id\")\n",
    "plt.ylabel(\"trip count\")"
   ]
  },
  {
   "cell_type": "code",
   "execution_count": null,
   "id": "0bcafb8c-1cef-4ed1-902f-37aa48768a3d",
   "metadata": {},
   "outputs": [],
   "source": [
    "end_station_cluster = cluster_stations(trips_end_station, 20, \"end station id\")"
   ]
  },
  {
   "cell_type": "markdown",
   "id": "45a865be-5f6e-44e6-a259-3ff7227b1e53",
   "metadata": {},
   "source": [
    "Incorporate categories/clusters into DeepAR data format."
   ]
  },
  {
   "cell_type": "code",
   "execution_count": null,
   "id": "35b380b9-9fb6-46ad-aa63-35e098448b54",
   "metadata": {},
   "outputs": [],
   "source": []
  }
 ],
 "metadata": {
  "kernelspec": {
   "display_name": "default:Python",
   "language": "python",
   "name": "conda-env-default-py"
  },
  "language_info": {
   "codemirror_mode": {
    "name": "ipython",
    "version": 3
   },
   "file_extension": ".py",
   "mimetype": "text/x-python",
   "name": "python",
   "nbconvert_exporter": "python",
   "pygments_lexer": "ipython3",
   "version": "3.9.13"
  }
 },
 "nbformat": 4,
 "nbformat_minor": 5
}
