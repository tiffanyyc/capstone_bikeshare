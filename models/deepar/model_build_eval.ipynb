{
 "cells": [
  {
   "cell_type": "markdown",
   "id": "87711f77-5d3d-449a-b73e-aabe009f375a",
   "metadata": {},
   "source": [
    "## Model Building"
   ]
  },
  {
   "cell_type": "code",
   "execution_count": null,
   "id": "389c1fc3-0900-43f7-a5fa-1c1e6e5f123a",
   "metadata": {},
   "outputs": [],
   "source": [
    "import sagemaker\n",
    "import numpy as np\n",
    "import pandas as pd\n",
    "import random"
   ]
  },
  {
   "cell_type": "code",
   "execution_count": null,
   "id": "3fd585bc-007e-4745-aa65-2251e4bf0049",
   "metadata": {},
   "outputs": [],
   "source": [
    "# set random seeds for reproducibility\n",
    "np.random.seed(42)\n",
    "random.seed(42)"
   ]
  },
  {
   "cell_type": "code",
   "execution_count": null,
   "id": "3da1f01d-4a2f-43eb-8344-31e2afbcb59a",
   "metadata": {},
   "outputs": [],
   "source": [
    "sagemaker_session = sagemaker.Session()"
   ]
  },
  {
   "cell_type": "code",
   "execution_count": null,
   "id": "7c2a5e80-0a8d-42fc-aba1-52a04435a25c",
   "metadata": {
    "tags": []
   },
   "outputs": [],
   "source": [
    "s3_bucket = \"\"\n",
    "s3_prefix = \"deepar_model\"\n",
    "\n",
    "role = sagemaker.get_execution_role()\n",
    "#role = \"\""
   ]
  },
  {
   "cell_type": "code",
   "execution_count": null,
   "id": "27e3dd5a-2db3-4b00-930a-b7e52947e4ee",
   "metadata": {},
   "outputs": [],
   "source": [
    "region = sagemaker_session.boto_region_name\n",
    "\n",
    "s3_data_path_start = \"s3://{}/{}/data_start_poc\".format(s3_bucket, s3_prefix)\n",
    "s3_output_path_start = \"s3://{}/{}/output_start_poc\".format(s3_bucket, s3_prefix)\n",
    "\n",
    "s3_data_path_stop = \"s3://{}/{}/data_stop_poc\".format(s3_bucket, s3_prefix)\n",
    "s3_output_path_stop = \"s3://{}/{}/output_stop_poc\".format(s3_bucket, s3_prefix)"
   ]
  },
  {
   "cell_type": "code",
   "execution_count": null,
   "id": "843c20d6-8fb9-4bbf-a71e-9b1a30ae19f8",
   "metadata": {},
   "outputs": [],
   "source": [
    "image_name = sagemaker.image_uris.retrieve(\"forecasting-deepar\", region)"
   ]
  },
  {
   "cell_type": "markdown",
   "id": "fbd1ea93-57cf-475a-8a15-1534eae01e31",
   "metadata": {},
   "source": [
    "### Trip Start"
   ]
  },
  {
   "cell_type": "markdown",
   "id": "89ed3bab-0934-4870-8118-5f40b0ea2943",
   "metadata": {},
   "source": [
    "**Training**\n",
    "\n",
    "- takes about 1 hour to train and to produce the below metrics on the test set\n",
    "- RMSE: 1.2466856959864956\n",
    "- mean_absolute_QuantileLoss: 59924.505764324516\n",
    "- mean_wQuantileLoss: 1.000542739670148\n",
    "- wQuantileLoss[0.1]: 0.20091203062302534\n",
    "- wQuantileLoss[0.2]: 0.40111006030543794\n",
    "- wQuantileLoss[0.3]: 0.6011151921433796\n",
    "- wQuantileLoss[0.4]: 0.8009969021696943\n",
    "- wQuantileLoss[0.5]: 1.0008156214438477\n",
    "- wQuantileLoss[0.6]: 1.2006446410813532\n",
    "- wQuantileLoss[0.7]: 1.4003967124746162\n",
    "- wQuantileLoss[0.8]: 1.599928056774745\n",
    "- wQuantileLoss[0.9]: 1.7989654400152346"
   ]
  },
  {
   "cell_type": "code",
   "execution_count": null,
   "id": "b8f17a69-3ae0-45ea-827f-25d632d73023",
   "metadata": {},
   "outputs": [],
   "source": [
    "start_estimator = sagemaker.estimator.Estimator(\n",
    "    image_uri = image_name,\n",
    "    sagemaker_session = sagemaker_session,\n",
    "    role = role,\n",
    "    instance_count = 1,\n",
    "    instance_type = \"ml.c5.2xlarge\",\n",
    "    base_job_name = \"deepar-poc-start\",\n",
    "    output_path = s3_output_path_start,\n",
    ")"
   ]
  },
  {
   "cell_type": "code",
   "execution_count": null,
   "id": "62e4ddd5-c6f9-4020-93cb-34041454b689",
   "metadata": {},
   "outputs": [],
   "source": [
    "freq = \"15min\"\n",
    "context_length = 4 * 24 * 3\n",
    "prediction_length = 4 * 24 * 3"
   ]
  },
  {
   "cell_type": "code",
   "execution_count": null,
   "id": "d9ca48c4-2da9-44ad-9a59-037c8436ddc2",
   "metadata": {},
   "outputs": [],
   "source": [
    "start_hyperparameters = {\n",
    "    \"time_freq\": freq,\n",
    "    \"epochs\": \"400\",\n",
    "    \"early_stopping_patience\": \"40\",\n",
    "    \"mini_batch_size\": \"64\",\n",
    "    \"learning_rate\": \"5E-4\",\n",
    "    \"context_length\": str(context_length),\n",
    "    \"prediction_length\": str(prediction_length),\n",
    "}"
   ]
  },
  {
   "cell_type": "code",
   "execution_count": null,
   "id": "ab3ae3e7-ae61-4b8f-9272-e1e8084c26c4",
   "metadata": {},
   "outputs": [],
   "source": [
    "start_estimator.set_hyperparameters(**start_hyperparameters)"
   ]
  },
  {
   "cell_type": "code",
   "execution_count": null,
   "id": "ba2b73c2-3331-41dd-8829-a439c086fb4e",
   "metadata": {},
   "outputs": [],
   "source": [
    "%%time\n",
    "start_data_channels = {\"train\": \"{}/train_start/\".format(s3_data_path_start), \"test\": \"{}/test_start/\".format(s3_data_path_start)}\n",
    "\n",
    "#start_estimator.fit(inputs = start_data_channels, wait = True)"
   ]
  },
  {
   "cell_type": "markdown",
   "id": "231addd0-680d-4b4e-b39c-05c789ad1b2a",
   "metadata": {},
   "source": [
    "**Prediction**"
   ]
  },
  {
   "cell_type": "code",
   "execution_count": null,
   "id": "5bc04415-f0b6-432c-a782-cac1f899fb2b",
   "metadata": {},
   "outputs": [],
   "source": [
    "import matplotlib.pyplot as plt\n",
    "\n",
    "from deepar_model_utils import DeepARPredictor\n",
    "from deepar_model_utils import get_station_data\n",
    "from deepar_model_utils import prep_station_data"
   ]
  },
  {
   "cell_type": "markdown",
   "id": "e393c0dc-17fc-44e0-8871-314a8c4191b8",
   "metadata": {},
   "source": [
    "Reference for following code: [stackoverflow](https://stackoverflow.com/questions/56255154/how-to-use-a-pretrained-model-from-s3-to-predict-some-data), [Model docs](https://sagemaker.readthedocs.io/en/stable/api/inference/model.html])"
   ]
  },
  {
   "cell_type": "code",
   "execution_count": null,
   "id": "db456ed4-4c3b-4387-acc2-fcb436aa664b",
   "metadata": {},
   "outputs": [],
   "source": [
    "start_file = \"s3://{}/model_trips_start_station_20208029_20220831.csv\".format(s3_bucket)\n",
    "\n",
    "trips_start = pd.read_csv(start_file, parse_dates = True)\n",
    "trips_start.shape"
   ]
  },
  {
   "cell_type": "code",
   "execution_count": null,
   "id": "43cb81d6-6edb-4eec-9e2d-4a5bcfaf3eca",
   "metadata": {},
   "outputs": [],
   "source": [
    "trips_start_all_group = prep_station_data(trips_start, \"start station id\", \"starttime\")\n",
    "print(sum(trips_start_all_group[\"size\"]))"
   ]
  },
  {
   "cell_type": "code",
   "execution_count": null,
   "id": "63b658f5-ec6e-4565-9d9d-aa16880d69d1",
   "metadata": {},
   "outputs": [],
   "source": [
    "trip_start_model = sagemaker.model.Model(\n",
    "    model_data = \"{}/deepar-poc-start-2022-10-19-16-11-42-997/output/model.tar.gz\".format(s3_output_path),\n",
    "    image_uri = image_name,\n",
    "    role = role,\n",
    "    predictor_cls = DeepARPredictor)\n",
    "\n",
    "#start_predictor = trip_start_model.deploy(initial_instance_count = 1, instance_type = \"ml.m5.large\")"
   ]
  },
  {
   "cell_type": "code",
   "execution_count": null,
   "id": "36b6b33b-64ab-4a29-a488-e554d73d9966",
   "metadata": {},
   "outputs": [],
   "source": [
    "#trip_start_model.name # model name\n",
    "#trip_start_model.endpoint_name # endpoint name"
   ]
  },
  {
   "cell_type": "code",
   "execution_count": null,
   "id": "ae2f822f-58ef-4528-b172-e083bbd24a75",
   "metadata": {},
   "outputs": [],
   "source": [
    "station = 572\n",
    "freq = \"15min\" # group and sum trips by a set increment\n",
    "train_start = \"2022-08-29 00:00:00\"\n",
    "train_max_date = \"2022-08-28 23:45:00\" # make sure all series end at the same time\n",
    "max_date = \"2022-08-31 23:45:00\" # make sure all series end at the same time"
   ]
  },
  {
   "cell_type": "code",
   "execution_count": null,
   "id": "3f2d21bd-902a-4509-829c-79733936b0a4",
   "metadata": {},
   "outputs": [],
   "source": [
    "# stations to try: [177, 436, 572, 67]\n",
    "observed_start = get_station_data(trips_start_all_group, \"start station id\", \"starttime\", station, freq, max_date).loc[train_start:][\"size\"]\n",
    "predicted_start = start_predictor.predict(ts = get_station_data(trips_start_all_group, \"start station id\", \"starttime\", station, freq, train_max_date)[\"size\"], quantiles = [0.025, 0.9, 0.975])\n",
    "\n",
    "plt.figure(figsize = (12, 6))\n",
    "observed_start.plot(label = \"observed\")\n",
    "p2_5 = predicted_start[\"0.025\"]\n",
    "p97_5 = predicted_start[\"0.975\"]\n",
    "plt.fill_between(p2_5.index, p2_5, p97_5, color = \"#808080\", alpha = 0.5, label = \"95% CI\")\n",
    "predicted_start[\"0.9\"].plot(label = \"predicted\")\n",
    "\n",
    "plt.xlabel(\"date\")\n",
    "plt.ylabel(\"trip count\")\n",
    "plt.title(str(station))\n",
    "\n",
    "plt.legend()\n",
    "plt.show()"
   ]
  },
  {
   "cell_type": "code",
   "execution_count": null,
   "id": "c151d835-66fd-4be5-8b04-75911d0d202d",
   "metadata": {},
   "outputs": [],
   "source": [
    "start_predictor.delete_model()\n",
    "start_predictor.delete_endpoint()"
   ]
  },
  {
   "cell_type": "markdown",
   "id": "3e7db15f-b839-4f19-9fda-d530607d12ac",
   "metadata": {},
   "source": [
    "### Trip Stop"
   ]
  },
  {
   "cell_type": "markdown",
   "id": "840b8030-ba81-416e-88d6-60980ec00e81",
   "metadata": {},
   "source": [
    "**Training**"
   ]
  },
  {
   "cell_type": "code",
   "execution_count": null,
   "id": "fcc1113e-782c-4525-9625-eae4b502eb16",
   "metadata": {},
   "outputs": [],
   "source": []
  }
 ],
 "metadata": {
  "instance_type": "ml.t3.medium",
  "kernelspec": {
   "display_name": "Python 3 (Data Science)",
   "language": "python",
   "name": "python3__SAGEMAKER_INTERNAL__arn:aws:sagemaker:us-east-1:081325390199:image/datascience-1.0"
  },
  "language_info": {
   "codemirror_mode": {
    "name": "ipython",
    "version": 3
   },
   "file_extension": ".py",
   "mimetype": "text/x-python",
   "name": "python",
   "nbconvert_exporter": "python",
   "pygments_lexer": "ipython3",
   "version": "3.7.10"
  }
 },
 "nbformat": 4,
 "nbformat_minor": 5
}
