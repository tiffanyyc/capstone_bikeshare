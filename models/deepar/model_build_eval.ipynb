{
 "cells": [
  {
   "cell_type": "markdown",
   "id": "87711f77-5d3d-449a-b73e-aabe009f375a",
   "metadata": {},
   "source": [
    "## Model Building"
   ]
  },
  {
   "cell_type": "code",
   "execution_count": null,
   "id": "389c1fc3-0900-43f7-a5fa-1c1e6e5f123a",
   "metadata": {},
   "outputs": [],
   "source": [
    "import sagemaker"
   ]
  },
  {
   "cell_type": "code",
   "execution_count": null,
   "id": "3da1f01d-4a2f-43eb-8344-31e2afbcb59a",
   "metadata": {},
   "outputs": [],
   "source": [
    "sagemaker_session = sagemaker.Session()"
   ]
  },
  {
   "cell_type": "code",
   "execution_count": null,
   "id": "7c2a5e80-0a8d-42fc-aba1-52a04435a25c",
   "metadata": {
    "tags": []
   },
   "outputs": [],
   "source": [
    "s3_bucket = \"\"\n",
    "s3_prefix = \"deepar_model\"\n",
    "\n",
    "role = \"\""
   ]
  },
  {
   "cell_type": "code",
   "execution_count": null,
   "id": "27e3dd5a-2db3-4b00-930a-b7e52947e4ee",
   "metadata": {},
   "outputs": [],
   "source": [
    "region = sagemaker_session.boto_region_name\n",
    "\n",
    "s3_data_path = \"s3://{}/{}/data\".format(s3_bucket, s3_prefix)\n",
    "s3_output_path = \"s3://{}/{}/output\".format(s3_bucket, s3_prefix)"
   ]
  },
  {
   "cell_type": "code",
   "execution_count": null,
   "id": "843c20d6-8fb9-4bbf-a71e-9b1a30ae19f8",
   "metadata": {},
   "outputs": [],
   "source": [
    "image_name = sagemaker.image_uris.retrieve(\"forecasting-deepar\", region)"
   ]
  },
  {
   "cell_type": "code",
   "execution_count": null,
   "id": "b8f17a69-3ae0-45ea-827f-25d632d73023",
   "metadata": {},
   "outputs": [],
   "source": [
    "estimator = sagemaker.estimator.Estimator(\n",
    "    image_uri = image_name,\n",
    "    sagemaker_session = sagemaker_session,\n",
    "    role = role,\n",
    "    instance_count = 1,\n",
    "    instance_type = \"ml.c4.2xlarge\",\n",
    "    base_job_name = \"deepar-trip-start1\",\n",
    "    output_path = s3_output_path,\n",
    ")"
   ]
  },
  {
   "cell_type": "code",
   "execution_count": null,
   "id": "62e4ddd5-c6f9-4020-93cb-34041454b689",
   "metadata": {},
   "outputs": [],
   "source": []
  }
 ],
 "metadata": {
  "kernelspec": {
   "display_name": "default:Python",
   "language": "python",
   "name": "conda-env-default-py"
  },
  "language_info": {
   "codemirror_mode": {
    "name": "ipython",
    "version": 3
   },
   "file_extension": ".py",
   "mimetype": "text/x-python",
   "name": "python",
   "nbconvert_exporter": "python",
   "pygments_lexer": "ipython3",
   "version": "3.9.13"
  }
 },
 "nbformat": 4,
 "nbformat_minor": 5
}
