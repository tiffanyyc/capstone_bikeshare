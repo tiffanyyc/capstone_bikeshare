{
 "cells": [
  {
   "cell_type": "markdown",
   "id": "87711f77-5d3d-449a-b73e-aabe009f375a",
   "metadata": {},
   "source": [
    "## Model Building"
   ]
  },
  {
   "cell_type": "code",
   "execution_count": null,
   "id": "389c1fc3-0900-43f7-a5fa-1c1e6e5f123a",
   "metadata": {},
   "outputs": [],
   "source": [
    "import sagemaker\n",
    "import numpy as np\n",
    "import pandas as pd\n",
    "import random\n",
    "import pickle"
   ]
  },
  {
   "cell_type": "code",
   "execution_count": null,
   "id": "3fd585bc-007e-4745-aa65-2251e4bf0049",
   "metadata": {},
   "outputs": [],
   "source": [
    "# set random seeds for reproducibility\n",
    "np.random.seed(42)\n",
    "random.seed(42)"
   ]
  },
  {
   "cell_type": "code",
   "execution_count": null,
   "id": "3da1f01d-4a2f-43eb-8344-31e2afbcb59a",
   "metadata": {},
   "outputs": [],
   "source": [
    "sagemaker_session = sagemaker.Session()"
   ]
  },
  {
   "cell_type": "code",
   "execution_count": null,
   "id": "7c2a5e80-0a8d-42fc-aba1-52a04435a25c",
   "metadata": {
    "tags": []
   },
   "outputs": [],
   "source": [
    "s3_bucket = \"\"\n",
    "s3_prefix = \"deepar_model\""
   ]
  },
  {
   "cell_type": "code",
   "execution_count": null,
   "id": "b2d3bfca-27c9-40ce-99fe-bd545e9e59ea",
   "metadata": {},
   "outputs": [],
   "source": [
    "role = sagemaker.get_execution_role()"
   ]
  },
  {
   "cell_type": "code",
   "execution_count": null,
   "id": "27e3dd5a-2db3-4b00-930a-b7e52947e4ee",
   "metadata": {},
   "outputs": [],
   "source": [
    "region = sagemaker_session.boto_region_name"
   ]
  },
  {
   "cell_type": "code",
   "execution_count": null,
   "id": "843c20d6-8fb9-4bbf-a71e-9b1a30ae19f8",
   "metadata": {},
   "outputs": [],
   "source": [
    "image_name = sagemaker.image_uris.retrieve(\"forecasting-deepar\", region)"
   ]
  },
  {
   "cell_type": "markdown",
   "id": "fbd1ea93-57cf-475a-8a15-1534eae01e31",
   "metadata": {
    "tags": []
   },
   "source": [
    "### Trip Start"
   ]
  },
  {
   "cell_type": "code",
   "execution_count": null,
   "id": "47d14263-5845-4af4-b7e7-2ea13b759f6a",
   "metadata": {},
   "outputs": [],
   "source": [
    "# 15-min\n",
    "s3_data_path_start = \"s3://{}/{}/data_start_poc\".format(s3_bucket, s3_prefix)\n",
    "s3_output_path_start = \"s3://{}/{}/output_start_poc\".format(s3_bucket, s3_prefix)\n",
    "\n",
    "# 30-min\n",
    "#s3_data_path_start = \"s3://{}/{}/data_start_poc30min\".format(s3_bucket, s3_prefix)\n",
    "#s3_output_path_start = \"s3://{}/{}/output_start_poc30min\".format(s3_bucket, s3_prefix)\n",
    "\n",
    "# 1-hour\n",
    "#s3_data_path_start = \"s3://{}/{}/data_start_poc1hr\".format(s3_bucket, s3_prefix)\n",
    "#s3_output_path_start = \"s3://{}/{}/output_start_poc1hr\".format(s3_bucket, s3_prefix)"
   ]
  },
  {
   "cell_type": "markdown",
   "id": "89ed3bab-0934-4870-8118-5f40b0ea2943",
   "metadata": {},
   "source": [
    "**Training**\n",
    "\n",
    "**15-min, student T**: Takes about 1 hour to train (58 mins) and to produce the below metrics on the test set\n",
    "- RMSE: 1.2466856959864956\n",
    "- mean_absolute_QuantileLoss: 59924.505764324516\n",
    "- mean_wQuantileLoss: 1.000542739670148\n",
    "- wQuantileLoss[0.1]: 0.20091203062302534\n",
    "- wQuantileLoss[0.2]: 0.40111006030543794\n",
    "- wQuantileLoss[0.3]: 0.6011151921433796\n",
    "- wQuantileLoss[0.4]: 0.8009969021696943\n",
    "- wQuantileLoss[0.5]: 1.0008156214438477\n",
    "- wQuantileLoss[0.6]: 1.2006446410813532\n",
    "- wQuantileLoss[0.7]: 1.4003967124746162\n",
    "- wQuantileLoss[0.8]: 1.599928056774745\n",
    "- wQuantileLoss[0.9]: 1.7989654400152346\n",
    "\n",
    "**30-min, student T**: Takes about 45 mins to train and to produce the below metrics on the test set\n",
    "- RMSE: 2.1787557106279745\n",
    "- mean_absolute_QuantileLoss: 59913.63178701855\n",
    "- mean_wQuantileLoss: 1.0003611799074759\n",
    "- wQuantileLoss[0.1]: 0.2005263899929865\n",
    "- wQuantileLoss[0.2]: 0.40070455537442595\n",
    "- wQuantileLoss[0.3]: 0.6007735039049544\n",
    "- wQuantileLoss[0.4]: 0.8007525877532903\n",
    "- wQuantileLoss[0.5]: 1.00066450281929\n",
    "- wQuantileLoss[0.6]: 1.2004877124648718\n",
    "- wQuantileLoss[0.7]: 1.4002120419622592\n",
    "- wQuantileLoss[0.8]: 1.5998925308562544\n",
    "- wQuantileLoss[0.9]: 1.7992367940389504\n",
    "\n",
    "**1-hour, student T**: Takes about 12 mins to train and to produce the below metrics on the test set\n",
    "- RMSE: 4.293374719083342\n",
    "- mean_absolute_QuantileLoss: 59851.39373534173\n",
    "- mean_wQuantileLoss: 0.9993220085377301\n",
    "- wQuantileLoss[0.1]: 0.20230291235391099\n",
    "- wQuantileLoss[0.2]: 0.4025155849388989\n",
    "- wQuantileLoss[0.3]: 0.6020443379453237\n",
    "- wQuantileLoss[0.4]: 0.8013119550995238\n",
    "- wQuantileLoss[0.5]: 1.0006762128143234\n",
    "- wQuantileLoss[0.6]: 1.1999059092022353\n",
    "- wQuantileLoss[0.7]: 1.3985901767580375\n",
    "- wQuantileLoss[0.8]: 1.596075543968918\n",
    "- wQuantileLoss[0.9]: 1.790475443758399\n",
    "\n",
    "**15-min, negative binomial**: Takes about 30 mins to train and to produce the below metrics on the test set\n",
    "- RMSE: 1.1641374227395522\n",
    "- mean_absolute_QuantileLoss: 56580.33333333333\n",
    "- mean_wQuantileLoss: 0.9447060264030811\n",
    "- wQuantileLoss[0.1]: 0.2\n",
    "- wQuantileLoss[0.2]: 0.4\n",
    "- wQuantileLoss[0.3]: 0.6\n",
    "- wQuantileLoss[0.4]: 0.8\n",
    "- wQuantileLoss[0.5]: 1.0\n",
    "- wQuantileLoss[0.6]: 1.2\n",
    "- wQuantileLoss[0.7]: 1.3999966606558467\n",
    "- wQuantileLoss[0.8]: 1.585200026714753\n",
    "- wQuantileLoss[0.9]: 1.3171575502571296"
   ]
  },
  {
   "cell_type": "code",
   "execution_count": null,
   "id": "b8f17a69-3ae0-45ea-827f-25d632d73023",
   "metadata": {},
   "outputs": [],
   "source": [
    "start_estimator = sagemaker.estimator.Estimator(\n",
    "    image_uri = image_name,\n",
    "    sagemaker_session = sagemaker_session,\n",
    "    role = role,\n",
    "    instance_count = 1,\n",
    "    instance_type = \"ml.c5.2xlarge\",\n",
    "    base_job_name = \"deepar-poc-start\",\n",
    "    output_path = s3_output_path_start,\n",
    ")"
   ]
  },
  {
   "cell_type": "code",
   "execution_count": null,
   "id": "62e4ddd5-c6f9-4020-93cb-34041454b689",
   "metadata": {},
   "outputs": [],
   "source": [
    "# 15-min\n",
    "freq = \"15min\"\n",
    "context_length = 4 * 24 * 3\n",
    "prediction_length = 4 * 24 * 3\n",
    "\n",
    "# 30-min\n",
    "#freq = \"30min\"\n",
    "#context_length = 2 * 24 * 3\n",
    "#prediction_length = 2 * 24 * 3\n",
    "\n",
    "# 1-hour\n",
    "#freq = \"H\"\n",
    "#context_length = 24 * 3\n",
    "#prediction_length = 24 * 3"
   ]
  },
  {
   "cell_type": "code",
   "execution_count": null,
   "id": "d9ca48c4-2da9-44ad-9a59-037c8436ddc2",
   "metadata": {},
   "outputs": [],
   "source": [
    "start_hyperparameters = {\n",
    "    \"time_freq\": freq,\n",
    "    \"epochs\": \"400\",\n",
    "    \"early_stopping_patience\": \"40\",\n",
    "    \"mini_batch_size\": \"64\",\n",
    "    \"learning_rate\": \"5E-4\",\n",
    "    \"likelihood\": \"negative-binomial\",\n",
    "    \"context_length\": str(context_length),\n",
    "    \"prediction_length\": str(prediction_length),\n",
    "}"
   ]
  },
  {
   "cell_type": "code",
   "execution_count": null,
   "id": "ab3ae3e7-ae61-4b8f-9272-e1e8084c26c4",
   "metadata": {},
   "outputs": [],
   "source": [
    "start_estimator.set_hyperparameters(**start_hyperparameters)"
   ]
  },
  {
   "cell_type": "code",
   "execution_count": null,
   "id": "ba2b73c2-3331-41dd-8829-a439c086fb4e",
   "metadata": {
    "tags": []
   },
   "outputs": [],
   "source": [
    "#%%time\n",
    "#start_data_channels = {\"train\": \"{}/train_start/\".format(s3_data_path_start), \"test\": \"{}/test_start/\".format(s3_data_path_start)}\n",
    "\n",
    "#start_estimator.fit(inputs = start_data_channels, wait = True)"
   ]
  },
  {
   "cell_type": "markdown",
   "id": "231addd0-680d-4b4e-b39c-05c789ad1b2a",
   "metadata": {},
   "source": [
    "**Prediction**"
   ]
  },
  {
   "cell_type": "code",
   "execution_count": null,
   "id": "5bc04415-f0b6-432c-a782-cac1f899fb2b",
   "metadata": {},
   "outputs": [],
   "source": [
    "import matplotlib.pyplot as plt\n",
    "from sagemaker.serverless import ServerlessInferenceConfig\n",
    "\n",
    "from deepar_model_utils import DeepARPredictor\n",
    "from deepar_model_utils import get_station_data\n",
    "from deepar_model_utils import prep_station_data"
   ]
  },
  {
   "cell_type": "markdown",
   "id": "e393c0dc-17fc-44e0-8871-314a8c4191b8",
   "metadata": {},
   "source": [
    "Reference for following code: [stackoverflow](https://stackoverflow.com/questions/56255154/how-to-use-a-pretrained-model-from-s3-to-predict-some-data), [Model docs](https://sagemaker.readthedocs.io/en/stable/api/inference/model.html])"
   ]
  },
  {
   "cell_type": "code",
   "execution_count": null,
   "id": "db456ed4-4c3b-4387-acc2-fcb436aa664b",
   "metadata": {},
   "outputs": [],
   "source": [
    "#start_file = \"s3://{}/model_trips_start_station_20208029_20220831.csv\".format(s3_bucket)\n",
    "start_file = \"model_trips_start_station_20208029_20220831.csv\"\n",
    "trips_start = pd.read_csv(start_file, parse_dates = True)\n",
    "trips_start.shape"
   ]
  },
  {
   "cell_type": "code",
   "execution_count": null,
   "id": "43cb81d6-6edb-4eec-9e2d-4a5bcfaf3eca",
   "metadata": {},
   "outputs": [],
   "source": [
    "trips_start_all_group = prep_station_data(trips_start, \"start station id\", \"starttime\")\n",
    "print(sum(trips_start_all_group[\"size\"]))"
   ]
  },
  {
   "cell_type": "code",
   "execution_count": null,
   "id": "63b658f5-ec6e-4565-9d9d-aa16880d69d1",
   "metadata": {},
   "outputs": [],
   "source": [
    "trip_start_model = sagemaker.model.Model(\n",
    "    # 15-min\n",
    "    #model_data = \"{}/deepar-poc-start-2022-10-19-16-11-42-997/output/model.tar.gz\".format(s3_output_path_start),\n",
    "    # 30-min\n",
    "    #model_data = \"{}/deepar-poc30min-start-2022-11-06-18-03-53-382/output/model.tar.gz\".format(s3_output_path_start),\n",
    "    # 1-hour\n",
    "    #model_data = \"{}/deepar-poc1hr-start-2022-11-06-19-34-46-739/output/model.tar.gz\".format(s3_output_path_start),\n",
    "    # 15-min neg-bin\n",
    "    model_data = \"{}/deepar-poc-start-2022-11-22-19-27-48-129/output/model.tar.gz\".format(s3_output_path_start),\n",
    "    image_uri = image_name,\n",
    "    role = role,\n",
    "    predictor_cls = DeepARPredictor, \n",
    "    name = \"deepar-poc-startmodel\")\n",
    "\n",
    "serverless_config = ServerlessInferenceConfig()\n",
    "\n",
    "#start_predictor = trip_start_model.deploy(#initial_instance_count = 1, \n",
    "#                                          #instance_type = \"ml.m5.large\", \n",
    "#                                          endpoint_name = \"deepar-poc-startendpoint\", \n",
    "#                                          serverless_inference_config = serverless_config)"
   ]
  },
  {
   "cell_type": "code",
   "execution_count": null,
   "id": "d82f7ebc-ceec-4084-984f-108ca6fe612d",
   "metadata": {},
   "outputs": [],
   "source": [
    "#with open('trip_start_model.pkl', 'wb') as f:\n",
    "#    pickle.dump(trip_start_model, f)\n",
    "\n",
    "#with open('trip_start_model.pkl', 'rb') as f:\n",
    "#    trip_start_model_pkl = pickle.load(f)"
   ]
  },
  {
   "cell_type": "code",
   "execution_count": null,
   "id": "36b6b33b-64ab-4a29-a488-e554d73d9966",
   "metadata": {},
   "outputs": [],
   "source": [
    "print(trip_start_model.name) # model name\n",
    "print(trip_start_model.endpoint_name) # endpoint name"
   ]
  },
  {
   "cell_type": "code",
   "execution_count": null,
   "id": "ae2f822f-58ef-4528-b172-e083bbd24a75",
   "metadata": {},
   "outputs": [],
   "source": [
    "freq = \"15min\" # group and sum trips by a set increment\n",
    "#freq = \"30min\" # group and sum trips by a set increment\n",
    "#freq = \"H\" # group and sum trips by a set increment\n",
    "\n",
    "station = 436\n",
    "train_max_date = \"2022-08-28 23:45:00\" # make sure all series end at the same time\n",
    "test_start = \"2022-08-29 00:00:00\"\n",
    "max_date = \"2022-08-31 23:45:00\" # make sure all series end at the same time"
   ]
  },
  {
   "cell_type": "code",
   "execution_count": null,
   "id": "3f2d21bd-902a-4509-829c-79733936b0a4",
   "metadata": {},
   "outputs": [],
   "source": [
    "# stations to try: [177, 436, 572, 67]\n",
    "observed_start = get_station_data(trips_start_all_group, \"start station id\", \"starttime\", station, freq, max_date).loc[test_start:][\"size\"]\n",
    "predicted_start = start_predictor.predict(ts = get_station_data(trips_start_all_group, \"start station id\", \"starttime\", station, freq, train_max_date)[\"size\"], quantiles = [0.025, 0.7, 0.975])\n",
    "\n",
    "plt.figure(figsize = (12, 6))\n",
    "observed_start.plot(label = \"observed\", color = \"#808080\", alpha = 0.5)\n",
    "#p2_5 = predicted_start[\"0.025\"]\n",
    "#p97_5 = predicted_start[\"0.975\"]\n",
    "#plt.fill_between(p2_5.index, p2_5, p97_5, color = \"#808080\", alpha = 0.5, label = \"95% CI\")\n",
    "predicted_start[\"0.7\"].plot(label = \"predicted\")\n",
    "\n",
    "plt.xlabel(\"date\")\n",
    "plt.ylabel(\"trip count\")\n",
    "plt.title(str(station))\n",
    "\n",
    "plt.legend()\n",
    "plt.show()"
   ]
  },
  {
   "cell_type": "markdown",
   "id": "42e60e0e-f688-4b63-b5fa-badcd8bb00b3",
   "metadata": {},
   "source": [
    "**Calculate RMSE**"
   ]
  },
  {
   "cell_type": "code",
   "execution_count": null,
   "id": "732b3858-6b25-4425-98e5-a4c7b527370e",
   "metadata": {},
   "outputs": [],
   "source": [
    "from tqdm import tqdm\n",
    "from sklearn.metrics import mean_squared_error"
   ]
  },
  {
   "cell_type": "markdown",
   "id": "63b18504-94a3-4363-ab3e-541c65af88c0",
   "metadata": {},
   "source": [
    "**15-min, student T**\n",
    "- Quantile = 0.85; RMSE = 1.02\n",
    "- **Quantile = 0.90; RMSE = 1.00**\n",
    "- Quantile = 0.95; RMSE = 1.16\n",
    "\n",
    "**30-min, student T**\n",
    "- Quantile = 0.80; RMSE = 1.56\n",
    "- **Quantile = 0.85; RMSE = 1.49**\n",
    "- Quantile = 0.90; RMSE = 1.53\n",
    "- Quantile = 0.95; RMSE = 2.17\n",
    "\n",
    "**1-hour, student T**\n",
    "- Quantile = 0.75; RMSE = 2.32\n",
    "- **Quantile = 0.80; RMSE = 2.29**\n",
    "- Quantile = 0.85; RMSE = 2.48\n",
    "- Quantile = 0.90; RMSE = 3.24\n",
    "\n",
    "**15-min, negative binomial**\n",
    "- Quantile = 0.65; RMSE = 0.92\n",
    "- **Quantile = 0.70; RMSE = 0.91**\n",
    "- Quantile = 0.75; RMSE = 0.93\n",
    "- Quantile = 0.80; RMSE = 0.98\n",
    "- Quantile = 0.85; RMSE = 1.07\n",
    "- Quantile = 0.90; RMSE = 1.25"
   ]
  },
  {
   "cell_type": "code",
   "execution_count": null,
   "id": "19df70c0-f1c4-4fd7-9788-c90cfa2feb38",
   "metadata": {},
   "outputs": [],
   "source": [
    "quantile = 0.65\n",
    "y_true = []\n",
    "y_pred = []\n",
    "\n",
    "for station in tqdm(trips_start_all_group[\"start station id\"].unique()):\n",
    "    y_true += get_station_data(trips_start_all_group, \"start station id\", \"starttime\", station, freq, max_date, cluster = True, min_date = test_start).loc[test_start:][\"size\"].tolist()\n",
    "    y_pred += start_predictor.predict(ts = get_station_data(trips_start_all_group, \"start station id\", \"starttime\", station, freq, train_max_date)[\"size\"], quantiles = [quantile])[str(quantile)].tolist()\n",
    "mean_squared_error(y_true, y_pred, squared = False)"
   ]
  },
  {
   "cell_type": "code",
   "execution_count": null,
   "id": "c151d835-66fd-4be5-8b04-75911d0d202d",
   "metadata": {},
   "outputs": [],
   "source": [
    "start_predictor.delete_model()\n",
    "start_predictor.delete_endpoint()"
   ]
  },
  {
   "cell_type": "markdown",
   "id": "3e7db15f-b839-4f19-9fda-d530607d12ac",
   "metadata": {},
   "source": [
    "### Trip Stop"
   ]
  },
  {
   "cell_type": "code",
   "execution_count": null,
   "id": "7a939b52-efaa-4dac-8ef6-90187d7204c5",
   "metadata": {},
   "outputs": [],
   "source": [
    "# 15-min\n",
    "s3_data_path_stop = \"s3://{}/{}/data_stop_poc\".format(s3_bucket, s3_prefix)\n",
    "s3_output_path_stop = \"s3://{}/{}/output_stop_poc\".format(s3_bucket, s3_prefix)\n",
    "\n",
    "# 30-min\n",
    "#s3_data_path_stop = \"s3://{}/{}/data_stop_poc30min\".format(s3_bucket, s3_prefix)\n",
    "#s3_output_path_stop = \"s3://{}/{}/output_stop_poc30min\".format(s3_bucket, s3_prefix)\n",
    "\n",
    "# 1-hour\n",
    "#s3_data_path_stop = \"s3://{}/{}/data_stop_poc1hr\".format(s3_bucket, s3_prefix)\n",
    "#s3_output_path_stop = \"s3://{}/{}/output_stop_poc1hr\".format(s3_bucket, s3_prefix)"
   ]
  },
  {
   "cell_type": "markdown",
   "id": "840b8030-ba81-416e-88d6-60980ec00e81",
   "metadata": {},
   "source": [
    "**Training**\n",
    "\n",
    "**15-min, student T**: Takes about 1.5 hours to train (90 mins) and to produce the below metrics on the test set\n",
    "- RMSE: 1.1916626421269132\n",
    "- mean_absolute_QuantileLoss: 59989.86295699137\n",
    "- mean_wQuantileLoss: 1.0007984878214171\n",
    "- wQuantileLoss[0.1]: 0.2010558960899485\n",
    "- wQuantileLoss[0.2]: 0.40154761764894925\n",
    "- wQuantileLoss[0.3]: 0.601687960449047\n",
    "- wQuantileLoss[0.4]: 0.8015763695273128\n",
    "- wQuantileLoss[0.5]: 1.0013230552798642\n",
    "- wQuantileLoss[0.6]: 1.2009613247249022\n",
    "- wQuantileLoss[0.7]: 1.4004675590225628\n",
    "- wQuantileLoss[0.8]: 1.5998017102259545\n",
    "- wQuantileLoss[0.9]: 1.7987648974242108\n",
    "\n",
    "**30-min, student T**: Takes about 30 mins to train and to produce the below metrics on the test set\n",
    "- RMSE: 2.1231545764037594\n",
    "- mean_absolute_QuantileLoss: 59935.9481798435\n",
    "- mean_wQuantileLoss: 0.9998990387348354\n",
    "- wQuantileLoss[0.1]: 0.20066822408773213\n",
    "- wQuantileLoss[0.2]: 0.40065327164551484\n",
    "- wQuantileLoss[0.3]: 0.6004516344835465\n",
    "- wQuantileLoss[0.4]: 0.8003259611877267\n",
    "- wQuantileLoss[0.5]: 1.0003178984530885\n",
    "- wQuantileLoss[0.6]: 1.200186983603307\n",
    "- wQuantileLoss[0.7]: 1.3998246688000366\n",
    "- wQuantileLoss[0.8]: 1.5991159027676558\n",
    "- wQuantileLoss[0.9]: 1.7975468035849091\n",
    "\n",
    "**1-hour, student T**: Takes about 10 mins to train and to produce the below metrics on the test set\n",
    "- RMSE: 4.911408997635595\n",
    "- mean_absolute_QuantileLoss: 59789.733624069406\n",
    "- mean_wQuantileLoss: 0.9974597715136198\n",
    "- wQuantileLoss[0.1]: 0.20230946522090493\n",
    "- wQuantileLoss[0.2]: 0.40355811051773666\n",
    "- wQuantileLoss[0.3]: 0.6033005662221217\n",
    "- wQuantileLoss[0.4]: 0.802101273562577\n",
    "- wQuantileLoss[0.5]: 1.0006246870691806\n",
    "- wQuantileLoss[0.6]: 1.1985435338384487\n",
    "- wQuantileLoss[0.7]: 1.3952969431362952\n",
    "- wQuantileLoss[0.8]: 1.5903024581117946\n",
    "- wQuantileLoss[0.9]: 1.7811009059435192\n",
    "\n",
    "**15-min, negative binomial**: Takes about 20 mins to train and to produce the below metrics on the test set\n",
    "- RMSE: 1.2054183536971828\n",
    "- mean_absolute_QuantileLoss: 57999.688888888886\n",
    "- mean_wQuantileLoss: 0.9675968250790579\n",
    "- wQuantileLoss[0.1]: 0.2\n",
    "- wQuantileLoss[0.2]: 0.4\n",
    "- wQuantileLoss[0.3]: 0.6\n",
    "- wQuantileLoss[0.4]: 0.8\n",
    "- wQuantileLoss[0.5]: 1.0\n",
    "- wQuantileLoss[0.6]: 1.2\n",
    "- wQuantileLoss[0.7]: 1.4\n",
    "- wQuantileLoss[0.8]: 1.5995529011377667\n",
    "- wQuantileLoss[0.9]: 1.5088185245737546"
   ]
  },
  {
   "cell_type": "code",
   "execution_count": null,
   "id": "fcc1113e-782c-4525-9625-eae4b502eb16",
   "metadata": {},
   "outputs": [],
   "source": [
    "stop_estimator = sagemaker.estimator.Estimator(\n",
    "    image_uri = image_name,\n",
    "    sagemaker_session = sagemaker_session,\n",
    "    role = role,\n",
    "    instance_count = 1,\n",
    "    instance_type = \"ml.c5.2xlarge\",\n",
    "    base_job_name = \"deepar-poc-stop\",\n",
    "    output_path = s3_output_path_stop,\n",
    ")"
   ]
  },
  {
   "cell_type": "code",
   "execution_count": null,
   "id": "848136ac-91a3-4474-8f51-8ad5db3d9a4e",
   "metadata": {},
   "outputs": [],
   "source": [
    "# 15-min\n",
    "freq = \"15min\"\n",
    "context_length = 4 * 24 * 3\n",
    "prediction_length = 4 * 24 * 3\n",
    "\n",
    "# 30-min\n",
    "#freq = \"30min\"\n",
    "#context_length = 2 * 24 * 3\n",
    "#prediction_length = 2 * 24 * 3\n",
    "\n",
    "# 1-hour\n",
    "#freq = \"H\"\n",
    "#context_length = 24 * 3\n",
    "#prediction_length = 24 * 3"
   ]
  },
  {
   "cell_type": "code",
   "execution_count": null,
   "id": "2b7ce4c4-a681-423a-9902-957b6e3a9180",
   "metadata": {},
   "outputs": [],
   "source": [
    "stop_hyperparameters = {\n",
    "    \"time_freq\": freq,\n",
    "    \"epochs\": \"400\",\n",
    "    \"early_stopping_patience\": \"40\",\n",
    "    \"mini_batch_size\": \"64\",\n",
    "    \"learning_rate\": \"5E-4\",\n",
    "    \"likelihood\": \"negative-binomial\",\n",
    "    \"context_length\": str(context_length),\n",
    "    \"prediction_length\": str(prediction_length),\n",
    "}"
   ]
  },
  {
   "cell_type": "code",
   "execution_count": null,
   "id": "3b54a8f6-1e18-41d9-9955-1aaceae227a7",
   "metadata": {},
   "outputs": [],
   "source": [
    "stop_estimator.set_hyperparameters(**stop_hyperparameters)"
   ]
  },
  {
   "cell_type": "code",
   "execution_count": null,
   "id": "88c29117-244d-4ad7-ad42-d50b442e0e75",
   "metadata": {
    "tags": []
   },
   "outputs": [],
   "source": [
    "#%%time\n",
    "#stop_data_channels = {\"train\": \"{}/train_stop/\".format(s3_data_path_stop), \"test\": \"{}/test_stop/\".format(s3_data_path_stop)}\n",
    "\n",
    "#stop_estimator.fit(inputs = stop_data_channels, wait = True)"
   ]
  },
  {
   "cell_type": "markdown",
   "id": "ab9c24d1-144a-44a0-97ac-446b3de948aa",
   "metadata": {},
   "source": [
    "**Prediction**"
   ]
  },
  {
   "cell_type": "code",
   "execution_count": null,
   "id": "9fbc3266-372f-453d-b024-4755106b778f",
   "metadata": {},
   "outputs": [],
   "source": [
    "import matplotlib.pyplot as plt\n",
    "from sagemaker.serverless import ServerlessInferenceConfig\n",
    "\n",
    "from deepar_model_utils import DeepARPredictor\n",
    "from deepar_model_utils import get_station_data\n",
    "from deepar_model_utils import prep_station_data"
   ]
  },
  {
   "cell_type": "markdown",
   "id": "417ff6f7-d3dc-4d3c-93e5-0c49319f00b6",
   "metadata": {},
   "source": [
    "Reference for following code: [stackoverflow](https://stackoverflow.com/questions/56255154/how-to-use-a-pretrained-model-from-s3-to-predict-some-data), [sagemaker.Model docs](https://sagemaker.readthedocs.io/en/stable/api/inference/model.html])"
   ]
  },
  {
   "cell_type": "code",
   "execution_count": null,
   "id": "c97b953d-dc9e-4826-a94b-8a5980c61180",
   "metadata": {},
   "outputs": [],
   "source": [
    "#stop_file = \"s3://{}/model_trips_stop_station_20208029_20220831.csv\".format(s3_bucket)\n",
    "stop_file = \"model_trips_stop_station_20208029_20220831.csv\"\n",
    "trips_stop = pd.read_csv(stop_file, parse_dates = True)\n",
    "trips_stop.shape"
   ]
  },
  {
   "cell_type": "code",
   "execution_count": null,
   "id": "acb0080b-5c1e-48b5-8404-65637c6c0637",
   "metadata": {},
   "outputs": [],
   "source": [
    "trips_stop_all_group = prep_station_data(trips_stop, \"end station id\", \"stoptime\")\n",
    "print(sum(trips_stop_all_group[\"size\"]))"
   ]
  },
  {
   "cell_type": "code",
   "execution_count": null,
   "id": "c124ddb9-b943-472d-88aa-6ad1cb40bc72",
   "metadata": {},
   "outputs": [],
   "source": [
    "trip_stop_model = sagemaker.model.Model(\n",
    "    # 15-min\n",
    "    #model_data = \"{}/deepar-poc-stop-2022-10-21-20-01-24-335/output/model.tar.gz\".format(s3_output_path_stop),\n",
    "    # 30-min\n",
    "    #model_data = \"{}/deepar-poc30min-stop-2022-11-06-18-56-59-837/output/model.tar.gz\".format(s3_output_path_stop),\n",
    "    # 1-hour\n",
    "    #model_data = \"{}/deepar-poc1hr-stop-2022-11-06-19-50-56-634/output/model.tar.gz\".format(s3_output_path_stop),\n",
    "    # 15-min neg-bin\n",
    "    model_data = \"{}/deepar-poc-stop-2022-11-22-21-05-30-909/output/model.tar.gz\".format(s3_output_path_stop),\n",
    "    image_uri = image_name,\n",
    "    role = role,\n",
    "    predictor_cls = DeepARPredictor, \n",
    "    name = \"deepar-poc-stopmodel\")\n",
    "\n",
    "serverless_config = ServerlessInferenceConfig()\n",
    "\n",
    "#stop_predictor = trip_stop_model.deploy(#initial_instance_count = 1, \n",
    "#                                        #instance_type = \"ml.m5.large\", \n",
    "#                                        endpoint_name = \"deepar-poc-stopendpoint\", \n",
    "#                                        serverless_inference_config = serverless_config)"
   ]
  },
  {
   "cell_type": "code",
   "execution_count": null,
   "id": "ce28cc56-757d-43d6-b097-13d5b54545e8",
   "metadata": {},
   "outputs": [],
   "source": [
    "#with open('trip_stop_model.pkl', 'wb') as f:\n",
    "#    pickle.dump(trip_stop_model, f)\n",
    "\n",
    "#with open('trip_stop_model.pkl', 'rb') as f:\n",
    "#    trip_stop_model_pkl = pickle.load(f)"
   ]
  },
  {
   "cell_type": "code",
   "execution_count": null,
   "id": "ec435e40-ae22-424a-9778-eeabf688a2c9",
   "metadata": {},
   "outputs": [],
   "source": [
    "print(trip_stop_model.name) # model name\n",
    "print(trip_stop_model.endpoint_name) # endpoint name"
   ]
  },
  {
   "cell_type": "code",
   "execution_count": null,
   "id": "6f7b36fd-3e10-480e-8638-5105e0139527",
   "metadata": {
    "tags": []
   },
   "outputs": [],
   "source": [
    "# test: skipping ahead 3 days to forecast\n",
    "# verdict: able to predict first 3 days in September even though the last 3 days were not used to train model\n",
    "#station = 68\n",
    "#freq = \"15min\"\n",
    "#max_date = \"2022-08-31 23:45:00\"\n",
    "#test_skip = get_station_data(trips_stop_all_group, \"end station id\", \"stoptime\", station, freq, max_date)[\"size\"]\n",
    "#stop_predictor.predict(ts = test_skip, quantiles = [0.7])"
   ]
  },
  {
   "cell_type": "code",
   "execution_count": null,
   "id": "767b6171-39a0-46a7-bb9d-eb0c2eaf74fc",
   "metadata": {
    "tags": []
   },
   "outputs": [],
   "source": [
    "# test: forecast for a station that was not in the training data\n",
    "# verdict: able to predict the next 3 days for cold start stations\n",
    "#station = 572\n",
    "#freq = \"15min\"\n",
    "#max_date = \"2022-08-29 23:45:00\"\n",
    "#test_cold = get_station_data(trips_stop_all_group, \"end station id\", \"stoptime\", station, freq, max_date)[\"size\"]\n",
    "#stop_predictor.predict(ts = test_cold, quantiles = [0.7])"
   ]
  },
  {
   "cell_type": "code",
   "execution_count": null,
   "id": "6eb17305-55d4-4230-b10d-b3c8761251fd",
   "metadata": {},
   "outputs": [],
   "source": [
    "freq = \"15min\" # group and sum trips by a set increment\n",
    "#freq = \"30min\" # group and sum trips by a set increment\n",
    "#freq = \"H\" # group and sum trips by a set increment\n",
    "\n",
    "station = 178\n",
    "train_max_date = \"2022-08-28 23:45:00\" # make sure all series end at the same time\n",
    "test_start = \"2022-08-29 00:00:00\"\n",
    "max_date = \"2022-08-31 23:45:00\" # make sure all series end at the same time"
   ]
  },
  {
   "cell_type": "code",
   "execution_count": null,
   "id": "cd49b1ab-a2e4-47f2-ac62-6e23672bf0cf",
   "metadata": {},
   "outputs": [],
   "source": [
    "# stations to try: [177, 436, 572, 67]\n",
    "# note: station 572 results in error because there is no data for that station prior to 8/29/2022\n",
    "observed_stop = get_station_data(trips_stop_all_group, \"end station id\", \"stoptime\", station, freq, max_date).loc[test_start:][\"size\"]\n",
    "predicted_stop = stop_predictor.predict(ts = get_station_data(trips_stop_all_group, \"end station id\", \"stoptime\", station, freq, train_max_date)[\"size\"], quantiles = [0.025, 0.7, 0.975])\n",
    "\n",
    "plt.figure(figsize = (12, 6))\n",
    "observed_stop.plot(label = \"observed\", color = \"#808080\", alpha = 0.5)\n",
    "#p2_5 = predicted_stop[\"0.025\"]\n",
    "#p97_5 = predicted_stop[\"0.975\"]\n",
    "#plt.fill_between(p2_5.index, p2_5, p97_5, color = \"#808080\", alpha = 0.5, label = \"95% CI\")\n",
    "predicted_stop[\"0.7\"].plot(label = \"predicted\")\n",
    "\n",
    "plt.xlabel(\"date\")\n",
    "plt.ylabel(\"trip count\")\n",
    "plt.title(str(station))\n",
    "\n",
    "plt.legend()\n",
    "plt.show()"
   ]
  },
  {
   "cell_type": "markdown",
   "id": "f289b701-2558-483c-bc19-7f586ea07d25",
   "metadata": {},
   "source": [
    "**Calculate RMSE**"
   ]
  },
  {
   "cell_type": "code",
   "execution_count": null,
   "id": "b15eb3aa-995e-4c12-828d-42d756d1bc37",
   "metadata": {},
   "outputs": [],
   "source": [
    "from tqdm import tqdm\n",
    "from sklearn.metrics import mean_squared_error"
   ]
  },
  {
   "cell_type": "markdown",
   "id": "c91eda5e-9c0c-49ba-9b41-6123a26813dc",
   "metadata": {},
   "source": [
    "**15-min, student T**\n",
    "- Quantile = 0.75; RMSE = 1.07\n",
    "- Quantile = 0.85; RMSE = 0.99\n",
    "- **Quantile = 0.90; RMSE = 0.97**\n",
    "- Quantile = 0.95; RMSE = 1.11\n",
    "\n",
    "**30-min, student T**\n",
    "- Quantile = 0.80; RMSE = 1.50\n",
    "- **Quantile = 0.85; RMSE = 1.43**\n",
    "- Quantile = 0.90; RMSE = 1.50\n",
    "- Quantile = 0.95; RMSE = 2.21\n",
    "\n",
    "**1-hour, student T**\n",
    "- Quantile = 0.70; RMSE = 2.23\n",
    "- **Quantile = 0.75; RMSE = 2.13**\n",
    "- Quantile = 0.80; RMSE = 2.20\n",
    "- Quantile = 0.85; RMSE = 2.51\n",
    "- Quantile = 0.90; RMSE = 3.31\n",
    "\n",
    "**15-min, negative binomial**\n",
    "- Quantile = 0.65; RMSE = 0.87\n",
    "- **Quantile = 0.70; RMSE = 0.87**\n",
    "- Quantile = 0.75; RMSE = 0.89"
   ]
  },
  {
   "cell_type": "code",
   "execution_count": null,
   "id": "d1ee6a60-8bc1-42d9-aa1b-cc07c0df7e01",
   "metadata": {},
   "outputs": [],
   "source": [
    "quantile = 0.65\n",
    "y_true = []\n",
    "y_pred = []\n",
    "\n",
    "for station in tqdm(trips_stop_all_group[\"end station id\"].unique()):\n",
    "    if station != 572:\n",
    "        y_true += get_station_data(trips_stop_all_group, \"end station id\", \"stoptime\", station, freq, max_date, cluster = True, min_date = test_start).loc[test_start:][\"size\"].tolist()\n",
    "        y_pred += stop_predictor.predict(ts = get_station_data(trips_stop_all_group, \"end station id\", \"stoptime\", station, freq, train_max_date)[\"size\"], quantiles = [quantile])[str(quantile)].tolist()\n",
    "mean_squared_error(y_true, y_pred, squared = False)"
   ]
  },
  {
   "cell_type": "code",
   "execution_count": null,
   "id": "9b3aa41c-f027-485d-9058-06b38d9c8043",
   "metadata": {},
   "outputs": [],
   "source": [
    "stop_predictor.delete_model()\n",
    "stop_predictor.delete_endpoint()"
   ]
  },
  {
   "cell_type": "code",
   "execution_count": null,
   "id": "573be150-9271-4cf6-898c-c5cd78c99144",
   "metadata": {},
   "outputs": [],
   "source": []
  }
 ],
 "metadata": {
  "instance_type": "ml.t3.medium",
  "kernelspec": {
   "display_name": "Python 3 (Data Science)",
   "language": "python",
   "name": "python3__SAGEMAKER_INTERNAL__arn:aws:sagemaker:us-east-1:081325390199:image/datascience-1.0"
  },
  "language_info": {
   "codemirror_mode": {
    "name": "ipython",
    "version": 3
   },
   "file_extension": ".py",
   "mimetype": "text/x-python",
   "name": "python",
   "nbconvert_exporter": "python",
   "pygments_lexer": "ipython3",
   "version": "3.7.10"
  }
 },
 "nbformat": 4,
 "nbformat_minor": 5
}
