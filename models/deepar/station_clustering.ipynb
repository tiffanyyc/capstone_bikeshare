{
 "cells": [
  {
   "cell_type": "markdown",
   "id": "06a48a97-a857-48cc-be3b-ae725ad6884f",
   "metadata": {},
   "source": [
    "## Station Clustering"
   ]
  },
  {
   "cell_type": "code",
   "execution_count": 1,
   "id": "f297c97e-fbf0-40be-b128-042038c9764b",
   "metadata": {},
   "outputs": [],
   "source": [
    "import pandas as pd\n",
    "import matplotlib.pyplot as plt\n",
    "from tqdm import tqdm\n",
    "\n",
    "from deepar_model_utils import prep_station_data\n",
    "from deepar_model_utils import get_station_data\n",
    "from deepar_model_utils import cluster_stations\n",
    "from deepar_model_utils import deepar_station_data\n",
    "from deepar_model_utils import write_dicts_to_file\n",
    "\n",
    "%matplotlib inline"
   ]
  },
  {
   "cell_type": "markdown",
   "id": "031d735c-0481-48b9-a46e-7910694055d7",
   "metadata": {},
   "source": [
    "### Trip Start Station"
   ]
  },
  {
   "cell_type": "code",
   "execution_count": 2,
   "id": "e3bb7ee4-9974-4100-b9ca-c157be65236a",
   "metadata": {},
   "outputs": [
    {
     "data": {
      "text/plain": [
       "(6059710, 2)"
      ]
     },
     "execution_count": 2,
     "metadata": {},
     "output_type": "execute_result"
    }
   ],
   "source": [
    "start_file = \"../model_trips_start_station_20208029_20220831.csv\"\n",
    "\n",
    "#s3_start_location = f\"s3://{bucket}/{start_file}*\"\n",
    "#trips_start = pd.read_csv(s3_start_location, parse_dates = True)\n",
    "\n",
    "trips_start = pd.read_csv(start_file, parse_dates = True)\n",
    "trips_start.shape"
   ]
  },
  {
   "cell_type": "code",
   "execution_count": 3,
   "id": "e3dc15cb-1a83-425d-9d07-cc7e8ecd35f9",
   "metadata": {},
   "outputs": [],
   "source": [
    "trips_start_station = pd.DataFrame(trips_start[\"start station id\"])"
   ]
  },
  {
   "cell_type": "code",
   "execution_count": 4,
   "id": "763c62ae-4ca0-4852-92d5-be5d5f494983",
   "metadata": {},
   "outputs": [],
   "source": [
    "trips_start_station = trips_start_station.groupby([\"start station id\"], as_index = False).size().sort_values(by = \"size\", ascending = False)\n",
    "trips_start_station"
   ]
  },
  {
   "cell_type": "markdown",
   "id": "8804e748-88f7-4258-9360-92ffcbcd798f",
   "metadata": {},
   "source": [
    "Determine number of stations to individually cluster based on overall trip volume. Each station that is selected will be its own cluster and all other stations will be clustered together."
   ]
  },
  {
   "cell_type": "code",
   "execution_count": 6,
   "id": "2acc767a-e89e-435d-89b1-a25301a79a71",
   "metadata": {},
   "outputs": [
    {
     "data": {
      "text/plain": [
       "1211942.0"
      ]
     },
     "execution_count": 6,
     "metadata": {},
     "output_type": "execute_result"
    }
   ],
   "source": [
    "trips_start.shape[0] * 0.2"
   ]
  },
  {
   "cell_type": "code",
   "execution_count": 7,
   "id": "a2fa16db-2f4b-4081-9514-40268ab22e91",
   "metadata": {},
   "outputs": [
    {
     "data": {
      "text/plain": [
       "1284348"
      ]
     },
     "execution_count": 7,
     "metadata": {},
     "output_type": "execute_result"
    }
   ],
   "source": [
    "sum(trips_start_station.iloc[0:20][\"size\"])"
   ]
  },
  {
   "cell_type": "code",
   "execution_count": 8,
   "id": "32b863a5-f5e6-4d23-9938-348839115ba4",
   "metadata": {},
   "outputs": [
    {
     "data": {
      "text/plain": [
       "0.2119487566236668"
      ]
     },
     "execution_count": 8,
     "metadata": {},
     "output_type": "execute_result"
    }
   ],
   "source": [
    "sum(trips_start_station.iloc[0:20][\"size\"]) / trips_start.shape[0]"
   ]
  },
  {
   "cell_type": "code",
   "execution_count": 9,
   "id": "579bea82-d6aa-40df-a938-80dc75fe2716",
   "metadata": {},
   "outputs": [
    {
     "data": {
      "text/plain": [
       "Text(0, 0.5, 'trip count')"
      ]
     },
     "execution_count": 9,
     "metadata": {},
     "output_type": "execute_result"
    },
    {
     "data": {
      "image/png": "[encoded data removed]",
      "text/plain": [
       "<Figure size 1000x500 with 1 Axes>"
      ]
     },
     "metadata": {},
     "output_type": "display_data"
    }
   ],
   "source": [
    "fig = plt.figure(figsize = (10, 5))\n",
    "\n",
    "plt.bar(trips_start_station[\"start station id\"], trips_start_station[\"size\"], width = 0.5)\n",
    "plt.xlabel(\"start station id\")\n",
    "plt.ylabel(\"trip count\")"
   ]
  },
  {
   "cell_type": "code",
   "execution_count": 12,
   "id": "0aa9a360-e85a-41b7-99bb-59d889d75462",
   "metadata": {},
   "outputs": [],
   "source": [
    "start_station_cluster = cluster_stations(trips_start_station, 20, \"start station id\")"
   ]
  },
  {
   "cell_type": "markdown",
   "id": "21f484df-5fa3-457f-921c-3fab9ba4b8ac",
   "metadata": {},
   "source": [
    "Incorporate categories/clusters into DeepAR data format."
   ]
  },
  {
   "cell_type": "markdown",
   "id": "283e2d35-1b2e-4f4d-976e-138efce3b5fa",
   "metadata": {},
   "source": [
    "### Trip End Station"
   ]
  },
  {
   "cell_type": "code",
   "execution_count": 14,
   "id": "840eb687-6c5d-49e7-aa8e-d200054c3050",
   "metadata": {},
   "outputs": [
    {
     "data": {
      "text/plain": [
       "(6059354, 2)"
      ]
     },
     "execution_count": 14,
     "metadata": {},
     "output_type": "execute_result"
    }
   ],
   "source": [
    "stop_file = \"../model_trips_stop_station_20208029_20220831.csv\"\n",
    "\n",
    "#s3_end_location = f\"s3://{bucket}/{end_file}*\"\n",
    "#trips_end = pd.read_csv(s3_end_location, parse_dates = True)\n",
    "\n",
    "trips_stop = pd.read_csv(stop_file, parse_dates = True)\n",
    "trips_stop.shape"
   ]
  },
  {
   "cell_type": "code",
   "execution_count": 16,
   "id": "0023d3f7-550b-4cd7-a778-171fc66c7d8e",
   "metadata": {},
   "outputs": [],
   "source": [
    "trips_end_station = pd.DataFrame(trips_stop[\"end station id\"])"
   ]
  },
  {
   "cell_type": "code",
   "execution_count": 18,
   "id": "68370faf-7b61-479d-b562-994096d28a91",
   "metadata": {},
   "outputs": [
    {
     "data": {
      "text/html": [
       "<div>\n",
       "<style scoped>\n",
       "    .dataframe tbody tr th:only-of-type {\n",
       "        vertical-align: middle;\n",
       "    }\n",
       "\n",
       "    .dataframe tbody tr th {\n",
       "        vertical-align: top;\n",
       "    }\n",
       "\n",
       "    .dataframe thead th {\n",
       "        text-align: right;\n",
       "    }\n",
       "</style>\n",
       "<table border=\"1\" class=\"dataframe\">\n",
       "  <thead>\n",
       "    <tr style=\"text-align: right;\">\n",
       "      <th></th>\n",
       "      <th>end station id</th>\n",
       "      <th>size</th>\n",
       "    </tr>\n",
       "  </thead>\n",
       "  <tbody>\n",
       "    <tr>\n",
       "      <th>59</th>\n",
       "      <td>67</td>\n",
       "      <td>129410</td>\n",
       "    </tr>\n",
       "    <tr>\n",
       "      <th>60</th>\n",
       "      <td>68</td>\n",
       "      <td>108422</td>\n",
       "    </tr>\n",
       "    <tr>\n",
       "      <th>66</th>\n",
       "      <td>74</td>\n",
       "      <td>85584</td>\n",
       "    </tr>\n",
       "    <tr>\n",
       "      <th>53</th>\n",
       "      <td>60</td>\n",
       "      <td>82149</td>\n",
       "    </tr>\n",
       "    <tr>\n",
       "      <th>97</th>\n",
       "      <td>107</td>\n",
       "      <td>75329</td>\n",
       "    </tr>\n",
       "    <tr>\n",
       "      <th>...</th>\n",
       "      <td>...</td>\n",
       "      <td>...</td>\n",
       "    </tr>\n",
       "    <tr>\n",
       "      <th>217</th>\n",
       "      <td>308</td>\n",
       "      <td>7</td>\n",
       "    </tr>\n",
       "    <tr>\n",
       "      <th>449</th>\n",
       "      <td>570</td>\n",
       "      <td>6</td>\n",
       "    </tr>\n",
       "    <tr>\n",
       "      <th>451</th>\n",
       "      <td>572</td>\n",
       "      <td>5</td>\n",
       "    </tr>\n",
       "    <tr>\n",
       "      <th>450</th>\n",
       "      <td>571</td>\n",
       "      <td>3</td>\n",
       "    </tr>\n",
       "    <tr>\n",
       "      <th>325</th>\n",
       "      <td>438</td>\n",
       "      <td>1</td>\n",
       "    </tr>\n",
       "  </tbody>\n",
       "</table>\n",
       "<p>452 rows × 2 columns</p>\n",
       "</div>"
      ],
      "text/plain": [
       "     end station id    size\n",
       "59               67  129410\n",
       "60               68  108422\n",
       "66               74   85584\n",
       "53               60   82149\n",
       "97              107   75329\n",
       "..              ...     ...\n",
       "217             308       7\n",
       "449             570       6\n",
       "451             572       5\n",
       "450             571       3\n",
       "325             438       1\n",
       "\n",
       "[452 rows x 2 columns]"
      ]
     },
     "execution_count": 18,
     "metadata": {},
     "output_type": "execute_result"
    }
   ],
   "source": [
    "trips_end_station = trips_end_station.groupby([\"end station id\"], as_index = False).size().sort_values(by = \"size\", ascending = False)\n",
    "trips_end_station"
   ]
  },
  {
   "cell_type": "markdown",
   "id": "940e9c1c-efd6-4b1d-ab30-87c1c3d1a818",
   "metadata": {},
   "source": [
    "Determine number of stations to individually cluster based on overall trip volume. Each station that is selected will be its own cluster and all other stations will be clustered together."
   ]
  },
  {
   "cell_type": "code",
   "execution_count": 20,
   "id": "d080af5f-2009-4620-8cc8-4b6aaaa0f298",
   "metadata": {},
   "outputs": [
    {
     "data": {
      "text/plain": [
       "1211870.8"
      ]
     },
     "execution_count": 20,
     "metadata": {},
     "output_type": "execute_result"
    }
   ],
   "source": [
    "trips_stop.shape[0] * 0.2"
   ]
  },
  {
   "cell_type": "code",
   "execution_count": 21,
   "id": "88fcd8b9-7df7-4299-83f3-713ef954694e",
   "metadata": {},
   "outputs": [
    {
     "data": {
      "text/plain": [
       "1294178"
      ]
     },
     "execution_count": 21,
     "metadata": {},
     "output_type": "execute_result"
    }
   ],
   "source": [
    "sum(trips_end_station.iloc[0:20][\"size\"])"
   ]
  },
  {
   "cell_type": "code",
   "execution_count": 22,
   "id": "c4c277bf-d416-474b-9daf-e591bb3a8e82",
   "metadata": {},
   "outputs": [
    {
     "data": {
      "text/plain": [
       "0.2135834942140697"
      ]
     },
     "execution_count": 22,
     "metadata": {},
     "output_type": "execute_result"
    }
   ],
   "source": [
    "sum(trips_end_station.iloc[0:20][\"size\"]) / trips_stop.shape[0]"
   ]
  },
  {
   "cell_type": "code",
   "execution_count": 23,
   "id": "265005aa-0e7b-4354-92cb-b289ce07a35c",
   "metadata": {},
   "outputs": [
    {
     "data": {
      "text/plain": [
       "Text(0, 0.5, 'trip count')"
      ]
     },
     "execution_count": 23,
     "metadata": {},
     "output_type": "execute_result"
    },
    {
     "data": {
      "image/png": "[encoded data removed]",
      "text/plain": [
       "<Figure size 1000x500 with 1 Axes>"
      ]
     },
     "metadata": {},
     "output_type": "display_data"
    }
   ],
   "source": [
    "fig = plt.figure(figsize = (10, 5))\n",
    "\n",
    "plt.bar(trips_end_station[\"end station id\"], trips_end_station[\"size\"], width = 0.5)\n",
    "plt.xlabel(\"end station id\")\n",
    "plt.ylabel(\"trip count\")"
   ]
  },
  {
   "cell_type": "code",
   "execution_count": 24,
   "id": "0bcafb8c-1cef-4ed1-902f-37aa48768a3d",
   "metadata": {},
   "outputs": [],
   "source": [
    "end_station_cluster = cluster_stations(trips_end_station, 20, \"end station id\")"
   ]
  },
  {
   "cell_type": "markdown",
   "id": "45a865be-5f6e-44e6-a259-3ff7227b1e53",
   "metadata": {},
   "source": [
    "Incorporate categories/clusters into DeepAR data format."
   ]
  },
  {
   "cell_type": "code",
   "execution_count": null,
   "id": "35b380b9-9fb6-46ad-aa63-35e098448b54",
   "metadata": {},
   "outputs": [],
   "source": []
  }
 ],
 "metadata": {
  "kernelspec": {
   "display_name": "default:Python",
   "language": "python",
   "name": "conda-env-default-py"
  },
  "language_info": {
   "codemirror_mode": {
    "name": "ipython",
    "version": 3
   },
   "file_extension": ".py",
   "mimetype": "text/x-python",
   "name": "python",
   "nbconvert_exporter": "python",
   "pygments_lexer": "ipython3",
   "version": "3.9.13"
  }
 },
 "nbformat": 4,
 "nbformat_minor": 5
}
