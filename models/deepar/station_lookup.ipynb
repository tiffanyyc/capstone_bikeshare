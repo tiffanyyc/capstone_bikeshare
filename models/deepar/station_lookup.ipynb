{
 "cells": [
  {
   "cell_type": "markdown",
   "id": "de0e735b-9f60-44ae-8d1c-74c297c9b409",
   "metadata": {},
   "source": [
    "## Station Lookup"
   ]
  },
  {
   "cell_type": "code",
   "execution_count": null,
   "id": "05c91daa-4a2c-4a6f-a4d5-9db5471032c9",
   "metadata": {},
   "outputs": [],
   "source": [
    "import pandas as pd"
   ]
  },
  {
   "cell_type": "code",
   "execution_count": null,
   "id": "653ca0b8-3fdf-4f8b-b603-9302e6edb196",
   "metadata": {},
   "outputs": [],
   "source": [
    "bucket = \"\"\n",
    "file = \"cleaned_historical_trips_2015_2022.csv\"\n",
    "\n",
    "s3_data_location = f\"s3://{bucket}/{file}*\"\n",
    "trips = pd.read_csv(s3_data_location, parse_dates = True)\n",
    "trips.shape"
   ]
  },
  {
   "cell_type": "markdown",
   "id": "898ebaf5-74db-4da7-ba41-c1f0374b0c32",
   "metadata": {},
   "source": [
    "Notes:\n",
    "\n",
    "- if \"Washington Sq\" is selected, ID is 402 (previous ID was 451 that expired on 10/15/2020)\n",
    "    - code here: `max(trips_start[(trips_start[\"start station name\"] == \"Washington Sq\") & (trips_start[\"start station id\"] == 451)][\"starttime\"])`\n",
    "- take out station 572 because it didn't make the cut to be included in the trip stop station model (first trip was past the training date cut-off)"
   ]
  },
  {
   "cell_type": "markdown",
   "id": "0928fd6f-c098-4174-ad72-983b953829d4",
   "metadata": {},
   "source": [
    "### Trip Start Station"
   ]
  },
  {
   "cell_type": "code",
   "execution_count": null,
   "id": "001c25bd-20e3-443e-a04e-2d41d26e5b8c",
   "metadata": {},
   "outputs": [],
   "source": [
    "trips_start = trips[(trips[\"starttime\"] > \"2020-08-29\") & (trips[\"starttime\"] < \"2022-09-01\")][[\"starttime\", \"start station name\", \"start station id\"]]\n",
    "trips_start.shape"
   ]
  },
  {
   "cell_type": "code",
   "execution_count": null,
   "id": "fe04a341-b560-4dc1-b305-f27ad6057708",
   "metadata": {},
   "outputs": [],
   "source": [
    "trips_start_lookup = trips_start[[\"start station name\", \"start station id\"]].drop_duplicates().reset_index(drop = True)\n",
    "trips_start_lookup.shape"
   ]
  },
  {
   "cell_type": "code",
   "execution_count": null,
   "id": "22b1a802-b949-4bb1-9b16-ac49ed6b1c2a",
   "metadata": {},
   "outputs": [],
   "source": [
    "trips_start_lookup = trips_start_lookup[trips_start_lookup[\"start station id\"] != 451]\n",
    "trips_start_lookup.shape"
   ]
  },
  {
   "cell_type": "code",
   "execution_count": null,
   "id": "e2a5d052-80b6-4de2-bf87-88250ca60133",
   "metadata": {},
   "outputs": [],
   "source": [
    "print(trips_start_lookup[\"start station name\"].nunique())\n",
    "print(sum(pd.isna(trips_start_lookup[\"start station name\"])))\n",
    "print(trips_start_lookup[\"start station id\"].nunique())\n",
    "print(sum(pd.isna(trips_start_lookup[\"start station id\"])))"
   ]
  },
  {
   "cell_type": "code",
   "execution_count": null,
   "id": "979f48e7-c909-491e-9453-29c7b8cc94f7",
   "metadata": {},
   "outputs": [],
   "source": [
    "#trips_start_lookup.to_csv(\"trips_start_lookup.csv\", index = False)"
   ]
  },
  {
   "cell_type": "markdown",
   "id": "4e681452-ae4c-4f5e-9db6-5f5e880da4e4",
   "metadata": {},
   "source": [
    "### Trip Stop Station"
   ]
  },
  {
   "cell_type": "code",
   "execution_count": null,
   "id": "9442ed8c-a60d-4c9f-a941-2476121e5a5e",
   "metadata": {},
   "outputs": [],
   "source": [
    "trips_stop = trips[(trips[\"stoptime\"] > \"2020-08-29\") & (trips[\"stoptime\"] < \"2022-09-01\")][[\"stoptime\", \"end station name\", \"end station id\"]]\n",
    "trips_stop.shape"
   ]
  },
  {
   "cell_type": "code",
   "execution_count": null,
   "id": "01813061-cb2f-4abb-9bef-6a4f2a477564",
   "metadata": {},
   "outputs": [],
   "source": [
    "trips_stop_lookup = trips_stop[[\"end station name\", \"end station id\"]].drop_duplicates().reset_index(drop = True)\n",
    "trips_stop_lookup.shape"
   ]
  },
  {
   "cell_type": "code",
   "execution_count": null,
   "id": "1d96477c-bd72-427c-87d6-8b901d456611",
   "metadata": {},
   "outputs": [],
   "source": [
    "trips_stop_lookup = trips_stop_lookup[trips_stop_lookup[\"end station id\"] != 451]\n",
    "trips_stop_lookup.shape"
   ]
  },
  {
   "cell_type": "code",
   "execution_count": null,
   "id": "871434f0-e90b-4f21-9f78-bdde935d7131",
   "metadata": {},
   "outputs": [],
   "source": [
    "print(trips_stop_lookup[\"end station name\"].nunique())\n",
    "print(sum(pd.isna(trips_stop_lookup[\"end station name\"])))\n",
    "print(trips_stop_lookup[\"end station id\"].nunique())\n",
    "print(sum(pd.isna(trips_stop_lookup[\"end station id\"])))"
   ]
  },
  {
   "cell_type": "code",
   "execution_count": null,
   "id": "14472ca3-5e66-45d3-8ecf-ff2787890c51",
   "metadata": {},
   "outputs": [],
   "source": [
    "#trips_stop_lookup.to_csv(\"trips_stop_lookup.csv\", index = False)"
   ]
  },
  {
   "cell_type": "markdown",
   "id": "23595d8e-412e-4737-bda6-3ff8bff741a9",
   "metadata": {},
   "source": [
    "### Combine"
   ]
  },
  {
   "cell_type": "code",
   "execution_count": null,
   "id": "dd4a7ba9-6650-4975-81c5-d6f2bf834084",
   "metadata": {},
   "outputs": [],
   "source": [
    "trips_start_lookup.columns = [\"station name\", \"station id\"]"
   ]
  },
  {
   "cell_type": "code",
   "execution_count": null,
   "id": "d5cfd5f9-80c0-4811-9266-f5e971a7bbd7",
   "metadata": {},
   "outputs": [],
   "source": [
    "trips_stop_lookup.columns = [\"station name\", \"station id\"]"
   ]
  },
  {
   "cell_type": "code",
   "execution_count": null,
   "id": "51507c2c-7cba-469e-be1c-7cb51fe18df7",
   "metadata": {},
   "outputs": [],
   "source": [
    "trips_lookup = pd.concat([trips_start_lookup, trips_stop_lookup], ignore_index = True, axis = 0).drop_duplicates().reset_index(drop = True)\n",
    "trips_lookup.shape"
   ]
  },
  {
   "cell_type": "code",
   "execution_count": null,
   "id": "24966e82-7536-408b-b61c-9d43db564121",
   "metadata": {},
   "outputs": [],
   "source": [
    "trips_lookup = trips_lookup[trips_lookup[\"station id\"] != 572]\n",
    "trips_lookup.shape"
   ]
  },
  {
   "cell_type": "code",
   "execution_count": null,
   "id": "015930cd-5d0f-4f77-9d0d-1594de2b3cac",
   "metadata": {},
   "outputs": [],
   "source": [
    "trips_lookup.to_csv(\"trips_lookup.csv\", index = False)"
   ]
  },
  {
   "cell_type": "code",
   "execution_count": null,
   "id": "845b4f1e-bacd-4e5a-b6ab-9d806564cb8c",
   "metadata": {},
   "outputs": [],
   "source": []
  }
 ],
 "metadata": {
  "kernelspec": {
   "display_name": "default:Python",
   "language": "python",
   "name": "conda-env-default-py"
  },
  "language_info": {
   "codemirror_mode": {
    "name": "ipython",
    "version": 3
   },
   "file_extension": ".py",
   "mimetype": "text/x-python",
   "name": "python",
   "nbconvert_exporter": "python",
   "pygments_lexer": "ipython3",
   "version": "3.9.13"
  }
 },
 "nbformat": 4,
 "nbformat_minor": 5
}
