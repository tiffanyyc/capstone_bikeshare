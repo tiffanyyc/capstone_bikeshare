{
  "nbformat": 4,
  "nbformat_minor": 0,
  "metadata": {
    "colab": {
      "provenance": []
    },
    "kernelspec": {
      "name": "python3",
      "display_name": "Python 3"
    },
    "language_info": {
      "name": "python"
    }
  },
  "cells": [
    {
      "cell_type": "markdown",
      "source": [
        "### Imports"
      ],
      "metadata": {
        "id": "ljnlIOfFnudI"
      }
    },
    {
      "cell_type": "code",
      "source": [
        "import numpy as np\n",
        "import matplotlib.pyplot as plt\n",
        "import pandas as pd\n",
        "import tensorflow as tf\n",
        "from tensorflow.keras.models import Sequential\n",
        "from tensorflow.keras.layers import Dense\n",
        "from tensorflow.keras.layers import LSTM\n",
        "from sklearn.preprocessing import MinMaxScaler\n",
        "from sklearn.metrics import mean_squared_error"
      ],
      "metadata": {
        "id": "w_SCKkU6G2gx"
      },
      "execution_count": 1,
      "outputs": []
    },
    {
      "cell_type": "markdown",
      "source": [
        "### Load train and test dataframe"
      ],
      "metadata": {
        "id": "hDF-CcjhjjPt"
      }
    },
    {
      "cell_type": "code",
      "source": [
        "train_df = pd.read_csv('train_df_2022_08_28.csv')\n",
        "test_df = pd.read_csv('test_df_2022_08.csv')"
      ],
      "metadata": {
        "id": "VQAStYosezQH"
      },
      "execution_count": 2,
      "outputs": []
    },
    {
      "cell_type": "code",
      "source": [
        "# limit to just one station\n",
        "train_df_subset = train_df[train_df['station'] == 16]\n",
        "test_df_subset = test_df[test_df['station'] == 16]"
      ],
      "metadata": {
        "id": "6ltmel6-eqkA"
      },
      "execution_count": 3,
      "outputs": []
    },
    {
      "cell_type": "code",
      "source": [
        "# fix random seed for reproducibility\n",
        "tf.random.set_seed(7)"
      ],
      "metadata": {
        "id": "ToNKYd0qG3PH"
      },
      "execution_count": 4,
      "outputs": []
    },
    {
      "cell_type": "markdown",
      "source": [
        "## Split train and test datasets"
      ],
      "metadata": {
        "id": "YMLLh8NWjox4"
      }
    },
    {
      "cell_type": "code",
      "source": [
        "pd.read_csv('train_df_2022_08_28.csv')"
      ],
      "metadata": {
        "colab": {
          "base_uri": "https://localhost:8080/",
          "height": 679
        },
        "id": "QeW_DL4wkYiP",
        "outputId": "3e6f9595-dead-4652-fb52-5bdb9eb462b5"
      },
      "execution_count": 5,
      "outputs": [
        {
          "output_type": "execute_result",
          "data": {
            "text/plain": [
              "       Unnamed: 0  station      prediction_time  prediction_window  \\\n",
              "0               0        1  2022-08-28 00:15:00                 15   \n",
              "1               1        1  2022-08-28 00:30:00                 15   \n",
              "2               2        1  2022-08-28 00:45:00                 15   \n",
              "3               3        1  2022-08-28 01:00:00                 15   \n",
              "4               4        1  2022-08-28 01:15:00                 15   \n",
              "...           ...      ...                  ...                ...   \n",
              "47875       47875      572  2022-08-28 22:45:00                 15   \n",
              "47876       47876      572  2022-08-28 23:00:00                 15   \n",
              "47877       47877      572  2022-08-28 23:15:00                 15   \n",
              "47878       47878      572  2022-08-28 23:30:00                 15   \n",
              "47879       47879      572  2022-08-28 23:45:00                 15   \n",
              "\n",
              "       number_of_bikes_left  number_of_bikes_returned  net_difference  \n",
              "0                         0                         0               0  \n",
              "1                         0                         0               0  \n",
              "2                         0                         0               0  \n",
              "3                         0                         0               0  \n",
              "4                         0                         0               0  \n",
              "...                     ...                       ...             ...  \n",
              "47875                     0                         0               0  \n",
              "47876                     0                         0               0  \n",
              "47877                     0                         0               0  \n",
              "47878                     0                         0               0  \n",
              "47879                     0                         0               0  \n",
              "\n",
              "[47880 rows x 7 columns]"
            ],
            "text/html": [
              "\n",
              "  <div id=\"df-f845895e-35ae-4b9c-bd9c-93de2263a5d2\">\n",
              "    <div class=\"colab-df-container\">\n",
              "      <div>\n",
              "<style scoped>\n",
              "    .dataframe tbody tr th:only-of-type {\n",
              "        vertical-align: middle;\n",
              "    }\n",
              "\n",
              "    .dataframe tbody tr th {\n",
              "        vertical-align: top;\n",
              "    }\n",
              "\n",
              "    .dataframe thead th {\n",
              "        text-align: right;\n",
              "    }\n",
              "</style>\n",
              "<table border=\"1\" class=\"dataframe\">\n",
              "  <thead>\n",
              "    <tr style=\"text-align: right;\">\n",
              "      <th></th>\n",
              "      <th>Unnamed: 0</th>\n",
              "      <th>station</th>\n",
              "      <th>prediction_time</th>\n",
              "      <th>prediction_window</th>\n",
              "      <th>number_of_bikes_left</th>\n",
              "      <th>number_of_bikes_returned</th>\n",
              "      <th>net_difference</th>\n",
              "    </tr>\n",
              "  </thead>\n",
              "  <tbody>\n",
              "    <tr>\n",
              "      <th>0</th>\n",
              "      <td>0</td>\n",
              "      <td>1</td>\n",
              "      <td>2022-08-28 00:15:00</td>\n",
              "      <td>15</td>\n",
              "      <td>0</td>\n",
              "      <td>0</td>\n",
              "      <td>0</td>\n",
              "    </tr>\n",
              "    <tr>\n",
              "      <th>1</th>\n",
              "      <td>1</td>\n",
              "      <td>1</td>\n",
              "      <td>2022-08-28 00:30:00</td>\n",
              "      <td>15</td>\n",
              "      <td>0</td>\n",
              "      <td>0</td>\n",
              "      <td>0</td>\n",
              "    </tr>\n",
              "    <tr>\n",
              "      <th>2</th>\n",
              "      <td>2</td>\n",
              "      <td>1</td>\n",
              "      <td>2022-08-28 00:45:00</td>\n",
              "      <td>15</td>\n",
              "      <td>0</td>\n",
              "      <td>0</td>\n",
              "      <td>0</td>\n",
              "    </tr>\n",
              "    <tr>\n",
              "      <th>3</th>\n",
              "      <td>3</td>\n",
              "      <td>1</td>\n",
              "      <td>2022-08-28 01:00:00</td>\n",
              "      <td>15</td>\n",
              "      <td>0</td>\n",
              "      <td>0</td>\n",
              "      <td>0</td>\n",
              "    </tr>\n",
              "    <tr>\n",
              "      <th>4</th>\n",
              "      <td>4</td>\n",
              "      <td>1</td>\n",
              "      <td>2022-08-28 01:15:00</td>\n",
              "      <td>15</td>\n",
              "      <td>0</td>\n",
              "      <td>0</td>\n",
              "      <td>0</td>\n",
              "    </tr>\n",
              "    <tr>\n",
              "      <th>...</th>\n",
              "      <td>...</td>\n",
              "      <td>...</td>\n",
              "      <td>...</td>\n",
              "      <td>...</td>\n",
              "      <td>...</td>\n",
              "      <td>...</td>\n",
              "      <td>...</td>\n",
              "    </tr>\n",
              "    <tr>\n",
              "      <th>47875</th>\n",
              "      <td>47875</td>\n",
              "      <td>572</td>\n",
              "      <td>2022-08-28 22:45:00</td>\n",
              "      <td>15</td>\n",
              "      <td>0</td>\n",
              "      <td>0</td>\n",
              "      <td>0</td>\n",
              "    </tr>\n",
              "    <tr>\n",
              "      <th>47876</th>\n",
              "      <td>47876</td>\n",
              "      <td>572</td>\n",
              "      <td>2022-08-28 23:00:00</td>\n",
              "      <td>15</td>\n",
              "      <td>0</td>\n",
              "      <td>0</td>\n",
              "      <td>0</td>\n",
              "    </tr>\n",
              "    <tr>\n",
              "      <th>47877</th>\n",
              "      <td>47877</td>\n",
              "      <td>572</td>\n",
              "      <td>2022-08-28 23:15:00</td>\n",
              "      <td>15</td>\n",
              "      <td>0</td>\n",
              "      <td>0</td>\n",
              "      <td>0</td>\n",
              "    </tr>\n",
              "    <tr>\n",
              "      <th>47878</th>\n",
              "      <td>47878</td>\n",
              "      <td>572</td>\n",
              "      <td>2022-08-28 23:30:00</td>\n",
              "      <td>15</td>\n",
              "      <td>0</td>\n",
              "      <td>0</td>\n",
              "      <td>0</td>\n",
              "    </tr>\n",
              "    <tr>\n",
              "      <th>47879</th>\n",
              "      <td>47879</td>\n",
              "      <td>572</td>\n",
              "      <td>2022-08-28 23:45:00</td>\n",
              "      <td>15</td>\n",
              "      <td>0</td>\n",
              "      <td>0</td>\n",
              "      <td>0</td>\n",
              "    </tr>\n",
              "  </tbody>\n",
              "</table>\n",
              "<p>47880 rows × 7 columns</p>\n",
              "</div>\n",
              "      <button class=\"colab-df-convert\" onclick=\"convertToInteractive('df-f845895e-35ae-4b9c-bd9c-93de2263a5d2')\"\n",
              "              title=\"Convert this dataframe to an interactive table.\"\n",
              "              style=\"display:none;\">\n",
              "        \n",
              "  <svg xmlns=\"http://www.w3.org/2000/svg\" height=\"24px\"viewBox=\"0 0 24 24\"\n",
              "       width=\"24px\">\n",
              "    <path d=\"M0 0h24v24H0V0z\" fill=\"none\"/>\n",
              "    <path d=\"M18.56 5.44l.94 2.06.94-2.06 2.06-.94-2.06-.94-.94-2.06-.94 2.06-2.06.94zm-11 1L8.5 8.5l.94-2.06 2.06-.94-2.06-.94L8.5 2.5l-.94 2.06-2.06.94zm10 10l.94 2.06.94-2.06 2.06-.94-2.06-.94-.94-2.06-.94 2.06-2.06.94z\"/><path d=\"M17.41 7.96l-1.37-1.37c-.4-.4-.92-.59-1.43-.59-.52 0-1.04.2-1.43.59L10.3 9.45l-7.72 7.72c-.78.78-.78 2.05 0 2.83L4 21.41c.39.39.9.59 1.41.59.51 0 1.02-.2 1.41-.59l7.78-7.78 2.81-2.81c.8-.78.8-2.07 0-2.86zM5.41 20L4 18.59l7.72-7.72 1.47 1.35L5.41 20z\"/>\n",
              "  </svg>\n",
              "      </button>\n",
              "      \n",
              "  <style>\n",
              "    .colab-df-container {\n",
              "      display:flex;\n",
              "      flex-wrap:wrap;\n",
              "      gap: 12px;\n",
              "    }\n",
              "\n",
              "    .colab-df-convert {\n",
              "      background-color: #E8F0FE;\n",
              "      border: none;\n",
              "      border-radius: 50%;\n",
              "      cursor: pointer;\n",
              "      display: none;\n",
              "      fill: #1967D2;\n",
              "      height: 32px;\n",
              "      padding: 0 0 0 0;\n",
              "      width: 32px;\n",
              "    }\n",
              "\n",
              "    .colab-df-convert:hover {\n",
              "      background-color: #E2EBFA;\n",
              "      box-shadow: 0px 1px 2px rgba(60, 64, 67, 0.3), 0px 1px 3px 1px rgba(60, 64, 67, 0.15);\n",
              "      fill: #174EA6;\n",
              "    }\n",
              "\n",
              "    [theme=dark] .colab-df-convert {\n",
              "      background-color: #3B4455;\n",
              "      fill: #D2E3FC;\n",
              "    }\n",
              "\n",
              "    [theme=dark] .colab-df-convert:hover {\n",
              "      background-color: #434B5C;\n",
              "      box-shadow: 0px 1px 3px 1px rgba(0, 0, 0, 0.15);\n",
              "      filter: drop-shadow(0px 1px 2px rgba(0, 0, 0, 0.3));\n",
              "      fill: #FFFFFF;\n",
              "    }\n",
              "  </style>\n",
              "\n",
              "      <script>\n",
              "        const buttonEl =\n",
              "          document.querySelector('#df-f845895e-35ae-4b9c-bd9c-93de2263a5d2 button.colab-df-convert');\n",
              "        buttonEl.style.display =\n",
              "          google.colab.kernel.accessAllowed ? 'block' : 'none';\n",
              "\n",
              "        async function convertToInteractive(key) {\n",
              "          const element = document.querySelector('#df-f845895e-35ae-4b9c-bd9c-93de2263a5d2');\n",
              "          const dataTable =\n",
              "            await google.colab.kernel.invokeFunction('convertToInteractive',\n",
              "                                                     [key], {});\n",
              "          if (!dataTable) return;\n",
              "\n",
              "          const docLinkHtml = 'Like what you see? Visit the ' +\n",
              "            '<a target=\"_blank\" href=https://colab.research.google.com/notebooks/data_table.ipynb>data table notebook</a>'\n",
              "            + ' to learn more about interactive tables.';\n",
              "          element.innerHTML = '';\n",
              "          dataTable['output_type'] = 'display_data';\n",
              "          await google.colab.output.renderOutput(dataTable, element);\n",
              "          const docLink = document.createElement('div');\n",
              "          docLink.innerHTML = docLinkHtml;\n",
              "          element.appendChild(docLink);\n",
              "        }\n",
              "      </script>\n",
              "    </div>\n",
              "  </div>\n",
              "  "
            ]
          },
          "metadata": {},
          "execution_count": 5
        }
      ]
    },
    {
      "cell_type": "code",
      "source": [
        "train_dataframe = pd.read_csv('train_df_2022_08_28.csv', usecols=[5], engine='python')\n",
        "test_dataframe = pd.read_csv('test_df_2022_08.csv', usecols=[5], engine='python')\n",
        "dataframe = pd.concat([train_dataframe, test_dataframe])"
      ],
      "metadata": {
        "id": "nT5GAKo_fyBX"
      },
      "execution_count": 14,
      "outputs": []
    },
    {
      "cell_type": "code",
      "source": [
        "# load the dataset\n",
        "# dataframe = pd.read_csv('train_df_2022_08_28.csv', usecols=[5], engine='python')\n",
        "dataset = dataframe.values\n",
        "dataset = dataset.astype('float32')"
      ],
      "metadata": {
        "id": "E0SZ-C0IHL4Y"
      },
      "execution_count": 15,
      "outputs": []
    },
    {
      "cell_type": "code",
      "source": [
        "# normalize the dataset\n",
        "scaler = MinMaxScaler(feature_range=(0, 1))\n",
        "dataset = scaler.fit_transform(dataset)"
      ],
      "metadata": {
        "id": "XPh7YoCdHNci"
      },
      "execution_count": 16,
      "outputs": []
    },
    {
      "cell_type": "code",
      "source": [
        "# split into train and test sets\n",
        "train_size = 47880 # the number of rows in the training dataset \n",
        "test_size = len(dataset) - train_size\n",
        "train, test = dataset[0:train_size,:], dataset[train_size:len(dataset),:]\n",
        "print(len(train), len(test))"
      ],
      "metadata": {
        "colab": {
          "base_uri": "https://localhost:8080/"
        },
        "id": "hjaO6cBIHPLp",
        "outputId": "be94a105-d8a2-4e95-8b58-44c804195959"
      },
      "execution_count": 17,
      "outputs": [
        {
          "output_type": "stream",
          "name": "stdout",
          "text": [
            "47880 144648\n"
          ]
        }
      ]
    },
    {
      "cell_type": "code",
      "source": [
        "# convert an array of values into a dataset matrix\n",
        "def create_dataset(dataset, look_back=1):\n",
        "\tdataX, dataY = [], []\n",
        "\tfor i in range(len(dataset)-look_back-1):\n",
        "\t\ta = dataset[i:(i+look_back), 0]\n",
        "\t\tdataX.append(a)\n",
        "\t\tdataY.append(dataset[i + look_back, 0])\n",
        "\treturn np.array(dataX), np.array(dataY)"
      ],
      "metadata": {
        "id": "XAJOqrpEHRBl"
      },
      "execution_count": 18,
      "outputs": []
    },
    {
      "cell_type": "code",
      "source": [
        "# reshape into X=t and Y=t+1\n",
        "look_back = 1\n",
        "trainX, trainY = create_dataset(train, look_back)\n",
        "testX, testY = create_dataset(test, look_back)\n"
      ],
      "metadata": {
        "id": "syqzP3-sHVjR"
      },
      "execution_count": 19,
      "outputs": []
    },
    {
      "cell_type": "markdown",
      "source": [
        "It takes 50s per epoch, for just 1 day of data for training. There are also 504 stations.\n",
        "\n",
        "Each model takes 50*3 ~= 4 minutes.\n",
        "\n",
        "(4*504)/60 = 33.6 hours = 8 full days"
      ],
      "metadata": {
        "id": "DQU6V7Hag8xL"
      }
    },
    {
      "cell_type": "markdown",
      "source": [
        "## Building and evaluating model\n",
        "\n",
        "The model performance is better than the baseline.\n",
        "\n",
        "RMSE is "
      ],
      "metadata": {
        "id": "G5SFz9K8kKJv"
      }
    },
    {
      "cell_type": "code",
      "source": [
        "# create and fit the LSTM network\n",
        "model = Sequential()\n",
        "model.add(LSTM(4, input_shape=(1, look_back)))\n",
        "model.add(Dense(1))\n",
        "model.compile(loss='mean_squared_error', optimizer='adam')\n",
        "model.fit(trainX, trainY, epochs=2, batch_size=1, verbose=2)"
      ],
      "metadata": {
        "colab": {
          "base_uri": "https://localhost:8080/"
        },
        "id": "FxBWSSsQHSZR",
        "outputId": "16a78b77-19e6-4156-d29c-d85a9c914d1e"
      },
      "execution_count": 20,
      "outputs": [
        {
          "output_type": "stream",
          "name": "stdout",
          "text": [
            "Epoch 1/2\n",
            "47878/47878 - 49s - loss: 0.0020 - 49s/epoch - 1ms/step\n",
            "Epoch 2/2\n",
            "47878/47878 - 48s - loss: 0.0019 - 48s/epoch - 1ms/step\n"
          ]
        },
        {
          "output_type": "execute_result",
          "data": {
            "text/plain": [
              "<keras.callbacks.History at 0x7f1239d68c50>"
            ]
          },
          "metadata": {},
          "execution_count": 20
        }
      ]
    },
    {
      "cell_type": "code",
      "source": [
        "# make predictions\n",
        "trainPredict = model.predict(trainX)\n",
        "testPredict = model.predict(testX)\n",
        "# invert predictions\n",
        "trainPredict = scaler.inverse_transform(trainPredict)\n",
        "trainY = scaler.inverse_transform([trainY])\n",
        "testPredict = scaler.inverse_transform(testPredict)\n",
        "testY = scaler.inverse_transform([testY])\n",
        "# calculate root mean squared error\n",
        "trainScore = np.sqrt(mean_squared_error(trainY[0], trainPredict[:,0]))\n",
        "print('Train Score: %.2f RMSE' % (trainScore))\n",
        "testScore = np.sqrt(mean_squared_error(testY[0], testPredict[:,0]))\n",
        "print('Test Score: %.2f RMSE' % (testScore))"
      ],
      "metadata": {
        "colab": {
          "base_uri": "https://localhost:8080/"
        },
        "id": "8kiqMrSbHfbn",
        "outputId": "b9fa64e2-6888-4886-eef8-a805b53dd8d1"
      },
      "execution_count": 22,
      "outputs": [
        {
          "output_type": "stream",
          "name": "stdout",
          "text": [
            "1497/1497 [==============================] - 2s 934us/step\n",
            "4521/4521 [==============================] - 4s 915us/step\n",
            "Train Score: 1.05 RMSE\n",
            "Test Score: 0.92 RMSE\n"
          ]
        }
      ]
    },
    {
      "cell_type": "markdown",
      "source": [
        "### Station 16 results\n",
        "* RMSE LSTM: 0.92\n",
        "* RMSE Baseline: 1.91"
      ],
      "metadata": {
        "id": "rrFCyL6PmAiI"
      }
    },
    {
      "cell_type": "code",
      "source": [],
      "metadata": {
        "id": "bvHf8ao2n54f"
      },
      "execution_count": null,
      "outputs": []
    }
  ]
}