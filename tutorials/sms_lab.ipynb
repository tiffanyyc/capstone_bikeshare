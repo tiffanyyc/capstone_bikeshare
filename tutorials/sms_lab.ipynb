{
 "cells": [
  {
   "cell_type": "markdown",
   "id": "a84a41f0-51bd-46f8-8e3e-fba502435e26",
   "metadata": {},
   "source": [
    "### SMS Lab Setup"
   ]
  },
  {
   "cell_type": "markdown",
   "id": "6bd19bb9-1f0e-4dd2-9a8c-538d8a1955d3",
   "metadata": {},
   "source": [
    "**1. IAM User Setup**\n",
    "\n",
    "1. Open a Terminal window to configure your AWS IAM admin user account.\n",
    "2. Enter `aws configure` and enter in your IAM user credentials when prompted.\n",
    "    - default region should be `us-east-1` because our bucket is in that region\n",
    "    - default output format can be `json`\n",
    "3. Check everything is set up correctly by running `aws s3 ls` to show a list of all s3 buckets in your account."
   ]
  },
  {
   "cell_type": "markdown",
   "id": "0a6e0999-515d-4119-bcd5-15999b3b2427",
   "metadata": {},
   "source": [
    "**2. Git Setup**\n",
    "\n",
    "1. Open a Terminal window.\n",
    "2. Make sure you are in the home/base directory (`(studiolab) studio-lab-user@default:~$`).\n",
    "3. Run `git clone https://github.com/tiffanyyc/capstone_bikeshare.git` to clone repo."
   ]
  },
  {
   "cell_type": "markdown",
   "id": "aee4e833-8a9d-428d-9728-8fb74ed21c17",
   "metadata": {},
   "source": [
    "**3. Using Data from Target S3 Bucket**"
   ]
  },
  {
   "cell_type": "code",
   "execution_count": null,
   "id": "4046a83a-3242-4434-a8a6-dbb6eab2fd08",
   "metadata": {},
   "outputs": [],
   "source": [
    "#%pip install awswrangler #uncomment to install\n",
    "import awswrangler as wr"
   ]
  },
  {
   "cell_type": "code",
   "execution_count": null,
   "id": "dbbe86b3-b5a4-4035-8056-117b4b1db1fb",
   "metadata": {},
   "outputs": [],
   "source": [
    "bucket = \"\" #put target bucket name here\n",
    "folder = \"\"\n",
    "file = \"\"\n",
    "\n",
    "s3_sample_data_location = f\"s3://{bucket}/{folder}/{file}*\"\n",
    "df = wr.s3.read_csv(path = s3_sample_data_location)"
   ]
  },
  {
   "cell_type": "code",
   "execution_count": null,
   "id": "e53455bb-049a-4561-aabc-d9f226e29c55",
   "metadata": {},
   "outputs": [],
   "source": [
    "df"
   ]
  },
  {
   "cell_type": "markdown",
   "id": "96ae5299-5911-4cd0-8fd5-aa7c86d4e0a7",
   "metadata": {},
   "source": [
    "**4. Uploading Data to Target S3 Bucket**\n",
    "\n",
    "Use this step if you want to save intermittent files that you do not want to share with everyone else. See step 6 for uploading files to the central/storage S3 bucket, which will replicate and share the file(s) to everyone.\n",
    "\n",
    "1. Open a Terminal window.\n",
    "2. Enter `aws s3 cp [fileName] s3://targetBucketName/folderName/[fileName]`"
   ]
  },
  {
   "cell_type": "markdown",
   "id": "739c0af6-3803-4e23-b43f-bdd3d18e1f14",
   "metadata": {},
   "source": [
    "**5. Uploading Data to Central/Storage S3 Bucket**\n",
    "\n",
    "1. Open a Terminal window to configure your AWS IAM S3 user account.\n",
    "2. Enter `aws configure --profile storage-user` and enter in your IAM user credentials when prompted.\n",
    "    - default region should be `us-east-1` because our bucket is in that region\n",
    "    - default output format can be `json`\n",
    "3. Enter `more ~/.aws/config` to check your configurations. There should be one for your default account from the IAM user on your own account and a second one called \"storage-user\" from the IAM S3 user account.\n",
    "4. Enter `aws s3 cp [fileName] s3://sourceBucketName/folderName/[fileName] --profile storage-user`"
   ]
  },
  {
   "cell_type": "code",
   "execution_count": null,
   "id": "14550584-8658-4c6c-b7d8-47432cbb1456",
   "metadata": {},
   "outputs": [],
   "source": []
  }
 ],
 "metadata": {
  "kernelspec": {
   "display_name": "default:Python",
   "language": "python",
   "name": "conda-env-default-py"
  },
  "language_info": {
   "codemirror_mode": {
    "name": "ipython",
    "version": 3
   },
   "file_extension": ".py",
   "mimetype": "text/x-python",
   "name": "python",
   "nbconvert_exporter": "python",
   "pygments_lexer": "ipython3",
   "version": "3.9.13"
  }
 },
 "nbformat": 4,
 "nbformat_minor": 5
}
