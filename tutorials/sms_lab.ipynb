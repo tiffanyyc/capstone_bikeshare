{
 "cells": [
  {
   "cell_type": "markdown",
   "id": "a84a41f0-51bd-46f8-8e3e-fba502435e26",
   "metadata": {},
   "source": [
    "### SMS Lab Setup"
   ]
  },
  {
   "cell_type": "markdown",
   "id": "6bd19bb9-1f0e-4dd2-9a8c-538d8a1955d3",
   "metadata": {},
   "source": [
    "**1. IAM User Setup**\n",
    "\n",
    "1. Open a Terminal window to configure your AWS account.\n",
    "2. Enter `aws configure` and enter in your IAM user credentials when prompted.\n",
    "    - default region should be `us-east-1` because our bucket is in that region\n",
    "    - default output format can be `json`\n",
    "3. Check everything is set up correctly by running `aws s3 ls` to show a list of all s3 buckets in your account."
   ]
  },
  {
   "cell_type": "markdown",
   "id": "0a6e0999-515d-4119-bcd5-15999b3b2427",
   "metadata": {},
   "source": [
    "**2. Git Setup**\n",
    "\n",
    "1. Open a Terminal window.\n",
    "2. Make sure you are in the home/base directory (`(studiolab) studio-lab-user@default:~$`).\n",
    "3. Run `git clone https://github.com/tiffanyyc/capstone_bikeshare.git` to clone repo."
   ]
  },
  {
   "cell_type": "markdown",
   "id": "1f7eb442-bae0-4987-bec8-f7f0e1f2bf11",
   "metadata": {},
   "source": [
    "**3. Connecting Notebook to AWS S3**"
   ]
  },
  {
   "cell_type": "code",
   "execution_count": null,
   "id": "98ab48f0-97db-45aa-98eb-91fb40ac8c11",
   "metadata": {},
   "outputs": [],
   "source": [
    "profile_name = \"default\"\n",
    "region_name = \"us-east-1\""
   ]
  },
  {
   "cell_type": "code",
   "execution_count": null,
   "id": "9fef02ca-bffe-4afa-930c-a9ac573d7102",
   "metadata": {},
   "outputs": [],
   "source": [
    "#%pip install boto3 #uncomment to install\n",
    "import logging\n",
    "import boto3\n",
    "from botocore.exceptions import ClientError"
   ]
  },
  {
   "cell_type": "code",
   "execution_count": null,
   "id": "9e7b7a7b-325b-42d0-bac4-6d4f0231a316",
   "metadata": {},
   "outputs": [],
   "source": [
    "session = boto3.Session(profile_name = profile_name)\n",
    "s3 = session.client(\"s3\", region_name = region_name)"
   ]
  },
  {
   "cell_type": "code",
   "execution_count": null,
   "id": "c1d30199-7a22-42c7-89b5-17a422be7884",
   "metadata": {},
   "outputs": [],
   "source": [
    "s3_bucket_names = []\n",
    "\n",
    "if s3 is None:\n",
    "    print(\"failed to get s3 client\")\n",
    "\n",
    "try:\n",
    "    response = s3.list_buckets()\n",
    "    if \"Buckets\" in response:\n",
    "        for bucket in response[\"Buckets\"]:\n",
    "            s3_bucket_names.append(bucket[\"Name\"])\n",
    "            \n",
    "except ClientError as e:\n",
    "    logging.error(\"unexpected error\")\n",
    "    logging.exception(e)\n",
    "    \n",
    "print(s3_bucket_names)"
   ]
  },
  {
   "cell_type": "markdown",
   "id": "aee4e833-8a9d-428d-9728-8fb74ed21c17",
   "metadata": {},
   "source": [
    "**Using Data from S3**"
   ]
  },
  {
   "cell_type": "code",
   "execution_count": null,
   "id": "4046a83a-3242-4434-a8a6-dbb6eab2fd08",
   "metadata": {},
   "outputs": [],
   "source": [
    "#%pip install awswrangler #uncomment to install\n",
    "import awswrangler as wr"
   ]
  },
  {
   "cell_type": "code",
   "execution_count": null,
   "id": "dbbe86b3-b5a4-4035-8056-117b4b1db1fb",
   "metadata": {},
   "outputs": [],
   "source": [
    "bucket = \"\" #put bucket name here\n",
    "prefix = \"data\"\n",
    "\n",
    "s3_sample_data_location = f\"s3://{bucket}/{prefix}/bank-additional/bank-additional.csv*\"\n",
    "df = wr.s3.read_csv(path = s3_sample_data_location)"
   ]
  },
  {
   "cell_type": "code",
   "execution_count": null,
   "id": "e53455bb-049a-4561-aabc-d9f226e29c55",
   "metadata": {},
   "outputs": [],
   "source": [
    "df"
   ]
  },
  {
   "cell_type": "code",
   "execution_count": null,
   "id": "235dcc66-cf6d-42b6-bf40-a8b13df69162",
   "metadata": {},
   "outputs": [],
   "source": []
  }
 ],
 "metadata": {
  "kernelspec": {
   "display_name": "default:Python",
   "language": "python",
   "name": "conda-env-default-py"
  },
  "language_info": {
   "codemirror_mode": {
    "name": "ipython",
    "version": 3
   },
   "file_extension": ".py",
   "mimetype": "text/x-python",
   "name": "python",
   "nbconvert_exporter": "python",
   "pygments_lexer": "ipython3",
   "version": "3.9.13"
  }
 },
 "nbformat": 4,
 "nbformat_minor": 5
}
